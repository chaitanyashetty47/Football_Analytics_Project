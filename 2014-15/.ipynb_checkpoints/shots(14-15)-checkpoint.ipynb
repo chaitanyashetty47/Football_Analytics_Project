{
 "cells": [
  {
   "cell_type": "code",
   "execution_count": 1,
   "id": "06a68528",
   "metadata": {},
   "outputs": [],
   "source": [
    "import pandas as pd\n",
    "import matplotlib.pyplot as plt\n",
    "from soccerplots.radar_chart import Radar\n",
    "from mplsoccer import Radar, FontManager\n",
    "import matplotlib.pyplot as plt"
   ]
  },
  {
   "cell_type": "code",
   "execution_count": 2,
   "id": "1089e437",
   "metadata": {},
   "outputs": [],
   "source": [
    "df = pd.read_csv('C:\\\\Users\\\\Amin\\\\Documents\\\\manutd(2012-2021)\\\\shots(15-16).csv')"
   ]
  },
  {
   "cell_type": "code",
   "execution_count": 3,
   "id": "3c40c1eb",
   "metadata": {},
   "outputs": [
    {
     "data": {
      "text/html": [
       "<div>\n",
       "<style scoped>\n",
       "    .dataframe tbody tr th:only-of-type {\n",
       "        vertical-align: middle;\n",
       "    }\n",
       "\n",
       "    .dataframe tbody tr th {\n",
       "        vertical-align: top;\n",
       "    }\n",
       "\n",
       "    .dataframe thead th {\n",
       "        text-align: right;\n",
       "    }\n",
       "</style>\n",
       "<table border=\"1\" class=\"dataframe\">\n",
       "  <thead>\n",
       "    <tr style=\"text-align: right;\">\n",
       "      <th></th>\n",
       "      <th>Squad</th>\n",
       "      <th>Players used</th>\n",
       "      <th>90s</th>\n",
       "      <th>Gls</th>\n",
       "      <th>SoT</th>\n",
       "      <th>SoT/90</th>\n",
       "      <th>G/SoT</th>\n",
       "      <th>PK</th>\n",
       "      <th>PKatt</th>\n",
       "    </tr>\n",
       "  </thead>\n",
       "  <tbody>\n",
       "    <tr>\n",
       "      <th>0</th>\n",
       "      <td>Arsenal</td>\n",
       "      <td>25</td>\n",
       "      <td>38</td>\n",
       "      <td>62</td>\n",
       "      <td>210</td>\n",
       "      <td>5.53</td>\n",
       "      <td>0.29</td>\n",
       "      <td>1</td>\n",
       "      <td>2</td>\n",
       "    </tr>\n",
       "    <tr>\n",
       "      <th>1</th>\n",
       "      <td>Aston Villa</td>\n",
       "      <td>29</td>\n",
       "      <td>38</td>\n",
       "      <td>24</td>\n",
       "      <td>110</td>\n",
       "      <td>2.89</td>\n",
       "      <td>0.20</td>\n",
       "      <td>2</td>\n",
       "      <td>2</td>\n",
       "    </tr>\n",
       "    <tr>\n",
       "      <th>2</th>\n",
       "      <td>Bournemouth</td>\n",
       "      <td>28</td>\n",
       "      <td>38</td>\n",
       "      <td>43</td>\n",
       "      <td>143</td>\n",
       "      <td>3.76</td>\n",
       "      <td>0.28</td>\n",
       "      <td>3</td>\n",
       "      <td>4</td>\n",
       "    </tr>\n",
       "    <tr>\n",
       "      <th>3</th>\n",
       "      <td>Chelsea</td>\n",
       "      <td>28</td>\n",
       "      <td>38</td>\n",
       "      <td>55</td>\n",
       "      <td>172</td>\n",
       "      <td>4.53</td>\n",
       "      <td>0.30</td>\n",
       "      <td>4</td>\n",
       "      <td>5</td>\n",
       "    </tr>\n",
       "    <tr>\n",
       "      <th>4</th>\n",
       "      <td>Crystal Palace</td>\n",
       "      <td>30</td>\n",
       "      <td>38</td>\n",
       "      <td>38</td>\n",
       "      <td>153</td>\n",
       "      <td>4.03</td>\n",
       "      <td>0.22</td>\n",
       "      <td>4</td>\n",
       "      <td>5</td>\n",
       "    </tr>\n",
       "  </tbody>\n",
       "</table>\n",
       "</div>"
      ],
      "text/plain": [
       "            Squad  Players used  90s  Gls  SoT  SoT/90  G/SoT  PK  PKatt\n",
       "0         Arsenal            25   38   62  210    5.53   0.29   1      2\n",
       "1     Aston Villa            29   38   24  110    2.89   0.20   2      2\n",
       "2     Bournemouth            28   38   43  143    3.76   0.28   3      4\n",
       "3         Chelsea            28   38   55  172    4.53   0.30   4      5\n",
       "4  Crystal Palace            30   38   38  153    4.03   0.22   4      5"
      ]
     },
     "execution_count": 3,
     "metadata": {},
     "output_type": "execute_result"
    }
   ],
   "source": [
    "df.head()"
   ]
  },
  {
   "cell_type": "code",
   "execution_count": 4,
   "id": "99beab25",
   "metadata": {
    "scrolled": true
   },
   "outputs": [],
   "source": [
    "df = df.drop(['Players used','90s','PK','PKatt'],axis=1)"
   ]
  },
  {
   "cell_type": "code",
   "execution_count": 5,
   "id": "fc87687d",
   "metadata": {},
   "outputs": [
    {
     "data": {
      "text/html": [
       "<div>\n",
       "<style scoped>\n",
       "    .dataframe tbody tr th:only-of-type {\n",
       "        vertical-align: middle;\n",
       "    }\n",
       "\n",
       "    .dataframe tbody tr th {\n",
       "        vertical-align: top;\n",
       "    }\n",
       "\n",
       "    .dataframe thead th {\n",
       "        text-align: right;\n",
       "    }\n",
       "</style>\n",
       "<table border=\"1\" class=\"dataframe\">\n",
       "  <thead>\n",
       "    <tr style=\"text-align: right;\">\n",
       "      <th></th>\n",
       "      <th>Squad</th>\n",
       "      <th>Gls</th>\n",
       "      <th>SoT</th>\n",
       "      <th>SoT/90</th>\n",
       "      <th>G/SoT</th>\n",
       "    </tr>\n",
       "  </thead>\n",
       "  <tbody>\n",
       "    <tr>\n",
       "      <th>0</th>\n",
       "      <td>Arsenal</td>\n",
       "      <td>62</td>\n",
       "      <td>210</td>\n",
       "      <td>5.53</td>\n",
       "      <td>0.29</td>\n",
       "    </tr>\n",
       "    <tr>\n",
       "      <th>1</th>\n",
       "      <td>Aston Villa</td>\n",
       "      <td>24</td>\n",
       "      <td>110</td>\n",
       "      <td>2.89</td>\n",
       "      <td>0.20</td>\n",
       "    </tr>\n",
       "    <tr>\n",
       "      <th>2</th>\n",
       "      <td>Bournemouth</td>\n",
       "      <td>43</td>\n",
       "      <td>143</td>\n",
       "      <td>3.76</td>\n",
       "      <td>0.28</td>\n",
       "    </tr>\n",
       "    <tr>\n",
       "      <th>3</th>\n",
       "      <td>Chelsea</td>\n",
       "      <td>55</td>\n",
       "      <td>172</td>\n",
       "      <td>4.53</td>\n",
       "      <td>0.30</td>\n",
       "    </tr>\n",
       "    <tr>\n",
       "      <th>4</th>\n",
       "      <td>Crystal Palace</td>\n",
       "      <td>38</td>\n",
       "      <td>153</td>\n",
       "      <td>4.03</td>\n",
       "      <td>0.22</td>\n",
       "    </tr>\n",
       "    <tr>\n",
       "      <th>5</th>\n",
       "      <td>Everton</td>\n",
       "      <td>56</td>\n",
       "      <td>174</td>\n",
       "      <td>4.58</td>\n",
       "      <td>0.30</td>\n",
       "    </tr>\n",
       "    <tr>\n",
       "      <th>6</th>\n",
       "      <td>Leicester City</td>\n",
       "      <td>68</td>\n",
       "      <td>179</td>\n",
       "      <td>4.71</td>\n",
       "      <td>0.32</td>\n",
       "    </tr>\n",
       "    <tr>\n",
       "      <th>7</th>\n",
       "      <td>Liverpool</td>\n",
       "      <td>62</td>\n",
       "      <td>199</td>\n",
       "      <td>5.24</td>\n",
       "      <td>0.30</td>\n",
       "    </tr>\n",
       "    <tr>\n",
       "      <th>8</th>\n",
       "      <td>Manchester City</td>\n",
       "      <td>71</td>\n",
       "      <td>210</td>\n",
       "      <td>5.53</td>\n",
       "      <td>0.31</td>\n",
       "    </tr>\n",
       "    <tr>\n",
       "      <th>9</th>\n",
       "      <td>Manchester Utd</td>\n",
       "      <td>46</td>\n",
       "      <td>144</td>\n",
       "      <td>3.79</td>\n",
       "      <td>0.30</td>\n",
       "    </tr>\n",
       "    <tr>\n",
       "      <th>10</th>\n",
       "      <td>Newcastle Utd</td>\n",
       "      <td>43</td>\n",
       "      <td>150</td>\n",
       "      <td>3.95</td>\n",
       "      <td>0.27</td>\n",
       "    </tr>\n",
       "    <tr>\n",
       "      <th>11</th>\n",
       "      <td>Norwich City</td>\n",
       "      <td>38</td>\n",
       "      <td>130</td>\n",
       "      <td>3.42</td>\n",
       "      <td>0.28</td>\n",
       "    </tr>\n",
       "    <tr>\n",
       "      <th>12</th>\n",
       "      <td>Southampton</td>\n",
       "      <td>58</td>\n",
       "      <td>165</td>\n",
       "      <td>4.34</td>\n",
       "      <td>0.33</td>\n",
       "    </tr>\n",
       "    <tr>\n",
       "      <th>13</th>\n",
       "      <td>Stoke City</td>\n",
       "      <td>40</td>\n",
       "      <td>127</td>\n",
       "      <td>3.34</td>\n",
       "      <td>0.28</td>\n",
       "    </tr>\n",
       "    <tr>\n",
       "      <th>14</th>\n",
       "      <td>Sunderland</td>\n",
       "      <td>44</td>\n",
       "      <td>173</td>\n",
       "      <td>4.55</td>\n",
       "      <td>0.24</td>\n",
       "    </tr>\n",
       "    <tr>\n",
       "      <th>15</th>\n",
       "      <td>Swansea City</td>\n",
       "      <td>41</td>\n",
       "      <td>135</td>\n",
       "      <td>3.55</td>\n",
       "      <td>0.27</td>\n",
       "    </tr>\n",
       "    <tr>\n",
       "      <th>16</th>\n",
       "      <td>Tottenham</td>\n",
       "      <td>68</td>\n",
       "      <td>250</td>\n",
       "      <td>6.58</td>\n",
       "      <td>0.25</td>\n",
       "    </tr>\n",
       "    <tr>\n",
       "      <th>17</th>\n",
       "      <td>Watford</td>\n",
       "      <td>38</td>\n",
       "      <td>139</td>\n",
       "      <td>3.66</td>\n",
       "      <td>0.23</td>\n",
       "    </tr>\n",
       "    <tr>\n",
       "      <th>18</th>\n",
       "      <td>West Brom</td>\n",
       "      <td>32</td>\n",
       "      <td>108</td>\n",
       "      <td>2.84</td>\n",
       "      <td>0.29</td>\n",
       "    </tr>\n",
       "    <tr>\n",
       "      <th>19</th>\n",
       "      <td>West Ham</td>\n",
       "      <td>64</td>\n",
       "      <td>186</td>\n",
       "      <td>4.89</td>\n",
       "      <td>0.32</td>\n",
       "    </tr>\n",
       "  </tbody>\n",
       "</table>\n",
       "</div>"
      ],
      "text/plain": [
       "              Squad  Gls  SoT  SoT/90  G/SoT\n",
       "0           Arsenal   62  210    5.53   0.29\n",
       "1       Aston Villa   24  110    2.89   0.20\n",
       "2       Bournemouth   43  143    3.76   0.28\n",
       "3           Chelsea   55  172    4.53   0.30\n",
       "4    Crystal Palace   38  153    4.03   0.22\n",
       "5           Everton   56  174    4.58   0.30\n",
       "6    Leicester City   68  179    4.71   0.32\n",
       "7         Liverpool   62  199    5.24   0.30\n",
       "8   Manchester City   71  210    5.53   0.31\n",
       "9    Manchester Utd   46  144    3.79   0.30\n",
       "10    Newcastle Utd   43  150    3.95   0.27\n",
       "11     Norwich City   38  130    3.42   0.28\n",
       "12      Southampton   58  165    4.34   0.33\n",
       "13       Stoke City   40  127    3.34   0.28\n",
       "14       Sunderland   44  173    4.55   0.24\n",
       "15     Swansea City   41  135    3.55   0.27\n",
       "16        Tottenham   68  250    6.58   0.25\n",
       "17          Watford   38  139    3.66   0.23\n",
       "18        West Brom   32  108    2.84   0.29\n",
       "19         West Ham   64  186    4.89   0.32"
      ]
     },
     "execution_count": 5,
     "metadata": {},
     "output_type": "execute_result"
    }
   ],
   "source": [
    "df"
   ]
  },
  {
   "cell_type": "code",
   "execution_count": 6,
   "id": "8fc1757b",
   "metadata": {},
   "outputs": [
    {
     "data": {
      "text/plain": [
       "['Gls', 'SoT', 'SoT/90', 'G/SoT']"
      ]
     },
     "execution_count": 6,
     "metadata": {},
     "output_type": "execute_result"
    }
   ],
   "source": [
    "min_range = []\n",
    "max_range = []\n",
    "\n",
    "#get parameters\n",
    "params = list(df.columns)\n",
    "params = params[1:]\n",
    "params"
   ]
  },
  {
   "cell_type": "code",
   "execution_count": 7,
   "id": "66376274",
   "metadata": {},
   "outputs": [],
   "source": [
    "#finding max and min Goals scored\n",
    "min_Gls = min(df[params]['Gls'])\n",
    "max_Gls = max(df[params]['Gls'])\n",
    "min_range.append(min_Gls)\n",
    "max_range.append(max_Gls)\n",
    "\n",
    "#finding max and min Shots on Target\n",
    "min_SoT = min(df[params]['SoT'])\n",
    "max_SoT = max(df[params]['SoT'])\n",
    "min_range.append(min_SoT)\n",
    "max_range.append(max_SoT)\n",
    "\n",
    "\n",
    "#finding max and min Shots on Target per 90\n",
    "min_SoTp90 = min(df[params]['SoT/90'])\n",
    "max_SoTp90 = max(df[params]['SoT/90'])\n",
    "min_range.append(min_SoTp90)\n",
    "max_range.append(max_SoTp90)\n",
    "\n",
    "\n",
    "#finding max and min Goals per Shots on Target\n",
    "min_GpSoT = min(df[params]['G/SoT'])\n",
    "max_GpSoT = max(df[params]['G/SoT'])\n",
    "min_range.append(min_GpSoT)\n",
    "max_range.append(max_GpSoT)\n"
   ]
  },
  {
   "cell_type": "code",
   "execution_count": 8,
   "id": "12390316",
   "metadata": {},
   "outputs": [],
   "source": [
    "df = df[df['Squad']=='Manchester Utd'].reset_index()"
   ]
  },
  {
   "cell_type": "code",
   "execution_count": 9,
   "id": "808ffee7",
   "metadata": {},
   "outputs": [
    {
     "data": {
      "text/html": [
       "<div>\n",
       "<style scoped>\n",
       "    .dataframe tbody tr th:only-of-type {\n",
       "        vertical-align: middle;\n",
       "    }\n",
       "\n",
       "    .dataframe tbody tr th {\n",
       "        vertical-align: top;\n",
       "    }\n",
       "\n",
       "    .dataframe thead th {\n",
       "        text-align: right;\n",
       "    }\n",
       "</style>\n",
       "<table border=\"1\" class=\"dataframe\">\n",
       "  <thead>\n",
       "    <tr style=\"text-align: right;\">\n",
       "      <th></th>\n",
       "      <th>index</th>\n",
       "      <th>Squad</th>\n",
       "      <th>Gls</th>\n",
       "      <th>SoT</th>\n",
       "      <th>SoT/90</th>\n",
       "      <th>G/SoT</th>\n",
       "    </tr>\n",
       "  </thead>\n",
       "  <tbody>\n",
       "    <tr>\n",
       "      <th>0</th>\n",
       "      <td>9</td>\n",
       "      <td>Manchester Utd</td>\n",
       "      <td>46</td>\n",
       "      <td>144</td>\n",
       "      <td>3.79</td>\n",
       "      <td>0.3</td>\n",
       "    </tr>\n",
       "  </tbody>\n",
       "</table>\n",
       "</div>"
      ],
      "text/plain": [
       "   index           Squad  Gls  SoT  SoT/90  G/SoT\n",
       "0      9  Manchester Utd   46  144    3.79    0.3"
      ]
     },
     "execution_count": 9,
     "metadata": {},
     "output_type": "execute_result"
    }
   ],
   "source": [
    "df"
   ]
  },
  {
   "cell_type": "code",
   "execution_count": 10,
   "id": "75566f06",
   "metadata": {},
   "outputs": [
    {
     "data": {
      "text/plain": [
       "[24, 108, 2.84, 0.2]"
      ]
     },
     "execution_count": 10,
     "metadata": {},
     "output_type": "execute_result"
    }
   ],
   "source": [
    "min_range"
   ]
  },
  {
   "cell_type": "code",
   "execution_count": 11,
   "id": "d4452d97",
   "metadata": {},
   "outputs": [
    {
     "data": {
      "text/plain": [
       "[71, 250, 6.58, 0.33]"
      ]
     },
     "execution_count": 11,
     "metadata": {},
     "output_type": "execute_result"
    }
   ],
   "source": [
    "max_range"
   ]
  },
  {
   "cell_type": "code",
   "execution_count": 12,
   "id": "53992090",
   "metadata": {},
   "outputs": [],
   "source": [
    "for x in range(len(df['Squad'])):\n",
    "    if df['Squad'][x] == 'Manchester Utd':\n",
    "        values = df.iloc[x].values.tolist()"
   ]
  },
  {
   "cell_type": "code",
   "execution_count": 13,
   "id": "d1833a35",
   "metadata": {},
   "outputs": [],
   "source": [
    "values = values[2:]"
   ]
  },
  {
   "cell_type": "code",
   "execution_count": 14,
   "id": "146882f4",
   "metadata": {},
   "outputs": [
    {
     "data": {
      "text/plain": [
       "[46, 144, 3.79, 0.3]"
      ]
     },
     "execution_count": 14,
     "metadata": {},
     "output_type": "execute_result"
    }
   ],
   "source": [
    "values"
   ]
  },
  {
   "cell_type": "code",
   "execution_count": 15,
   "id": "4865cc92",
   "metadata": {},
   "outputs": [],
   "source": [
    "#title \n",
    "\n",
    "title = dict(\n",
    "    title_name='Manchester United 15-16',\n",
    "    title_color = 'red',\n",
    "    subtitle_name = 'Shot Creation',\n",
    "    subtitle_color = 'black',\n",
    "\n",
    "    title_fontsize = 18,\n",
    "    subtitle_fontsize=15\n",
    ")\n",
    "\n",
    "endnote = 'Viz. by Chaitanya Shetty'"
   ]
  },
  {
   "cell_type": "code",
   "execution_count": 16,
   "id": "ffa03f10",
   "metadata": {},
   "outputs": [],
   "source": [
    "radar = Radar(params, min_range, max_range,\n",
    "              # whether to round any of the labels to integers instead of decimal places\n",
    "              round_int=[False]*4,\n",
    "              num_rings=3,  # the number of concentric circles (excluding center circle)\n",
    "              # if the ring_width is more than the center_circle_radius then\n",
    "              # the center circle radius will be wider than the width of the concentric circles\n",
    "              ring_width=1, center_circle_radius=1)"
   ]
  },
  {
   "cell_type": "code",
   "execution_count": 17,
   "id": "99846e59",
   "metadata": {},
   "outputs": [],
   "source": [
    "#We will use mplsoccer’s FontManager to load some fonts from Google Fonts. \n",
    "#We borrowed the FontManager from the ridge_map library.\n",
    "\n",
    "URL1 = ('https://github.com/googlefonts/SourceSerifProGFVersion/blob/main/'\n",
    "        'fonts/SourceSerifPro-Regular.ttf?raw=true')\n",
    "serif_regular = FontManager(URL1)\n",
    "URL2 = ('https://github.com/googlefonts/SourceSerifProGFVersion/blob/main/'\n",
    "        'fonts/SourceSerifPro-ExtraLight.ttf?raw=true')\n",
    "serif_extra_light = FontManager(URL2)\n",
    "URL3 = ('https://github.com/google/fonts/blob/main/ofl/rubikmonoone/'\n",
    "        'RubikMonoOne-Regular.ttf?raw=true')\n",
    "rubik_regular = FontManager(URL3)\n",
    "URL4 = 'https://github.com/googlefonts/roboto/blob/main/src/hinted/Roboto-Thin.ttf?raw=true'\n",
    "robotto_thin = FontManager(URL4)\n",
    "URL5 = 'https://github.com/googlefonts/roboto/blob/main/src/hinted/Roboto-Regular.ttf?raw=true'\n",
    "robotto_regular = FontManager(URL5)\n",
    "URL6 = 'https://github.com/googlefonts/roboto/blob/main/src/hinted/Roboto-Bold.ttf?raw=true'\n",
    "robotto_bold = FontManager(URL6)"
   ]
  },
  {
   "cell_type": "code",
   "execution_count": 18,
   "id": "259aa8ac",
   "metadata": {},
   "outputs": [
    {
     "data": {
      "image/png": "[encoded data removed]",
      "text/plain": [
       "<Figure size 864x864 with 1 Axes>"
      ]
     },
     "metadata": {},
     "output_type": "display_data"
    }
   ],
   "source": [
    "fig, ax = radar.setup_axis()  # format axis as a radar\n",
    "rings_inner = radar.draw_circles(ax=ax, facecolor='#ffb2b2', edgecolor='#fc5f5f')  # draw circles\n",
    "radar_output = radar.draw_radar(values, ax=ax,\n",
    "                                kwargs_radar={'facecolor': '#aa65b2'},\n",
    "                                kwargs_rings={'facecolor': '#66d8ba'})  # draw the radar\n",
    "radar_poly, rings_outer, vertices = radar_output\n",
    "range_labels = radar.draw_range_labels(ax=ax, fontsize=15,\n",
    "                                       fontproperties=robotto_thin.prop)  # draw the range labels\n",
    "param_labels = radar.draw_param_labels(ax=ax, fontsize=15,\n",
    "                                       fontproperties=robotto_regular.prop)  # draw the param labels"
   ]
  },
  {
   "cell_type": "code",
   "execution_count": null,
   "id": "a05688ed",
   "metadata": {},
   "outputs": [],
   "source": []
  }
 ],
 "metadata": {
  "kernelspec": {
   "display_name": "Python 3 (ipykernel)",
   "language": "python",
   "name": "python3"
  },
  "language_info": {
   "codemirror_mode": {
    "name": "ipython",
    "version": 3
   },
   "file_extension": ".py",
   "mimetype": "text/x-python",
   "name": "python",
   "nbconvert_exporter": "python",
   "pygments_lexer": "ipython3",
   "version": "3.7.4"
  }
 },
 "nbformat": 4,
 "nbformat_minor": 5
}
