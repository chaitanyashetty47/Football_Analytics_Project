{
 "cells": [
  {
   "cell_type": "code",
   "execution_count": 5,
   "id": "b0496946",
   "metadata": {},
   "outputs": [],
   "source": [
    "import numpy as np\n",
    "import pandas as pd\n",
    "import matplotlib.pyplot as plt\n",
    "%matplotlib inline"
   ]
  },
  {
   "cell_type": "code",
   "execution_count": 6,
   "id": "e205c7bf",
   "metadata": {},
   "outputs": [
    {
     "data": {
      "text/html": [
       "<div>\n",
       "<style scoped>\n",
       "    .dataframe tbody tr th:only-of-type {\n",
       "        vertical-align: middle;\n",
       "    }\n",
       "\n",
       "    .dataframe tbody tr th {\n",
       "        vertical-align: top;\n",
       "    }\n",
       "\n",
       "    .dataframe thead th {\n",
       "        text-align: right;\n",
       "    }\n",
       "</style>\n",
       "<table border=\"1\" class=\"dataframe\">\n",
       "  <thead>\n",
       "    <tr style=\"text-align: right;\">\n",
       "      <th></th>\n",
       "      <th>Rk</th>\n",
       "      <th>Squad</th>\n",
       "      <th>MP</th>\n",
       "      <th>W</th>\n",
       "      <th>D</th>\n",
       "      <th>L</th>\n",
       "      <th>GF</th>\n",
       "      <th>GA</th>\n",
       "      <th>GD</th>\n",
       "      <th>Pts</th>\n",
       "      <th>Attendance</th>\n",
       "      <th>Top Team Scorer</th>\n",
       "      <th>Goalkeeper</th>\n",
       "      <th>Notes</th>\n",
       "    </tr>\n",
       "  </thead>\n",
       "  <tbody>\n",
       "    <tr>\n",
       "      <th>0</th>\n",
       "      <td>1</td>\n",
       "      <td>Chelsea</td>\n",
       "      <td>38</td>\n",
       "      <td>26</td>\n",
       "      <td>9</td>\n",
       "      <td>3</td>\n",
       "      <td>73</td>\n",
       "      <td>32</td>\n",
       "      <td>41</td>\n",
       "      <td>87</td>\n",
       "      <td>41546</td>\n",
       "      <td>Diego Costa - 20</td>\n",
       "      <td>Thibaut Courtois</td>\n",
       "      <td>→ UEFA Champions League via league finish</td>\n",
       "    </tr>\n",
       "    <tr>\n",
       "      <th>1</th>\n",
       "      <td>2</td>\n",
       "      <td>Manchester City</td>\n",
       "      <td>38</td>\n",
       "      <td>24</td>\n",
       "      <td>7</td>\n",
       "      <td>7</td>\n",
       "      <td>83</td>\n",
       "      <td>38</td>\n",
       "      <td>45</td>\n",
       "      <td>79</td>\n",
       "      <td>45365</td>\n",
       "      <td>Sergio Agüero - 26</td>\n",
       "      <td>Joe Hart</td>\n",
       "      <td>→ UEFA Champions League via league finish</td>\n",
       "    </tr>\n",
       "    <tr>\n",
       "      <th>2</th>\n",
       "      <td>3</td>\n",
       "      <td>Arsenal</td>\n",
       "      <td>38</td>\n",
       "      <td>22</td>\n",
       "      <td>9</td>\n",
       "      <td>7</td>\n",
       "      <td>71</td>\n",
       "      <td>36</td>\n",
       "      <td>35</td>\n",
       "      <td>75</td>\n",
       "      <td>59992</td>\n",
       "      <td>Alexis Sánchez - 16</td>\n",
       "      <td>David Ospina</td>\n",
       "      <td>→ UEFA Champions League via league finish</td>\n",
       "    </tr>\n",
       "    <tr>\n",
       "      <th>3</th>\n",
       "      <td>4</td>\n",
       "      <td>Manchester Utd</td>\n",
       "      <td>38</td>\n",
       "      <td>20</td>\n",
       "      <td>10</td>\n",
       "      <td>8</td>\n",
       "      <td>62</td>\n",
       "      <td>37</td>\n",
       "      <td>25</td>\n",
       "      <td>70</td>\n",
       "      <td>75335</td>\n",
       "      <td>Wayne Rooney - 12</td>\n",
       "      <td>David de Gea</td>\n",
       "      <td>→ UEFA Champions League via league finish</td>\n",
       "    </tr>\n",
       "    <tr>\n",
       "      <th>4</th>\n",
       "      <td>5</td>\n",
       "      <td>Tottenham</td>\n",
       "      <td>38</td>\n",
       "      <td>19</td>\n",
       "      <td>7</td>\n",
       "      <td>12</td>\n",
       "      <td>58</td>\n",
       "      <td>53</td>\n",
       "      <td>5</td>\n",
       "      <td>64</td>\n",
       "      <td>35728</td>\n",
       "      <td>Harry Kane - 21</td>\n",
       "      <td>Hugo Lloris</td>\n",
       "      <td>→ UEFA Europa League via league finish</td>\n",
       "    </tr>\n",
       "  </tbody>\n",
       "</table>\n",
       "</div>"
      ],
      "text/plain": [
       "   Rk            Squad  MP   W   D   L  GF  GA  GD  Pts  Attendance  \\\n",
       "0   1          Chelsea  38  26   9   3  73  32  41   87       41546   \n",
       "1   2  Manchester City  38  24   7   7  83  38  45   79       45365   \n",
       "2   3          Arsenal  38  22   9   7  71  36  35   75       59992   \n",
       "3   4   Manchester Utd  38  20  10   8  62  37  25   70       75335   \n",
       "4   5        Tottenham  38  19   7  12  58  53   5   64       35728   \n",
       "\n",
       "       Top Team Scorer        Goalkeeper  \\\n",
       "0     Diego Costa - 20  Thibaut Courtois   \n",
       "1   Sergio Agüero - 26          Joe Hart   \n",
       "2  Alexis Sánchez - 16      David Ospina   \n",
       "3    Wayne Rooney - 12      David de Gea   \n",
       "4      Harry Kane - 21       Hugo Lloris   \n",
       "\n",
       "                                       Notes  \n",
       "0  → UEFA Champions League via league finish  \n",
       "1  → UEFA Champions League via league finish  \n",
       "2  → UEFA Champions League via league finish  \n",
       "3  → UEFA Champions League via league finish  \n",
       "4     → UEFA Europa League via league finish  "
      ]
     },
     "execution_count": 6,
     "metadata": {},
     "output_type": "execute_result"
    }
   ],
   "source": [
    "table = pd.read_csv(\"C:\\\\Users\\\\Amin\\\\Documents\\\\manutd(2012-2021)\\\\UtdGFvGA(14-15).csv\")\n",
    "table.head()"
   ]
  },
  {
   "cell_type": "code",
   "execution_count": 7,
   "id": "c318f4d4",
   "metadata": {},
   "outputs": [
    {
     "data": {
      "text/plain": [
       "48.75"
      ]
     },
     "execution_count": 7,
     "metadata": {},
     "output_type": "execute_result"
    }
   ],
   "source": [
    "table['GA'].mean()"
   ]
  },
  {
   "cell_type": "code",
   "execution_count": 8,
   "id": "6dc1e8b4",
   "metadata": {},
   "outputs": [
    {
     "data": {
      "text/plain": [
       "48.75"
      ]
     },
     "execution_count": 8,
     "metadata": {},
     "output_type": "execute_result"
    }
   ],
   "source": [
    "table['GF'].mean()"
   ]
  },
  {
   "cell_type": "code",
   "execution_count": 9,
   "id": "9fdf820e",
   "metadata": {},
   "outputs": [
    {
     "data": {
      "image/png": "[encoded data removed]",
      "text/plain": [
       "<Figure size 720x720 with 1 Axes>"
      ]
     },
     "metadata": {
      "needs_background": "light"
     },
     "output_type": "display_data"
    }
   ],
   "source": [
    "fig, ax = plt.subplots()\n",
    "fig.set_size_inches(10, 10)\n",
    "\n",
    "plt.plot(table['GF'],table['GA'],\"*\")\n",
    "plt.axvline(table['GF'].mean(), ls = '--', color = 'orange')\n",
    "plt.axhline(table['GA'].mean(), ls = '--', color = 'orange')\n",
    "\n",
    "ax.set_title(\"GF vs GA (14/15)\",size=\"25\")\n",
    "ax.set_xlabel(\"Goals Scored(GF)\")\n",
    "ax.set_ylabel(\"Goals Conceded(GA)\")\n",
    "\n",
    "#plot label for points\n",
    "for i in range(len(table)):\n",
    "    if table['Squad'][i] == 'Manchester Utd':\n",
    "        plt.text(table['GF'][i] + 1, table['GA'][i] , table['Squad'][i], color='maroon' , size=\"12\")\n",
    "        \n",
    "    else:\n",
    "        plt.text(table['GF'][i] + 1, table['GA'][i] , table['Squad'][i] )\n",
    "\n",
    "ax.text(40,40,\"Poor Attack\\nStrong Defense\",color=\"red\",size=\"10\")\n",
    "ax.text(70,40,\"Strong Attack\\nStrong Defense\",color=\"red\",size=\"10\")\n",
    "ax.text(40,70,\"Poor Attack\\nPoor Defense\",color=\"red\",size=\"10\")\n",
    "ax.text(70,70,\"Strong Attack\\nPoor Defense\",color=\"red\",size=\"10\")\n",
    "\n",
    "plt.show()"
   ]
  },
  {
   "cell_type": "code",
   "execution_count": null,
   "id": "57b66d2f",
   "metadata": {},
   "outputs": [],
   "source": []
  },
  {
   "cell_type": "code",
   "execution_count": null,
   "id": "6cef6218",
   "metadata": {},
   "outputs": [],
   "source": []
  }
 ],
 "metadata": {
  "kernelspec": {
   "display_name": "Python 3 (ipykernel)",
   "language": "python",
   "name": "python3"
  },
  "language_info": {
   "codemirror_mode": {
    "name": "ipython",
    "version": 3
   },
   "file_extension": ".py",
   "mimetype": "text/x-python",
   "name": "python",
   "nbconvert_exporter": "python",
   "pygments_lexer": "ipython3",
   "version": "3.7.4"
  }
 },
 "nbformat": 4,
 "nbformat_minor": 5
}
