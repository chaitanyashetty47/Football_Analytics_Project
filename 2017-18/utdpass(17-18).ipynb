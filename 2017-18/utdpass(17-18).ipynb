{
 "cells": [
  {
   "cell_type": "code",
   "execution_count": 1,
   "id": "d7b4d6c2",
   "metadata": {},
   "outputs": [],
   "source": [
    "import pandas as pd\n",
    "import matplotlib.pyplot as plt\n",
    "from soccerplots.radar_chart import Radar\n",
    "from mplsoccer import Radar, FontManager\n",
    "import matplotlib.pyplot as plt"
   ]
  },
  {
   "cell_type": "code",
   "execution_count": 2,
   "id": "baa6d589",
   "metadata": {},
   "outputs": [],
   "source": [
    "df = pd.read_csv('C:\\\\Users\\\\Amin\\\\Documents\\\\manutd(2012-2021)\\\\utdpass(17-18).csv')"
   ]
  },
  {
   "cell_type": "code",
   "execution_count": 3,
   "id": "4485cf8a",
   "metadata": {},
   "outputs": [
    {
     "data": {
      "text/html": [
       "<div>\n",
       "<style scoped>\n",
       "    .dataframe tbody tr th:only-of-type {\n",
       "        vertical-align: middle;\n",
       "    }\n",
       "\n",
       "    .dataframe tbody tr th {\n",
       "        vertical-align: top;\n",
       "    }\n",
       "\n",
       "    .dataframe thead th {\n",
       "        text-align: right;\n",
       "    }\n",
       "</style>\n",
       "<table border=\"1\" class=\"dataframe\">\n",
       "  <thead>\n",
       "    <tr style=\"text-align: right;\">\n",
       "      <th></th>\n",
       "      <th>Squad</th>\n",
       "      <th>90s</th>\n",
       "      <th>TotalCmp</th>\n",
       "      <th>TotalPassAtt</th>\n",
       "      <th>TotCmp%</th>\n",
       "      <th>TotDist</th>\n",
       "      <th>PrgDist</th>\n",
       "      <th>ShortCmp</th>\n",
       "      <th>ShortAtm</th>\n",
       "      <th>ShortCmp%</th>\n",
       "      <th>...</th>\n",
       "      <th>LongAtt</th>\n",
       "      <th>LongCmp%</th>\n",
       "      <th>Ast</th>\n",
       "      <th>xA</th>\n",
       "      <th>A-xA</th>\n",
       "      <th>Pass2Shots</th>\n",
       "      <th>1/3</th>\n",
       "      <th>PPA</th>\n",
       "      <th>CrsPA</th>\n",
       "      <th>Prog</th>\n",
       "    </tr>\n",
       "  </thead>\n",
       "  <tbody>\n",
       "    <tr>\n",
       "      <th>0</th>\n",
       "      <td>Arsenal</td>\n",
       "      <td>38</td>\n",
       "      <td>20841</td>\n",
       "      <td>24883</td>\n",
       "      <td>83.8</td>\n",
       "      <td>395187</td>\n",
       "      <td>124268</td>\n",
       "      <td>8620</td>\n",
       "      <td>9665</td>\n",
       "      <td>89.2</td>\n",
       "      <td>...</td>\n",
       "      <td>4171</td>\n",
       "      <td>66.6</td>\n",
       "      <td>61</td>\n",
       "      <td>51.3</td>\n",
       "      <td>7.7</td>\n",
       "      <td>433</td>\n",
       "      <td>1629</td>\n",
       "      <td>506</td>\n",
       "      <td>62</td>\n",
       "      <td>1887</td>\n",
       "    </tr>\n",
       "    <tr>\n",
       "      <th>1</th>\n",
       "      <td>Bournemouth</td>\n",
       "      <td>38</td>\n",
       "      <td>13512</td>\n",
       "      <td>17678</td>\n",
       "      <td>76.4</td>\n",
       "      <td>263586</td>\n",
       "      <td>93888</td>\n",
       "      <td>5591</td>\n",
       "      <td>6479</td>\n",
       "      <td>86.3</td>\n",
       "      <td>...</td>\n",
       "      <td>3640</td>\n",
       "      <td>54.2</td>\n",
       "      <td>36</td>\n",
       "      <td>32.2</td>\n",
       "      <td>3.8</td>\n",
       "      <td>350</td>\n",
       "      <td>965</td>\n",
       "      <td>302</td>\n",
       "      <td>75</td>\n",
       "      <td>1232</td>\n",
       "    </tr>\n",
       "    <tr>\n",
       "      <th>2</th>\n",
       "      <td>Brighton</td>\n",
       "      <td>38</td>\n",
       "      <td>11951</td>\n",
       "      <td>16139</td>\n",
       "      <td>74.1</td>\n",
       "      <td>254205</td>\n",
       "      <td>92911</td>\n",
       "      <td>4547</td>\n",
       "      <td>5388</td>\n",
       "      <td>84.4</td>\n",
       "      <td>...</td>\n",
       "      <td>4203</td>\n",
       "      <td>55.7</td>\n",
       "      <td>25</td>\n",
       "      <td>23.0</td>\n",
       "      <td>2.0</td>\n",
       "      <td>278</td>\n",
       "      <td>852</td>\n",
       "      <td>196</td>\n",
       "      <td>69</td>\n",
       "      <td>984</td>\n",
       "    </tr>\n",
       "    <tr>\n",
       "      <th>3</th>\n",
       "      <td>Burnley</td>\n",
       "      <td>38</td>\n",
       "      <td>10494</td>\n",
       "      <td>14958</td>\n",
       "      <td>70.2</td>\n",
       "      <td>228177</td>\n",
       "      <td>92905</td>\n",
       "      <td>3995</td>\n",
       "      <td>4784</td>\n",
       "      <td>83.5</td>\n",
       "      <td>...</td>\n",
       "      <td>4218</td>\n",
       "      <td>47.9</td>\n",
       "      <td>26</td>\n",
       "      <td>23.8</td>\n",
       "      <td>2.2</td>\n",
       "      <td>281</td>\n",
       "      <td>893</td>\n",
       "      <td>231</td>\n",
       "      <td>88</td>\n",
       "      <td>954</td>\n",
       "    </tr>\n",
       "    <tr>\n",
       "      <th>4</th>\n",
       "      <td>Chelsea</td>\n",
       "      <td>38</td>\n",
       "      <td>18952</td>\n",
       "      <td>22867</td>\n",
       "      <td>82.9</td>\n",
       "      <td>370412</td>\n",
       "      <td>117253</td>\n",
       "      <td>7454</td>\n",
       "      <td>8393</td>\n",
       "      <td>88.8</td>\n",
       "      <td>...</td>\n",
       "      <td>4113</td>\n",
       "      <td>65.9</td>\n",
       "      <td>42</td>\n",
       "      <td>42.2</td>\n",
       "      <td>0.8</td>\n",
       "      <td>472</td>\n",
       "      <td>1419</td>\n",
       "      <td>417</td>\n",
       "      <td>79</td>\n",
       "      <td>1672</td>\n",
       "    </tr>\n",
       "  </tbody>\n",
       "</table>\n",
       "<p>5 rows × 24 columns</p>\n",
       "</div>"
      ],
      "text/plain": [
       "         Squad  90s  TotalCmp  TotalPassAtt  TotCmp%  TotDist  PrgDist  \\\n",
       "0      Arsenal   38     20841         24883     83.8   395187   124268   \n",
       "1  Bournemouth   38     13512         17678     76.4   263586    93888   \n",
       "2     Brighton   38     11951         16139     74.1   254205    92911   \n",
       "3      Burnley   38     10494         14958     70.2   228177    92905   \n",
       "4      Chelsea   38     18952         22867     82.9   370412   117253   \n",
       "\n",
       "   ShortCmp  ShortAtm  ShortCmp%  ...  LongAtt  LongCmp%  Ast    xA  A-xA  \\\n",
       "0      8620      9665       89.2  ...     4171      66.6   61  51.3   7.7   \n",
       "1      5591      6479       86.3  ...     3640      54.2   36  32.2   3.8   \n",
       "2      4547      5388       84.4  ...     4203      55.7   25  23.0   2.0   \n",
       "3      3995      4784       83.5  ...     4218      47.9   26  23.8   2.2   \n",
       "4      7454      8393       88.8  ...     4113      65.9   42  42.2   0.8   \n",
       "\n",
       "   Pass2Shots   1/3  PPA  CrsPA  Prog  \n",
       "0         433  1629  506     62  1887  \n",
       "1         350   965  302     75  1232  \n",
       "2         278   852  196     69   984  \n",
       "3         281   893  231     88   954  \n",
       "4         472  1419  417     79  1672  \n",
       "\n",
       "[5 rows x 24 columns]"
      ]
     },
     "execution_count": 3,
     "metadata": {},
     "output_type": "execute_result"
    }
   ],
   "source": [
    "df.head()"
   ]
  },
  {
   "cell_type": "code",
   "execution_count": 4,
   "id": "48ffb6cb",
   "metadata": {},
   "outputs": [],
   "source": [
    "#FINDING MAX AND MIN Assists\n",
    "max_A=df['Ast'].max()\n",
    "min_A=df['Ast'].min()"
   ]
  },
  {
   "cell_type": "code",
   "execution_count": 5,
   "id": "22b934a5",
   "metadata": {},
   "outputs": [],
   "source": [
    "#FINDING MAX AND MIN xA\n",
    "max_xA=df['xA'].max()\n",
    "min_xA=df['xA'].min()"
   ]
  },
  {
   "cell_type": "code",
   "execution_count": 6,
   "id": "f18d8025",
   "metadata": {},
   "outputs": [],
   "source": [
    "#FINDING MAX AND MIN A-xA\n",
    "max_AmxA=df['A-xA'].max()\n",
    "min_AmxA=df['A-xA'].min()"
   ]
  },
  {
   "cell_type": "code",
   "execution_count": 7,
   "id": "c5d98376",
   "metadata": {},
   "outputs": [],
   "source": [
    "#FINDING Pass2Shots\n",
    "max_P2S=df['Pass2Shots'].max()\n",
    "min_P2S=df['Pass2Shots'].min()"
   ]
  },
  {
   "cell_type": "code",
   "execution_count": 8,
   "id": "6e9cf3fa",
   "metadata": {},
   "outputs": [],
   "source": [
    "#FINDING 1/3 passes\n",
    "max_1x3=df['1/3'].max()\n",
    "min_1x3=df['1/3'].min()"
   ]
  },
  {
   "cell_type": "code",
   "execution_count": 9,
   "id": "30760f9e",
   "metadata": {},
   "outputs": [],
   "source": [
    "#FINDING pass into 18 yard box\n",
    "max_PPA=df['PPA'].max()\n",
    "min_PPA=df['PPA'].min()"
   ]
  },
  {
   "cell_type": "code",
   "execution_count": 10,
   "id": "3da6e165",
   "metadata": {},
   "outputs": [
    {
     "name": "stdout",
     "output_type": "stream",
     "text": [
      "55\n"
     ]
    }
   ],
   "source": [
    "#FINDING cross into 18 yard box\n",
    "max_CrsPA=df['CrsPA'].max()\n",
    "min_CrsPA=df['CrsPA'].min()\n",
    "print(min_CrsPA)"
   ]
  },
  {
   "cell_type": "code",
   "execution_count": 11,
   "id": "25fb5536",
   "metadata": {},
   "outputs": [],
   "source": [
    "#FINDING cross into Progressive Passes\n",
    "max_Prog=df['Prog'].max()\n",
    "min_Prog=df['Prog'].min()"
   ]
  },
  {
   "cell_type": "code",
   "execution_count": 12,
   "id": "ccfe2c56",
   "metadata": {},
   "outputs": [],
   "source": [
    "df = df[df['Squad']=='Manchester Utd'].reset_index()"
   ]
  },
  {
   "cell_type": "code",
   "execution_count": 13,
   "id": "0a5fecdb",
   "metadata": {},
   "outputs": [
    {
     "data": {
      "text/html": [
       "<div>\n",
       "<style scoped>\n",
       "    .dataframe tbody tr th:only-of-type {\n",
       "        vertical-align: middle;\n",
       "    }\n",
       "\n",
       "    .dataframe tbody tr th {\n",
       "        vertical-align: top;\n",
       "    }\n",
       "\n",
       "    .dataframe thead th {\n",
       "        text-align: right;\n",
       "    }\n",
       "</style>\n",
       "<table border=\"1\" class=\"dataframe\">\n",
       "  <thead>\n",
       "    <tr style=\"text-align: right;\">\n",
       "      <th></th>\n",
       "      <th>index</th>\n",
       "      <th>Squad</th>\n",
       "      <th>90s</th>\n",
       "      <th>TotalCmp</th>\n",
       "      <th>TotalPassAtt</th>\n",
       "      <th>TotCmp%</th>\n",
       "      <th>TotDist</th>\n",
       "      <th>PrgDist</th>\n",
       "      <th>ShortCmp</th>\n",
       "      <th>ShortAtm</th>\n",
       "      <th>...</th>\n",
       "      <th>LongAtt</th>\n",
       "      <th>LongCmp%</th>\n",
       "      <th>Ast</th>\n",
       "      <th>xA</th>\n",
       "      <th>A-xA</th>\n",
       "      <th>Pass2Shots</th>\n",
       "      <th>1/3</th>\n",
       "      <th>PPA</th>\n",
       "      <th>CrsPA</th>\n",
       "      <th>Prog</th>\n",
       "    </tr>\n",
       "  </thead>\n",
       "  <tbody>\n",
       "    <tr>\n",
       "      <th>0</th>\n",
       "      <td>11</td>\n",
       "      <td>Manchester Utd</td>\n",
       "      <td>38</td>\n",
       "      <td>17775</td>\n",
       "      <td>21650</td>\n",
       "      <td>82.1</td>\n",
       "      <td>329922</td>\n",
       "      <td>107293</td>\n",
       "      <td>8100</td>\n",
       "      <td>8949</td>\n",
       "      <td>...</td>\n",
       "      <td>3993</td>\n",
       "      <td>60.4</td>\n",
       "      <td>53</td>\n",
       "      <td>43.8</td>\n",
       "      <td>9.2</td>\n",
       "      <td>369</td>\n",
       "      <td>1234</td>\n",
       "      <td>369</td>\n",
       "      <td>86</td>\n",
       "      <td>1409</td>\n",
       "    </tr>\n",
       "  </tbody>\n",
       "</table>\n",
       "<p>1 rows × 25 columns</p>\n",
       "</div>"
      ],
      "text/plain": [
       "   index           Squad  90s  TotalCmp  TotalPassAtt  TotCmp%  TotDist  \\\n",
       "0     11  Manchester Utd   38     17775         21650     82.1   329922   \n",
       "\n",
       "   PrgDist  ShortCmp  ShortAtm  ...  LongAtt  LongCmp%  Ast    xA  A-xA  \\\n",
       "0   107293      8100      8949  ...     3993      60.4   53  43.8   9.2   \n",
       "\n",
       "   Pass2Shots   1/3  PPA  CrsPA  Prog  \n",
       "0         369  1234  369     86  1409  \n",
       "\n",
       "[1 rows x 25 columns]"
      ]
     },
     "execution_count": 13,
     "metadata": {},
     "output_type": "execute_result"
    }
   ],
   "source": [
    "df"
   ]
  },
  {
   "cell_type": "code",
   "execution_count": 14,
   "id": "fecc7c25",
   "metadata": {
    "scrolled": true
   },
   "outputs": [],
   "source": [
    "df = df.drop(['index','90s','TotalCmp','TotalPassAtt','TotCmp%','TotDist','PrgDist','ShortCmp','ShortAtm','ShortCmp%','MediumCmp','MediumAtm','MediumCmp%','LongCmp','LongAtt','LongCmp%'],axis=1)"
   ]
  },
  {
   "cell_type": "code",
   "execution_count": 15,
   "id": "5fa15328",
   "metadata": {},
   "outputs": [
    {
     "data": {
      "text/html": [
       "<div>\n",
       "<style scoped>\n",
       "    .dataframe tbody tr th:only-of-type {\n",
       "        vertical-align: middle;\n",
       "    }\n",
       "\n",
       "    .dataframe tbody tr th {\n",
       "        vertical-align: top;\n",
       "    }\n",
       "\n",
       "    .dataframe thead th {\n",
       "        text-align: right;\n",
       "    }\n",
       "</style>\n",
       "<table border=\"1\" class=\"dataframe\">\n",
       "  <thead>\n",
       "    <tr style=\"text-align: right;\">\n",
       "      <th></th>\n",
       "      <th>Squad</th>\n",
       "      <th>Ast</th>\n",
       "      <th>xA</th>\n",
       "      <th>A-xA</th>\n",
       "      <th>Pass2Shots</th>\n",
       "      <th>1/3</th>\n",
       "      <th>PPA</th>\n",
       "      <th>CrsPA</th>\n",
       "      <th>Prog</th>\n",
       "    </tr>\n",
       "  </thead>\n",
       "  <tbody>\n",
       "    <tr>\n",
       "      <th>0</th>\n",
       "      <td>Manchester Utd</td>\n",
       "      <td>53</td>\n",
       "      <td>43.8</td>\n",
       "      <td>9.2</td>\n",
       "      <td>369</td>\n",
       "      <td>1234</td>\n",
       "      <td>369</td>\n",
       "      <td>86</td>\n",
       "      <td>1409</td>\n",
       "    </tr>\n",
       "  </tbody>\n",
       "</table>\n",
       "</div>"
      ],
      "text/plain": [
       "            Squad  Ast    xA  A-xA  Pass2Shots   1/3  PPA  CrsPA  Prog\n",
       "0  Manchester Utd   53  43.8   9.2         369  1234  369     86  1409"
      ]
     },
     "execution_count": 15,
     "metadata": {},
     "output_type": "execute_result"
    }
   ],
   "source": [
    "df"
   ]
  },
  {
   "cell_type": "code",
   "execution_count": 16,
   "id": "149f16e2",
   "metadata": {},
   "outputs": [
    {
     "data": {
      "text/plain": [
       "['Ast', 'xA', 'A-xA', 'Pass2Shots', '1/3', 'PPA', 'CrsPA', 'Prog']"
      ]
     },
     "execution_count": 16,
     "metadata": {},
     "output_type": "execute_result"
    }
   ],
   "source": [
    "#get parameters\n",
    "params = list(df.columns)\n",
    "params = params[1:]\n",
    "params"
   ]
  },
  {
   "cell_type": "code",
   "execution_count": 17,
   "id": "c71dc95e",
   "metadata": {},
   "outputs": [],
   "source": [
    "#Append values for min range\n",
    "min_range= []\n",
    "max_range= []\n",
    "\n",
    "min_range.append(min_A)\n",
    "min_range.append(min_xA)\n",
    "min_range.append(min_AmxA)\n",
    "min_range.append(min_P2S)\n",
    "min_range.append(min_1x3)\n",
    "min_range.append(min_PPA)\n",
    "min_range.append(min_CrsPA)\n",
    "min_range.append(min_Prog)"
   ]
  },
  {
   "cell_type": "code",
   "execution_count": 18,
   "id": "316dd138",
   "metadata": {},
   "outputs": [
    {
     "data": {
      "text/plain": [
       "[19, 18.4, -8.7, 212, 852, 181, 55, 942]"
      ]
     },
     "execution_count": 18,
     "metadata": {},
     "output_type": "execute_result"
    }
   ],
   "source": [
    "min_range"
   ]
  },
  {
   "cell_type": "code",
   "execution_count": 19,
   "id": "680710b0",
   "metadata": {},
   "outputs": [],
   "source": [
    "#Append values for max range\n",
    "max_range.append(max_A)\n",
    "max_range.append(max_xA)\n",
    "max_range.append(max_AmxA)\n",
    "max_range.append(max_P2S)\n",
    "max_range.append(max_1x3)\n",
    "max_range.append(max_PPA)\n",
    "max_range.append(max_CrsPA)\n",
    "max_range.append(max_Prog)"
   ]
  },
  {
   "cell_type": "code",
   "execution_count": 20,
   "id": "c1b25893",
   "metadata": {},
   "outputs": [
    {
     "data": {
      "text/plain": [
       "[85, 63.3, 20.7, 494, 1992, 537, 107, 2011]"
      ]
     },
     "execution_count": 20,
     "metadata": {},
     "output_type": "execute_result"
    }
   ],
   "source": [
    "max_range"
   ]
  },
  {
   "cell_type": "code",
   "execution_count": 21,
   "id": "e9b1bc70",
   "metadata": {},
   "outputs": [],
   "source": [
    "for x in range(len(df['Squad'])):\n",
    "    if df['Squad'][x] == 'Manchester Utd':\n",
    "        values = df.iloc[x].values.tolist()\n",
    "        \n",
    "values = values[1:]"
   ]
  },
  {
   "cell_type": "code",
   "execution_count": 22,
   "id": "dce4db82",
   "metadata": {},
   "outputs": [
    {
     "data": {
      "text/plain": [
       "[53, 43.8, 9.2, 369, 1234, 369, 86, 1409]"
      ]
     },
     "execution_count": 22,
     "metadata": {},
     "output_type": "execute_result"
    }
   ],
   "source": [
    "values"
   ]
  },
  {
   "cell_type": "code",
   "execution_count": 23,
   "id": "b2097a51",
   "metadata": {},
   "outputs": [],
   "source": [
    "radar = Radar(params, min_range, max_range,\n",
    "              # whether to round any of the labels to integers instead of decimal places\n",
    "              round_int=[False]*8,\n",
    "              num_rings=4,  # the number of concentric circles (excluding center circle)\n",
    "              # if the ring_width is more than the center_circle_radius then\n",
    "              # the center circle radius will be wider than the width of the concentric circles\n",
    "              ring_width=1, center_circle_radius=1)"
   ]
  },
  {
   "cell_type": "code",
   "execution_count": 24,
   "id": "a67081a2",
   "metadata": {},
   "outputs": [],
   "source": [
    "#We will use mplsoccer’s FontManager to load some fonts from Google Fonts. \n",
    "#We borrowed the FontManager from the ridge_map library.\n",
    "\n",
    "URL1 = ('https://github.com/googlefonts/SourceSerifProGFVersion/blob/main/'\n",
    "        'fonts/SourceSerifPro-Regular.ttf?raw=true')\n",
    "serif_regular = FontManager(URL1)\n",
    "URL2 = ('https://github.com/googlefonts/SourceSerifProGFVersion/blob/main/'\n",
    "        'fonts/SourceSerifPro-ExtraLight.ttf?raw=true')\n",
    "serif_extra_light = FontManager(URL2)\n",
    "URL3 = ('https://github.com/google/fonts/blob/main/ofl/rubikmonoone/'\n",
    "        'RubikMonoOne-Regular.ttf?raw=true')\n",
    "rubik_regular = FontManager(URL3)\n",
    "URL4 = 'https://github.com/googlefonts/roboto/blob/main/src/hinted/Roboto-Thin.ttf?raw=true'\n",
    "robotto_thin = FontManager(URL4)\n",
    "URL5 = 'https://github.com/googlefonts/roboto/blob/main/src/hinted/Roboto-Regular.ttf?raw=true'\n",
    "robotto_regular = FontManager(URL5)\n",
    "URL6 = 'https://github.com/googlefonts/roboto/blob/main/src/hinted/Roboto-Bold.ttf?raw=true'\n",
    "robotto_bold = FontManager(URL6)"
   ]
  },
  {
   "cell_type": "code",
   "execution_count": 25,
   "id": "d1a48bcc",
   "metadata": {},
   "outputs": [
    {
     "data": {
      "image/png": "[encoded data removed]",
      "text/plain": [
       "<Figure size 864x864 with 1 Axes>"
      ]
     },
     "metadata": {},
     "output_type": "display_data"
    }
   ],
   "source": [
    "fig, ax = radar.setup_axis()  # format axis as a radar\n",
    "rings_inner = radar.draw_circles(ax=ax, facecolor='#3F31C4', edgecolor='#fc5f5f')  # draw circles\n",
    "radar_output = radar.draw_radar(values, ax=ax,\n",
    "                                kwargs_radar={'facecolor': '#ffff00'},\n",
    "                                kwargs_rings={'facecolor': '#ff0000'})  # draw the radar\n",
    "radar_poly, rings_outer, vertices = radar_output\n",
    "range_labels = radar.draw_range_labels(ax=ax, fontsize=15,\n",
    "                                       fontproperties=robotto_regular.prop)  # draw the range labels\n",
    "param_labels = radar.draw_param_labels(ax=ax, fontsize=20,\n",
    "                                       fontproperties=robotto_regular.prop,color='#ff0000')  # draw the param labels"
   ]
  },
  {
   "cell_type": "code",
   "execution_count": null,
   "id": "bca7d25a",
   "metadata": {},
   "outputs": [],
   "source": []
  }
 ],
 "metadata": {
  "kernelspec": {
   "display_name": "Python 3 (ipykernel)",
   "language": "python",
   "name": "python3"
  },
  "language_info": {
   "codemirror_mode": {
    "name": "ipython",
    "version": 3
   },
   "file_extension": ".py",
   "mimetype": "text/x-python",
   "name": "python",
   "nbconvert_exporter": "python",
   "pygments_lexer": "ipython3",
   "version": "3.7.4"
  }
 },
 "nbformat": 4,
 "nbformat_minor": 5
}
