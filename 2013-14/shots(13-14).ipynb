{
 "cells": [
  {
   "cell_type": "code",
   "execution_count": 1,
   "id": "06a68528",
   "metadata": {},
   "outputs": [],
   "source": [
    "import pandas as pd\n",
    "import matplotlib.pyplot as plt\n",
    "from soccerplots.radar_chart import Radar\n",
    "from mplsoccer import Radar, FontManager\n",
    "import matplotlib.pyplot as plt"
   ]
  },
  {
   "cell_type": "code",
   "execution_count": 2,
   "id": "1089e437",
   "metadata": {},
   "outputs": [],
   "source": [
    "df = pd.read_csv('C:\\\\Users\\\\Amin\\\\Documents\\\\manutd(2012-2021)\\\\shots(13-14).csv')"
   ]
  },
  {
   "cell_type": "code",
   "execution_count": 5,
   "id": "3c40c1eb",
   "metadata": {
    "scrolled": true
   },
   "outputs": [
    {
     "data": {
      "text/html": [
       "<div>\n",
       "<style scoped>\n",
       "    .dataframe tbody tr th:only-of-type {\n",
       "        vertical-align: middle;\n",
       "    }\n",
       "\n",
       "    .dataframe tbody tr th {\n",
       "        vertical-align: top;\n",
       "    }\n",
       "\n",
       "    .dataframe thead th {\n",
       "        text-align: right;\n",
       "    }\n",
       "</style>\n",
       "<table border=\"1\" class=\"dataframe\">\n",
       "  <thead>\n",
       "    <tr style=\"text-align: right;\">\n",
       "      <th></th>\n",
       "      <th>Squad</th>\n",
       "      <th>Players used</th>\n",
       "      <th>Gls</th>\n",
       "      <th>SoT</th>\n",
       "      <th>SoT/90</th>\n",
       "      <th>G/SoT</th>\n",
       "      <th>PK</th>\n",
       "      <th>PKatt</th>\n",
       "    </tr>\n",
       "  </thead>\n",
       "  <tbody>\n",
       "    <tr>\n",
       "      <th>0</th>\n",
       "      <td>Arsenal</td>\n",
       "      <td>27</td>\n",
       "      <td>68</td>\n",
       "      <td>254</td>\n",
       "      <td>6.68</td>\n",
       "      <td>0.26</td>\n",
       "      <td>3</td>\n",
       "      <td>3</td>\n",
       "    </tr>\n",
       "    <tr>\n",
       "      <th>1</th>\n",
       "      <td>Aston Villa</td>\n",
       "      <td>26</td>\n",
       "      <td>38</td>\n",
       "      <td>136</td>\n",
       "      <td>3.58</td>\n",
       "      <td>0.26</td>\n",
       "      <td>2</td>\n",
       "      <td>4</td>\n",
       "    </tr>\n",
       "    <tr>\n",
       "      <th>2</th>\n",
       "      <td>Cardiff City</td>\n",
       "      <td>32</td>\n",
       "      <td>31</td>\n",
       "      <td>125</td>\n",
       "      <td>3.29</td>\n",
       "      <td>0.24</td>\n",
       "      <td>1</td>\n",
       "      <td>1</td>\n",
       "    </tr>\n",
       "    <tr>\n",
       "      <th>3</th>\n",
       "      <td>Chelsea</td>\n",
       "      <td>29</td>\n",
       "      <td>69</td>\n",
       "      <td>281</td>\n",
       "      <td>7.39</td>\n",
       "      <td>0.23</td>\n",
       "      <td>5</td>\n",
       "      <td>7</td>\n",
       "    </tr>\n",
       "    <tr>\n",
       "      <th>4</th>\n",
       "      <td>Crystal Palace</td>\n",
       "      <td>31</td>\n",
       "      <td>32</td>\n",
       "      <td>142</td>\n",
       "      <td>3.74</td>\n",
       "      <td>0.19</td>\n",
       "      <td>5</td>\n",
       "      <td>6</td>\n",
       "    </tr>\n",
       "  </tbody>\n",
       "</table>\n",
       "</div>"
      ],
      "text/plain": [
       "            Squad  Players used  Gls  SoT  SoT/90  G/SoT  PK  PKatt\n",
       "0         Arsenal            27   68  254    6.68   0.26   3      3\n",
       "1     Aston Villa            26   38  136    3.58   0.26   2      4\n",
       "2    Cardiff City            32   31  125    3.29   0.24   1      1\n",
       "3         Chelsea            29   69  281    7.39   0.23   5      7\n",
       "4  Crystal Palace            31   32  142    3.74   0.19   5      6"
      ]
     },
     "execution_count": 5,
     "metadata": {},
     "output_type": "execute_result"
    }
   ],
   "source": [
    "df.head()"
   ]
  },
  {
   "cell_type": "code",
   "execution_count": 6,
   "id": "99beab25",
   "metadata": {
    "scrolled": true
   },
   "outputs": [],
   "source": [
    "df = df.drop(['Players used','PK','PKatt'],axis=1)"
   ]
  },
  {
   "cell_type": "code",
   "execution_count": 7,
   "id": "fc87687d",
   "metadata": {},
   "outputs": [
    {
     "data": {
      "text/html": [
       "<div>\n",
       "<style scoped>\n",
       "    .dataframe tbody tr th:only-of-type {\n",
       "        vertical-align: middle;\n",
       "    }\n",
       "\n",
       "    .dataframe tbody tr th {\n",
       "        vertical-align: top;\n",
       "    }\n",
       "\n",
       "    .dataframe thead th {\n",
       "        text-align: right;\n",
       "    }\n",
       "</style>\n",
       "<table border=\"1\" class=\"dataframe\">\n",
       "  <thead>\n",
       "    <tr style=\"text-align: right;\">\n",
       "      <th></th>\n",
       "      <th>Squad</th>\n",
       "      <th>Gls</th>\n",
       "      <th>SoT</th>\n",
       "      <th>SoT/90</th>\n",
       "      <th>G/SoT</th>\n",
       "    </tr>\n",
       "  </thead>\n",
       "  <tbody>\n",
       "    <tr>\n",
       "      <th>0</th>\n",
       "      <td>Arsenal</td>\n",
       "      <td>68</td>\n",
       "      <td>254</td>\n",
       "      <td>6.68</td>\n",
       "      <td>0.26</td>\n",
       "    </tr>\n",
       "    <tr>\n",
       "      <th>1</th>\n",
       "      <td>Aston Villa</td>\n",
       "      <td>38</td>\n",
       "      <td>136</td>\n",
       "      <td>3.58</td>\n",
       "      <td>0.26</td>\n",
       "    </tr>\n",
       "    <tr>\n",
       "      <th>2</th>\n",
       "      <td>Cardiff City</td>\n",
       "      <td>31</td>\n",
       "      <td>125</td>\n",
       "      <td>3.29</td>\n",
       "      <td>0.24</td>\n",
       "    </tr>\n",
       "    <tr>\n",
       "      <th>3</th>\n",
       "      <td>Chelsea</td>\n",
       "      <td>69</td>\n",
       "      <td>281</td>\n",
       "      <td>7.39</td>\n",
       "      <td>0.23</td>\n",
       "    </tr>\n",
       "    <tr>\n",
       "      <th>4</th>\n",
       "      <td>Crystal Palace</td>\n",
       "      <td>32</td>\n",
       "      <td>142</td>\n",
       "      <td>3.74</td>\n",
       "      <td>0.19</td>\n",
       "    </tr>\n",
       "    <tr>\n",
       "      <th>5</th>\n",
       "      <td>Everton</td>\n",
       "      <td>58</td>\n",
       "      <td>235</td>\n",
       "      <td>6.18</td>\n",
       "      <td>0.23</td>\n",
       "    </tr>\n",
       "    <tr>\n",
       "      <th>6</th>\n",
       "      <td>Fulham</td>\n",
       "      <td>38</td>\n",
       "      <td>149</td>\n",
       "      <td>3.92</td>\n",
       "      <td>0.24</td>\n",
       "    </tr>\n",
       "    <tr>\n",
       "      <th>7</th>\n",
       "      <td>Hull City</td>\n",
       "      <td>35</td>\n",
       "      <td>129</td>\n",
       "      <td>3.39</td>\n",
       "      <td>0.26</td>\n",
       "    </tr>\n",
       "    <tr>\n",
       "      <th>8</th>\n",
       "      <td>Liverpool</td>\n",
       "      <td>97</td>\n",
       "      <td>300</td>\n",
       "      <td>7.89</td>\n",
       "      <td>0.29</td>\n",
       "    </tr>\n",
       "    <tr>\n",
       "      <th>9</th>\n",
       "      <td>Manchester City</td>\n",
       "      <td>97</td>\n",
       "      <td>239</td>\n",
       "      <td>6.29</td>\n",
       "      <td>0.38</td>\n",
       "    </tr>\n",
       "    <tr>\n",
       "      <th>10</th>\n",
       "      <td>Manchester Utd</td>\n",
       "      <td>63</td>\n",
       "      <td>234</td>\n",
       "      <td>6.16</td>\n",
       "      <td>0.25</td>\n",
       "    </tr>\n",
       "    <tr>\n",
       "      <th>11</th>\n",
       "      <td>Newcastle Utd</td>\n",
       "      <td>41</td>\n",
       "      <td>185</td>\n",
       "      <td>4.87</td>\n",
       "      <td>0.21</td>\n",
       "    </tr>\n",
       "    <tr>\n",
       "      <th>12</th>\n",
       "      <td>Norwich City</td>\n",
       "      <td>28</td>\n",
       "      <td>145</td>\n",
       "      <td>3.82</td>\n",
       "      <td>0.19</td>\n",
       "    </tr>\n",
       "    <tr>\n",
       "      <th>13</th>\n",
       "      <td>Southampton</td>\n",
       "      <td>52</td>\n",
       "      <td>181</td>\n",
       "      <td>4.76</td>\n",
       "      <td>0.27</td>\n",
       "    </tr>\n",
       "    <tr>\n",
       "      <th>14</th>\n",
       "      <td>Stoke City</td>\n",
       "      <td>44</td>\n",
       "      <td>142</td>\n",
       "      <td>3.74</td>\n",
       "      <td>0.28</td>\n",
       "    </tr>\n",
       "    <tr>\n",
       "      <th>15</th>\n",
       "      <td>Sunderland</td>\n",
       "      <td>41</td>\n",
       "      <td>135</td>\n",
       "      <td>3.55</td>\n",
       "      <td>0.26</td>\n",
       "    </tr>\n",
       "    <tr>\n",
       "      <th>16</th>\n",
       "      <td>Swansea City</td>\n",
       "      <td>47</td>\n",
       "      <td>163</td>\n",
       "      <td>4.29</td>\n",
       "      <td>0.26</td>\n",
       "    </tr>\n",
       "    <tr>\n",
       "      <th>17</th>\n",
       "      <td>Tottenham</td>\n",
       "      <td>50</td>\n",
       "      <td>228</td>\n",
       "      <td>6.00</td>\n",
       "      <td>0.20</td>\n",
       "    </tr>\n",
       "    <tr>\n",
       "      <th>18</th>\n",
       "      <td>West Brom</td>\n",
       "      <td>41</td>\n",
       "      <td>145</td>\n",
       "      <td>3.82</td>\n",
       "      <td>0.27</td>\n",
       "    </tr>\n",
       "    <tr>\n",
       "      <th>19</th>\n",
       "      <td>West Ham</td>\n",
       "      <td>36</td>\n",
       "      <td>123</td>\n",
       "      <td>3.24</td>\n",
       "      <td>0.28</td>\n",
       "    </tr>\n",
       "  </tbody>\n",
       "</table>\n",
       "</div>"
      ],
      "text/plain": [
       "              Squad  Gls  SoT  SoT/90  G/SoT\n",
       "0           Arsenal   68  254    6.68   0.26\n",
       "1       Aston Villa   38  136    3.58   0.26\n",
       "2      Cardiff City   31  125    3.29   0.24\n",
       "3           Chelsea   69  281    7.39   0.23\n",
       "4    Crystal Palace   32  142    3.74   0.19\n",
       "5           Everton   58  235    6.18   0.23\n",
       "6            Fulham   38  149    3.92   0.24\n",
       "7         Hull City   35  129    3.39   0.26\n",
       "8         Liverpool   97  300    7.89   0.29\n",
       "9   Manchester City   97  239    6.29   0.38\n",
       "10   Manchester Utd   63  234    6.16   0.25\n",
       "11    Newcastle Utd   41  185    4.87   0.21\n",
       "12     Norwich City   28  145    3.82   0.19\n",
       "13      Southampton   52  181    4.76   0.27\n",
       "14       Stoke City   44  142    3.74   0.28\n",
       "15       Sunderland   41  135    3.55   0.26\n",
       "16     Swansea City   47  163    4.29   0.26\n",
       "17        Tottenham   50  228    6.00   0.20\n",
       "18        West Brom   41  145    3.82   0.27\n",
       "19         West Ham   36  123    3.24   0.28"
      ]
     },
     "execution_count": 7,
     "metadata": {},
     "output_type": "execute_result"
    }
   ],
   "source": [
    "df"
   ]
  },
  {
   "cell_type": "code",
   "execution_count": 8,
   "id": "8fc1757b",
   "metadata": {},
   "outputs": [
    {
     "data": {
      "text/plain": [
       "['Gls', 'SoT', 'SoT/90', 'G/SoT']"
      ]
     },
     "execution_count": 8,
     "metadata": {},
     "output_type": "execute_result"
    }
   ],
   "source": [
    "min_range = []\n",
    "max_range = []\n",
    "\n",
    "#get parameters\n",
    "params = list(df.columns)\n",
    "params = params[1:]\n",
    "params"
   ]
  },
  {
   "cell_type": "code",
   "execution_count": 9,
   "id": "66376274",
   "metadata": {},
   "outputs": [],
   "source": [
    "#finding max and min Goals scored\n",
    "min_Gls = min(df[params]['Gls'])\n",
    "max_Gls = max(df[params]['Gls'])\n",
    "min_range.append(min_Gls)\n",
    "max_range.append(max_Gls)\n",
    "\n",
    "#finding max and min Shots on Target\n",
    "min_SoT = min(df[params]['SoT'])\n",
    "max_SoT = max(df[params]['SoT'])\n",
    "min_range.append(min_SoT)\n",
    "max_range.append(max_SoT)\n",
    "\n",
    "\n",
    "#finding max and min Shots on Target per 90\n",
    "min_SoTp90 = min(df[params]['SoT/90'])\n",
    "max_SoTp90 = max(df[params]['SoT/90'])\n",
    "min_range.append(min_SoTp90)\n",
    "max_range.append(max_SoTp90)\n",
    "\n",
    "\n",
    "#finding max and min Goals per Shots on Target\n",
    "min_GpSoT = min(df[params]['G/SoT'])\n",
    "max_GpSoT = max(df[params]['G/SoT'])\n",
    "min_range.append(min_GpSoT)\n",
    "max_range.append(max_GpSoT)\n"
   ]
  },
  {
   "cell_type": "code",
   "execution_count": 10,
   "id": "12390316",
   "metadata": {},
   "outputs": [],
   "source": [
    "df = df[df['Squad']=='Manchester Utd'].reset_index()"
   ]
  },
  {
   "cell_type": "code",
   "execution_count": 11,
   "id": "808ffee7",
   "metadata": {},
   "outputs": [
    {
     "data": {
      "text/html": [
       "<div>\n",
       "<style scoped>\n",
       "    .dataframe tbody tr th:only-of-type {\n",
       "        vertical-align: middle;\n",
       "    }\n",
       "\n",
       "    .dataframe tbody tr th {\n",
       "        vertical-align: top;\n",
       "    }\n",
       "\n",
       "    .dataframe thead th {\n",
       "        text-align: right;\n",
       "    }\n",
       "</style>\n",
       "<table border=\"1\" class=\"dataframe\">\n",
       "  <thead>\n",
       "    <tr style=\"text-align: right;\">\n",
       "      <th></th>\n",
       "      <th>index</th>\n",
       "      <th>Squad</th>\n",
       "      <th>Gls</th>\n",
       "      <th>SoT</th>\n",
       "      <th>SoT/90</th>\n",
       "      <th>G/SoT</th>\n",
       "    </tr>\n",
       "  </thead>\n",
       "  <tbody>\n",
       "    <tr>\n",
       "      <th>0</th>\n",
       "      <td>10</td>\n",
       "      <td>Manchester Utd</td>\n",
       "      <td>63</td>\n",
       "      <td>234</td>\n",
       "      <td>6.16</td>\n",
       "      <td>0.25</td>\n",
       "    </tr>\n",
       "  </tbody>\n",
       "</table>\n",
       "</div>"
      ],
      "text/plain": [
       "   index           Squad  Gls  SoT  SoT/90  G/SoT\n",
       "0     10  Manchester Utd   63  234    6.16   0.25"
      ]
     },
     "execution_count": 11,
     "metadata": {},
     "output_type": "execute_result"
    }
   ],
   "source": [
    "df"
   ]
  },
  {
   "cell_type": "code",
   "execution_count": 12,
   "id": "75566f06",
   "metadata": {},
   "outputs": [
    {
     "data": {
      "text/plain": [
       "[28, 123, 3.24, 0.19]"
      ]
     },
     "execution_count": 12,
     "metadata": {},
     "output_type": "execute_result"
    }
   ],
   "source": [
    "min_range"
   ]
  },
  {
   "cell_type": "code",
   "execution_count": 13,
   "id": "d4452d97",
   "metadata": {},
   "outputs": [
    {
     "data": {
      "text/plain": [
       "[97, 300, 7.89, 0.38]"
      ]
     },
     "execution_count": 13,
     "metadata": {},
     "output_type": "execute_result"
    }
   ],
   "source": [
    "max_range"
   ]
  },
  {
   "cell_type": "code",
   "execution_count": 14,
   "id": "53992090",
   "metadata": {},
   "outputs": [],
   "source": [
    "for x in range(len(df['Squad'])):\n",
    "    if df['Squad'][x] == 'Manchester Utd':\n",
    "        values = df.iloc[x].values.tolist()"
   ]
  },
  {
   "cell_type": "code",
   "execution_count": 15,
   "id": "d1833a35",
   "metadata": {},
   "outputs": [],
   "source": [
    "values = values[2:]"
   ]
  },
  {
   "cell_type": "code",
   "execution_count": 16,
   "id": "146882f4",
   "metadata": {},
   "outputs": [
    {
     "data": {
      "text/plain": [
       "[63, 234, 6.16, 0.25]"
      ]
     },
     "execution_count": 16,
     "metadata": {},
     "output_type": "execute_result"
    }
   ],
   "source": [
    "values"
   ]
  },
  {
   "cell_type": "code",
   "execution_count": 17,
   "id": "4865cc92",
   "metadata": {},
   "outputs": [],
   "source": [
    "#title \n",
    "\n",
    "title = dict(\n",
    "    title_name='Manchester United 14-15',\n",
    "    title_color = 'red',\n",
    "    subtitle_name = 'Shot Creation',\n",
    "    subtitle_color = 'black',\n",
    "\n",
    "    title_fontsize = 18,\n",
    "    subtitle_fontsize=15\n",
    ")\n",
    "\n",
    "endnote = 'Viz. by Chaitanya Shetty'"
   ]
  },
  {
   "cell_type": "code",
   "execution_count": 18,
   "id": "ffa03f10",
   "metadata": {},
   "outputs": [],
   "source": [
    "radar = Radar(params, min_range, max_range,\n",
    "              # whether to round any of the labels to integers instead of decimal places\n",
    "              round_int=[False]*4,\n",
    "              num_rings=3,  # the number of concentric circles (excluding center circle)\n",
    "              # if the ring_width is more than the center_circle_radius then\n",
    "              # the center circle radius will be wider than the width of the concentric circles\n",
    "              ring_width=1, center_circle_radius=1)"
   ]
  },
  {
   "cell_type": "code",
   "execution_count": 19,
   "id": "99846e59",
   "metadata": {},
   "outputs": [],
   "source": [
    "#We will use mplsoccer’s FontManager to load some fonts from Google Fonts. \n",
    "#We borrowed the FontManager from the ridge_map library.\n",
    "\n",
    "URL1 = ('https://github.com/googlefonts/SourceSerifProGFVersion/blob/main/'\n",
    "        'fonts/SourceSerifPro-Regular.ttf?raw=true')\n",
    "serif_regular = FontManager(URL1)\n",
    "URL2 = ('https://github.com/googlefonts/SourceSerifProGFVersion/blob/main/'\n",
    "        'fonts/SourceSerifPro-ExtraLight.ttf?raw=true')\n",
    "serif_extra_light = FontManager(URL2)\n",
    "URL3 = ('https://github.com/google/fonts/blob/main/ofl/rubikmonoone/'\n",
    "        'RubikMonoOne-Regular.ttf?raw=true')\n",
    "rubik_regular = FontManager(URL3)\n",
    "URL4 = 'https://github.com/googlefonts/roboto/blob/main/src/hinted/Roboto-Thin.ttf?raw=true'\n",
    "robotto_thin = FontManager(URL4)\n",
    "URL5 = 'https://github.com/googlefonts/roboto/blob/main/src/hinted/Roboto-Regular.ttf?raw=true'\n",
    "robotto_regular = FontManager(URL5)\n",
    "URL6 = 'https://github.com/googlefonts/roboto/blob/main/src/hinted/Roboto-Bold.ttf?raw=true'\n",
    "robotto_bold = FontManager(URL6)"
   ]
  },
  {
   "cell_type": "code",
   "execution_count": 20,
   "id": "259aa8ac",
   "metadata": {},
   "outputs": [
    {
     "data": {
      "image/png": "[encoded data removed]",
      "text/plain": [
       "<Figure size 864x864 with 1 Axes>"
      ]
     },
     "metadata": {},
     "output_type": "display_data"
    }
   ],
   "source": [
    "fig, ax = radar.setup_axis()  # format axis as a radar\n",
    "rings_inner = radar.draw_circles(ax=ax, facecolor='#ffb2b2', edgecolor='#fc5f5f')  # draw circles\n",
    "radar_output = radar.draw_radar(values, ax=ax,\n",
    "                                kwargs_radar={'facecolor': '#aa65b2'},\n",
    "                                kwargs_rings={'facecolor': '#66d8ba'})  # draw the radar\n",
    "radar_poly, rings_outer, vertices = radar_output\n",
    "range_labels = radar.draw_range_labels(ax=ax, fontsize=15,\n",
    "                                       fontproperties=robotto_thin.prop)  # draw the range labels\n",
    "param_labels = radar.draw_param_labels(ax=ax, fontsize=15,\n",
    "                                       fontproperties=robotto_regular.prop)  # draw the param labels"
   ]
  },
  {
   "cell_type": "code",
   "execution_count": null,
   "id": "a05688ed",
   "metadata": {},
   "outputs": [],
   "source": []
  }
 ],
 "metadata": {
  "kernelspec": {
   "display_name": "Python 3 (ipykernel)",
   "language": "python",
   "name": "python3"
  },
  "language_info": {
   "codemirror_mode": {
    "name": "ipython",
    "version": 3
   },
   "file_extension": ".py",
   "mimetype": "text/x-python",
   "name": "python",
   "nbconvert_exporter": "python",
   "pygments_lexer": "ipython3",
   "version": "3.7.4"
  }
 },
 "nbformat": 4,
 "nbformat_minor": 5
}
