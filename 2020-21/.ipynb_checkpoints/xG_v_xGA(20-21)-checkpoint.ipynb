{
 "cells": [
  {
   "cell_type": "code",
   "execution_count": 1,
   "id": "f11448a6",
   "metadata": {},
   "outputs": [],
   "source": [
    "# use pandas to load and manipulate the data, matplotlib to plot\n",
    "import pandas as pd\n",
    "import matplotlib.pyplot as plt"
   ]
  },
  {
   "cell_type": "code",
   "execution_count": 2,
   "id": "a182ff6a",
   "metadata": {},
   "outputs": [],
   "source": [
    "df = pd.read_csv('C:\\\\Users\\\\Amin\\\\Documents\\\\manutd(2012-2021)\\\\fixtures20-21.csv')"
   ]
  },
  {
   "cell_type": "code",
   "execution_count": 3,
   "id": "7adc6e6b",
   "metadata": {},
   "outputs": [
    {
     "data": {
      "text/html": [
       "<div>\n",
       "<style scoped>\n",
       "    .dataframe tbody tr th:only-of-type {\n",
       "        vertical-align: middle;\n",
       "    }\n",
       "\n",
       "    .dataframe tbody tr th {\n",
       "        vertical-align: top;\n",
       "    }\n",
       "\n",
       "    .dataframe thead th {\n",
       "        text-align: right;\n",
       "    }\n",
       "</style>\n",
       "<table border=\"1\" class=\"dataframe\">\n",
       "  <thead>\n",
       "    <tr style=\"text-align: right;\">\n",
       "      <th></th>\n",
       "      <th>Date</th>\n",
       "      <th>Time</th>\n",
       "      <th>Comp</th>\n",
       "      <th>Round</th>\n",
       "      <th>Day</th>\n",
       "      <th>Venue</th>\n",
       "      <th>Result</th>\n",
       "      <th>GF</th>\n",
       "      <th>GA</th>\n",
       "      <th>Opponent</th>\n",
       "      <th>xG</th>\n",
       "      <th>xGA</th>\n",
       "      <th>Poss</th>\n",
       "      <th>Attendance</th>\n",
       "      <th>Captain</th>\n",
       "      <th>Formation</th>\n",
       "      <th>Referee</th>\n",
       "      <th>Match Report</th>\n",
       "      <th>Notes</th>\n",
       "    </tr>\n",
       "  </thead>\n",
       "  <tbody>\n",
       "    <tr>\n",
       "      <th>0</th>\n",
       "      <td>2020-09-19</td>\n",
       "      <td>17:30 (22:00)</td>\n",
       "      <td>Premier League</td>\n",
       "      <td>Matchweek 2</td>\n",
       "      <td>Sat</td>\n",
       "      <td>Home</td>\n",
       "      <td>L</td>\n",
       "      <td>1</td>\n",
       "      <td>3</td>\n",
       "      <td>Crystal Palace</td>\n",
       "      <td>1.1</td>\n",
       "      <td>1.6</td>\n",
       "      <td>75</td>\n",
       "      <td>NaN</td>\n",
       "      <td>Harry Maguire</td>\n",
       "      <td>4-2-3-1</td>\n",
       "      <td>Martin Atkinson</td>\n",
       "      <td>Match Report</td>\n",
       "      <td>NaN</td>\n",
       "    </tr>\n",
       "    <tr>\n",
       "      <th>1</th>\n",
       "      <td>2020-09-26</td>\n",
       "      <td>12:30 (17:00)</td>\n",
       "      <td>Premier League</td>\n",
       "      <td>Matchweek 3</td>\n",
       "      <td>Sat</td>\n",
       "      <td>Away</td>\n",
       "      <td>W</td>\n",
       "      <td>3</td>\n",
       "      <td>2</td>\n",
       "      <td>Brighton</td>\n",
       "      <td>1.1</td>\n",
       "      <td>2.4</td>\n",
       "      <td>46</td>\n",
       "      <td>NaN</td>\n",
       "      <td>Harry Maguire</td>\n",
       "      <td>4-2-3-1</td>\n",
       "      <td>Chris Kavanagh</td>\n",
       "      <td>Match Report</td>\n",
       "      <td>NaN</td>\n",
       "    </tr>\n",
       "    <tr>\n",
       "      <th>2</th>\n",
       "      <td>2020-10-04</td>\n",
       "      <td>16:30 (21:00)</td>\n",
       "      <td>Premier League</td>\n",
       "      <td>Matchweek 4</td>\n",
       "      <td>Sun</td>\n",
       "      <td>Home</td>\n",
       "      <td>L</td>\n",
       "      <td>1</td>\n",
       "      <td>6</td>\n",
       "      <td>Tottenham</td>\n",
       "      <td>0.9</td>\n",
       "      <td>3.8</td>\n",
       "      <td>38</td>\n",
       "      <td>NaN</td>\n",
       "      <td>Harry Maguire</td>\n",
       "      <td>4-2-3-1</td>\n",
       "      <td>Anthony Taylor</td>\n",
       "      <td>Match Report</td>\n",
       "      <td>NaN</td>\n",
       "    </tr>\n",
       "    <tr>\n",
       "      <th>3</th>\n",
       "      <td>2020-10-17</td>\n",
       "      <td>20:00 (00:30)</td>\n",
       "      <td>Premier League</td>\n",
       "      <td>Matchweek 5</td>\n",
       "      <td>Sat</td>\n",
       "      <td>Away</td>\n",
       "      <td>W</td>\n",
       "      <td>4</td>\n",
       "      <td>1</td>\n",
       "      <td>Newcastle Utd</td>\n",
       "      <td>2.7</td>\n",
       "      <td>0.5</td>\n",
       "      <td>63</td>\n",
       "      <td>NaN</td>\n",
       "      <td>Harry Maguire</td>\n",
       "      <td>4-2-3-1</td>\n",
       "      <td>Craig Pawson</td>\n",
       "      <td>Match Report</td>\n",
       "      <td>NaN</td>\n",
       "    </tr>\n",
       "    <tr>\n",
       "      <th>4</th>\n",
       "      <td>2020-10-24</td>\n",
       "      <td>17:30 (22:00)</td>\n",
       "      <td>Premier League</td>\n",
       "      <td>Matchweek 6</td>\n",
       "      <td>Sat</td>\n",
       "      <td>Home</td>\n",
       "      <td>D</td>\n",
       "      <td>0</td>\n",
       "      <td>0</td>\n",
       "      <td>Chelsea</td>\n",
       "      <td>0.7</td>\n",
       "      <td>0.2</td>\n",
       "      <td>50</td>\n",
       "      <td>NaN</td>\n",
       "      <td>Harry Maguire</td>\n",
       "      <td>4-2-3-1</td>\n",
       "      <td>Martin Atkinson</td>\n",
       "      <td>Match Report</td>\n",
       "      <td>NaN</td>\n",
       "    </tr>\n",
       "  </tbody>\n",
       "</table>\n",
       "</div>"
      ],
      "text/plain": [
       "         Date           Time            Comp        Round  Day Venue Result  \\\n",
       "0  2020-09-19  17:30 (22:00)  Premier League  Matchweek 2  Sat  Home      L   \n",
       "1  2020-09-26  12:30 (17:00)  Premier League  Matchweek 3  Sat  Away      W   \n",
       "2  2020-10-04  16:30 (21:00)  Premier League  Matchweek 4  Sun  Home      L   \n",
       "3  2020-10-17  20:00 (00:30)  Premier League  Matchweek 5  Sat  Away      W   \n",
       "4  2020-10-24  17:30 (22:00)  Premier League  Matchweek 6  Sat  Home      D   \n",
       "\n",
       "   GF  GA        Opponent   xG  xGA  Poss  Attendance        Captain  \\\n",
       "0   1   3  Crystal Palace  1.1  1.6    75         NaN  Harry Maguire   \n",
       "1   3   2        Brighton  1.1  2.4    46         NaN  Harry Maguire   \n",
       "2   1   6       Tottenham  0.9  3.8    38         NaN  Harry Maguire   \n",
       "3   4   1   Newcastle Utd  2.7  0.5    63         NaN  Harry Maguire   \n",
       "4   0   0         Chelsea  0.7  0.2    50         NaN  Harry Maguire   \n",
       "\n",
       "  Formation          Referee  Match Report  Notes  \n",
       "0   4-2-3-1  Martin Atkinson  Match Report    NaN  \n",
       "1   4-2-3-1   Chris Kavanagh  Match Report    NaN  \n",
       "2   4-2-3-1   Anthony Taylor  Match Report    NaN  \n",
       "3   4-2-3-1     Craig Pawson  Match Report    NaN  \n",
       "4   4-2-3-1  Martin Atkinson  Match Report    NaN  "
      ]
     },
     "execution_count": 3,
     "metadata": {},
     "output_type": "execute_result"
    }
   ],
   "source": [
    "df.head()"
   ]
  },
  {
   "cell_type": "code",
   "execution_count": 4,
   "id": "29492eaa",
   "metadata": {},
   "outputs": [],
   "source": [
    "df['match'] = range(1,39)"
   ]
  },
  {
   "cell_type": "code",
   "execution_count": 5,
   "id": "c78b3615",
   "metadata": {},
   "outputs": [],
   "source": [
    "df['xgSMA'] = df['xG'].rolling(window=3).mean()\n",
    "df['xgaSMA'] = df['xGA'].rolling(window=3).mean()"
   ]
  },
  {
   "cell_type": "code",
   "execution_count": 6,
   "id": "82ef2c71",
   "metadata": {},
   "outputs": [
    {
     "data": {
      "text/plain": [
       "[<matplotlib.lines.Line2D at 0xb3bb1d8248>]"
      ]
     },
     "execution_count": 6,
     "metadata": {},
     "output_type": "execute_result"
    },
    {
     "data": {
      "image/png": "[encoded data removed]",
      "text/plain": [
       "<Figure size 432x288 with 1 Axes>"
      ]
     },
     "metadata": {
      "needs_background": "light"
     },
     "output_type": "display_data"
    }
   ],
   "source": [
    "#blue for xG and red for xGA\n",
    "plt.plot(df.match,df.xgSMA,color='blue')\n",
    "plt.plot(df.match,df.xgaSMA,color='red')"
   ]
  },
  {
   "cell_type": "code",
   "execution_count": null,
   "id": "d6b5253f",
   "metadata": {},
   "outputs": [],
   "source": []
  }
 ],
 "metadata": {
  "kernelspec": {
   "display_name": "Python 3 (ipykernel)",
   "language": "python",
   "name": "python3"
  },
  "language_info": {
   "codemirror_mode": {
    "name": "ipython",
    "version": 3
   },
   "file_extension": ".py",
   "mimetype": "text/x-python",
   "name": "python",
   "nbconvert_exporter": "python",
   "pygments_lexer": "ipython3",
   "version": "3.7.4"
  }
 },
 "nbformat": 4,
 "nbformat_minor": 5
}
