{
 "cells": [
  {
   "cell_type": "code",
   "execution_count": 44,
   "id": "296c897b",
   "metadata": {},
   "outputs": [],
   "source": [
    "import pandas as pd\n",
    "import matplotlib.pyplot as plt\n",
    "from soccerplots.radar_chart import Radar\n",
    "from mplsoccer import Radar, FontManager\n",
    "import matplotlib.pyplot as plt"
   ]
  },
  {
   "cell_type": "code",
   "execution_count": 45,
   "id": "988a3c7e",
   "metadata": {},
   "outputs": [],
   "source": [
    "df = pd.read_csv('C:\\\\Users\\\\Amin\\\\Documents\\\\manutd(2012-2021)\\\\utdpass(20-21).csv')"
   ]
  },
  {
   "cell_type": "code",
   "execution_count": 46,
   "id": "f416b6ab",
   "metadata": {},
   "outputs": [
    {
     "data": {
      "text/html": [
       "<div>\n",
       "<style scoped>\n",
       "    .dataframe tbody tr th:only-of-type {\n",
       "        vertical-align: middle;\n",
       "    }\n",
       "\n",
       "    .dataframe tbody tr th {\n",
       "        vertical-align: top;\n",
       "    }\n",
       "\n",
       "    .dataframe thead th {\n",
       "        text-align: right;\n",
       "    }\n",
       "</style>\n",
       "<table border=\"1\" class=\"dataframe\">\n",
       "  <thead>\n",
       "    <tr style=\"text-align: right;\">\n",
       "      <th></th>\n",
       "      <th>Squad</th>\n",
       "      <th>90s</th>\n",
       "      <th>TotalCom</th>\n",
       "      <th>PassAtm</th>\n",
       "      <th>Cmp%</th>\n",
       "      <th>TotDist</th>\n",
       "      <th>PrgDist</th>\n",
       "      <th>ShortCmp</th>\n",
       "      <th>ShortAtm</th>\n",
       "      <th>ShortCmp%</th>\n",
       "      <th>...</th>\n",
       "      <th>LongAtt</th>\n",
       "      <th>LongCmp%</th>\n",
       "      <th>Ast</th>\n",
       "      <th>xA</th>\n",
       "      <th>A-xA</th>\n",
       "      <th>Psss2Shots</th>\n",
       "      <th>1/3</th>\n",
       "      <th>PPA</th>\n",
       "      <th>CrsPA</th>\n",
       "      <th>Prog</th>\n",
       "    </tr>\n",
       "  </thead>\n",
       "  <tbody>\n",
       "    <tr>\n",
       "      <th>0</th>\n",
       "      <td>Arsenal</td>\n",
       "      <td>38</td>\n",
       "      <td>17802</td>\n",
       "      <td>21291</td>\n",
       "      <td>83.6</td>\n",
       "      <td>341180</td>\n",
       "      <td>93564</td>\n",
       "      <td>7057</td>\n",
       "      <td>7896</td>\n",
       "      <td>89.4</td>\n",
       "      <td>...</td>\n",
       "      <td>3723</td>\n",
       "      <td>63.8</td>\n",
       "      <td>38</td>\n",
       "      <td>36.6</td>\n",
       "      <td>1.4</td>\n",
       "      <td>323</td>\n",
       "      <td>1318</td>\n",
       "      <td>340</td>\n",
       "      <td>72</td>\n",
       "      <td>1340</td>\n",
       "    </tr>\n",
       "    <tr>\n",
       "      <th>1</th>\n",
       "      <td>Aston Villa</td>\n",
       "      <td>38</td>\n",
       "      <td>12779</td>\n",
       "      <td>16556</td>\n",
       "      <td>77.2</td>\n",
       "      <td>263536</td>\n",
       "      <td>95235</td>\n",
       "      <td>4835</td>\n",
       "      <td>5582</td>\n",
       "      <td>86.6</td>\n",
       "      <td>...</td>\n",
       "      <td>3848</td>\n",
       "      <td>56.5</td>\n",
       "      <td>38</td>\n",
       "      <td>37.1</td>\n",
       "      <td>0.9</td>\n",
       "      <td>398</td>\n",
       "      <td>1079</td>\n",
       "      <td>352</td>\n",
       "      <td>79</td>\n",
       "      <td>1236</td>\n",
       "    </tr>\n",
       "    <tr>\n",
       "      <th>2</th>\n",
       "      <td>Brighton</td>\n",
       "      <td>38</td>\n",
       "      <td>15598</td>\n",
       "      <td>19456</td>\n",
       "      <td>80.2</td>\n",
       "      <td>316711</td>\n",
       "      <td>97708</td>\n",
       "      <td>5744</td>\n",
       "      <td>6604</td>\n",
       "      <td>87.0</td>\n",
       "      <td>...</td>\n",
       "      <td>4033</td>\n",
       "      <td>61.4</td>\n",
       "      <td>24</td>\n",
       "      <td>33.0</td>\n",
       "      <td>-9.0</td>\n",
       "      <td>349</td>\n",
       "      <td>1084</td>\n",
       "      <td>381</td>\n",
       "      <td>91</td>\n",
       "      <td>1252</td>\n",
       "    </tr>\n",
       "    <tr>\n",
       "      <th>3</th>\n",
       "      <td>Burnley</td>\n",
       "      <td>38</td>\n",
       "      <td>10644</td>\n",
       "      <td>15043</td>\n",
       "      <td>70.8</td>\n",
       "      <td>220877</td>\n",
       "      <td>86521</td>\n",
       "      <td>4419</td>\n",
       "      <td>5198</td>\n",
       "      <td>85.0</td>\n",
       "      <td>...</td>\n",
       "      <td>4244</td>\n",
       "      <td>48.0</td>\n",
       "      <td>20</td>\n",
       "      <td>27.1</td>\n",
       "      <td>-7.1</td>\n",
       "      <td>267</td>\n",
       "      <td>881</td>\n",
       "      <td>283</td>\n",
       "      <td>84</td>\n",
       "      <td>943</td>\n",
       "    </tr>\n",
       "    <tr>\n",
       "      <th>4</th>\n",
       "      <td>Chelsea</td>\n",
       "      <td>38</td>\n",
       "      <td>21646</td>\n",
       "      <td>25151</td>\n",
       "      <td>86.1</td>\n",
       "      <td>408322</td>\n",
       "      <td>115504</td>\n",
       "      <td>8896</td>\n",
       "      <td>9759</td>\n",
       "      <td>91.2</td>\n",
       "      <td>...</td>\n",
       "      <td>3901</td>\n",
       "      <td>68.3</td>\n",
       "      <td>38</td>\n",
       "      <td>42.4</td>\n",
       "      <td>-4.4</td>\n",
       "      <td>443</td>\n",
       "      <td>1440</td>\n",
       "      <td>393</td>\n",
       "      <td>80</td>\n",
       "      <td>1528</td>\n",
       "    </tr>\n",
       "  </tbody>\n",
       "</table>\n",
       "<p>5 rows × 24 columns</p>\n",
       "</div>"
      ],
      "text/plain": [
       "         Squad  90s  TotalCom  PassAtm  Cmp%  TotDist  PrgDist  ShortCmp  \\\n",
       "0      Arsenal   38     17802    21291  83.6   341180    93564      7057   \n",
       "1  Aston Villa   38     12779    16556  77.2   263536    95235      4835   \n",
       "2     Brighton   38     15598    19456  80.2   316711    97708      5744   \n",
       "3      Burnley   38     10644    15043  70.8   220877    86521      4419   \n",
       "4      Chelsea   38     21646    25151  86.1   408322   115504      8896   \n",
       "\n",
       "   ShortAtm  ShortCmp%  ...  LongAtt  LongCmp%  Ast    xA  A-xA  Psss2Shots  \\\n",
       "0      7896       89.4  ...     3723      63.8   38  36.6   1.4         323   \n",
       "1      5582       86.6  ...     3848      56.5   38  37.1   0.9         398   \n",
       "2      6604       87.0  ...     4033      61.4   24  33.0  -9.0         349   \n",
       "3      5198       85.0  ...     4244      48.0   20  27.1  -7.1         267   \n",
       "4      9759       91.2  ...     3901      68.3   38  42.4  -4.4         443   \n",
       "\n",
       "    1/3  PPA  CrsPA  Prog  \n",
       "0  1318  340     72  1340  \n",
       "1  1079  352     79  1236  \n",
       "2  1084  381     91  1252  \n",
       "3   881  283     84   943  \n",
       "4  1440  393     80  1528  \n",
       "\n",
       "[5 rows x 24 columns]"
      ]
     },
     "execution_count": 46,
     "metadata": {},
     "output_type": "execute_result"
    }
   ],
   "source": [
    "df.head()"
   ]
  },
  {
   "cell_type": "code",
   "execution_count": 47,
   "id": "e4fba7d7",
   "metadata": {},
   "outputs": [],
   "source": [
    "#FINDING MAX AND MIN Assists\n",
    "max_A=df['Ast'].max()\n",
    "min_A=df['Ast'].min()"
   ]
  },
  {
   "cell_type": "code",
   "execution_count": 48,
   "id": "3cfdccc5",
   "metadata": {},
   "outputs": [],
   "source": [
    "#FINDING MAX AND MIN xA\n",
    "max_xA=df['xA'].max()\n",
    "min_xA=df['xA'].min()"
   ]
  },
  {
   "cell_type": "code",
   "execution_count": 49,
   "id": "059c124a",
   "metadata": {},
   "outputs": [],
   "source": [
    "#FINDING MAX AND MIN A-xA\n",
    "max_AmxA=df['A-xA'].max()\n",
    "min_AmxA=df['A-xA'].min()"
   ]
  },
  {
   "cell_type": "code",
   "execution_count": 50,
   "id": "799964ba",
   "metadata": {},
   "outputs": [],
   "source": [
    "#FINDING Pass2Shots\n",
    "max_P2S=df['Psss2Shots'].max()\n",
    "min_P2S=df['Psss2Shots'].min()"
   ]
  },
  {
   "cell_type": "code",
   "execution_count": 51,
   "id": "ff2bbe09",
   "metadata": {},
   "outputs": [],
   "source": [
    "#FINDING 1/3 passes\n",
    "max_1x3=df['1/3'].max()\n",
    "min_1x3=df['1/3'].min()"
   ]
  },
  {
   "cell_type": "code",
   "execution_count": 52,
   "id": "06b3cf41",
   "metadata": {},
   "outputs": [],
   "source": [
    "#FINDING pass into 18 yard box\n",
    "max_PPA=df['PPA'].max()\n",
    "min_PPA=df['PPA'].min()"
   ]
  },
  {
   "cell_type": "code",
   "execution_count": 53,
   "id": "3a6e133b",
   "metadata": {},
   "outputs": [
    {
     "name": "stdout",
     "output_type": "stream",
     "text": [
      "41\n"
     ]
    }
   ],
   "source": [
    "#FINDING cross into 18 yard box\n",
    "max_CrsPA=df['CrsPA'].max()\n",
    "min_CrsPA=df['CrsPA'].min()\n",
    "print(min_CrsPA)"
   ]
  },
  {
   "cell_type": "code",
   "execution_count": 54,
   "id": "628ac289",
   "metadata": {},
   "outputs": [],
   "source": [
    "#FINDING cross into Progressive Passes\n",
    "max_Prog=df['Prog'].max()\n",
    "min_Prog=df['Prog'].min()"
   ]
  },
  {
   "cell_type": "code",
   "execution_count": 55,
   "id": "78ab3418",
   "metadata": {},
   "outputs": [],
   "source": [
    "df = df[df['Squad']=='Manchester Utd'].reset_index()"
   ]
  },
  {
   "cell_type": "code",
   "execution_count": 56,
   "id": "889ef7df",
   "metadata": {},
   "outputs": [
    {
     "data": {
      "text/html": [
       "<div>\n",
       "<style scoped>\n",
       "    .dataframe tbody tr th:only-of-type {\n",
       "        vertical-align: middle;\n",
       "    }\n",
       "\n",
       "    .dataframe tbody tr th {\n",
       "        vertical-align: top;\n",
       "    }\n",
       "\n",
       "    .dataframe thead th {\n",
       "        text-align: right;\n",
       "    }\n",
       "</style>\n",
       "<table border=\"1\" class=\"dataframe\">\n",
       "  <thead>\n",
       "    <tr style=\"text-align: right;\">\n",
       "      <th></th>\n",
       "      <th>index</th>\n",
       "      <th>Squad</th>\n",
       "      <th>90s</th>\n",
       "      <th>TotalCom</th>\n",
       "      <th>PassAtm</th>\n",
       "      <th>Cmp%</th>\n",
       "      <th>TotDist</th>\n",
       "      <th>PrgDist</th>\n",
       "      <th>ShortCmp</th>\n",
       "      <th>ShortAtm</th>\n",
       "      <th>...</th>\n",
       "      <th>LongAtt</th>\n",
       "      <th>LongCmp%</th>\n",
       "      <th>Ast</th>\n",
       "      <th>xA</th>\n",
       "      <th>A-xA</th>\n",
       "      <th>Psss2Shots</th>\n",
       "      <th>1/3</th>\n",
       "      <th>PPA</th>\n",
       "      <th>CrsPA</th>\n",
       "      <th>Prog</th>\n",
       "    </tr>\n",
       "  </thead>\n",
       "  <tbody>\n",
       "    <tr>\n",
       "      <th>0</th>\n",
       "      <td>12</td>\n",
       "      <td>Manchester Utd</td>\n",
       "      <td>38</td>\n",
       "      <td>18495</td>\n",
       "      <td>21960</td>\n",
       "      <td>84.2</td>\n",
       "      <td>343759</td>\n",
       "      <td>103853</td>\n",
       "      <td>8082</td>\n",
       "      <td>8927</td>\n",
       "      <td>...</td>\n",
       "      <td>3500</td>\n",
       "      <td>66.2</td>\n",
       "      <td>51</td>\n",
       "      <td>40.5</td>\n",
       "      <td>10.5</td>\n",
       "      <td>402</td>\n",
       "      <td>1364</td>\n",
       "      <td>397</td>\n",
       "      <td>65</td>\n",
       "      <td>1502</td>\n",
       "    </tr>\n",
       "  </tbody>\n",
       "</table>\n",
       "<p>1 rows × 25 columns</p>\n",
       "</div>"
      ],
      "text/plain": [
       "   index           Squad  90s  TotalCom  PassAtm  Cmp%  TotDist  PrgDist  \\\n",
       "0     12  Manchester Utd   38     18495    21960  84.2   343759   103853   \n",
       "\n",
       "   ShortCmp  ShortAtm  ...  LongAtt  LongCmp%  Ast    xA  A-xA  Psss2Shots  \\\n",
       "0      8082      8927  ...     3500      66.2   51  40.5  10.5         402   \n",
       "\n",
       "    1/3  PPA  CrsPA  Prog  \n",
       "0  1364  397     65  1502  \n",
       "\n",
       "[1 rows x 25 columns]"
      ]
     },
     "execution_count": 56,
     "metadata": {},
     "output_type": "execute_result"
    }
   ],
   "source": [
    "df"
   ]
  },
  {
   "cell_type": "code",
   "execution_count": 57,
   "id": "ccb57e6d",
   "metadata": {},
   "outputs": [],
   "source": [
    "df = df.drop(['index','90s','TotalCom','PassAtm','Cmp%','TotDist','PrgDist','ShortCmp','ShortAtm','ShortCmp%','MediumCmp','MediumAtm','MediumCmp%','LongCmp','LongAtt','LongCmp%'],axis=1)"
   ]
  },
  {
   "cell_type": "code",
   "execution_count": 58,
   "id": "5f84caa1",
   "metadata": {},
   "outputs": [
    {
     "data": {
      "text/html": [
       "<div>\n",
       "<style scoped>\n",
       "    .dataframe tbody tr th:only-of-type {\n",
       "        vertical-align: middle;\n",
       "    }\n",
       "\n",
       "    .dataframe tbody tr th {\n",
       "        vertical-align: top;\n",
       "    }\n",
       "\n",
       "    .dataframe thead th {\n",
       "        text-align: right;\n",
       "    }\n",
       "</style>\n",
       "<table border=\"1\" class=\"dataframe\">\n",
       "  <thead>\n",
       "    <tr style=\"text-align: right;\">\n",
       "      <th></th>\n",
       "      <th>Squad</th>\n",
       "      <th>Ast</th>\n",
       "      <th>xA</th>\n",
       "      <th>A-xA</th>\n",
       "      <th>Psss2Shots</th>\n",
       "      <th>1/3</th>\n",
       "      <th>PPA</th>\n",
       "      <th>CrsPA</th>\n",
       "      <th>Prog</th>\n",
       "    </tr>\n",
       "  </thead>\n",
       "  <tbody>\n",
       "    <tr>\n",
       "      <th>0</th>\n",
       "      <td>Manchester Utd</td>\n",
       "      <td>51</td>\n",
       "      <td>40.5</td>\n",
       "      <td>10.5</td>\n",
       "      <td>402</td>\n",
       "      <td>1364</td>\n",
       "      <td>397</td>\n",
       "      <td>65</td>\n",
       "      <td>1502</td>\n",
       "    </tr>\n",
       "  </tbody>\n",
       "</table>\n",
       "</div>"
      ],
      "text/plain": [
       "            Squad  Ast    xA  A-xA  Psss2Shots   1/3  PPA  CrsPA  Prog\n",
       "0  Manchester Utd   51  40.5  10.5         402  1364  397     65  1502"
      ]
     },
     "execution_count": 58,
     "metadata": {},
     "output_type": "execute_result"
    }
   ],
   "source": [
    "df"
   ]
  },
  {
   "cell_type": "code",
   "execution_count": 59,
   "id": "4c503e5f",
   "metadata": {},
   "outputs": [
    {
     "data": {
      "text/plain": [
       "['Ast', 'xA', 'A-xA', 'Psss2Shots', '1/3', 'PPA', 'CrsPA', 'Prog']"
      ]
     },
     "execution_count": 59,
     "metadata": {},
     "output_type": "execute_result"
    }
   ],
   "source": [
    "#get parameters\n",
    "params = list(df.columns)\n",
    "params = params[1:]\n",
    "params"
   ]
  },
  {
   "cell_type": "code",
   "execution_count": 60,
   "id": "360dd38a",
   "metadata": {},
   "outputs": [],
   "source": [
    "#Append values for min range\n",
    "min_range= []\n",
    "max_range= []\n",
    "\n",
    "min_range.append(min_A)\n",
    "min_range.append(min_xA)\n",
    "min_range.append(min_AmxA)\n",
    "min_range.append(min_P2S)\n",
    "min_range.append(min_1x3)\n",
    "min_range.append(min_PPA)\n",
    "min_range.append(min_CrsPA)\n",
    "min_range.append(min_Prog)"
   ]
  },
  {
   "cell_type": "code",
   "execution_count": 61,
   "id": "a86c6def",
   "metadata": {},
   "outputs": [
    {
     "data": {
      "text/plain": [
       "[13, 20.9, -9.8, 230, 693, 204, 41, 759]"
      ]
     },
     "execution_count": 61,
     "metadata": {},
     "output_type": "execute_result"
    }
   ],
   "source": [
    "min_range"
   ]
  },
  {
   "cell_type": "code",
   "execution_count": 62,
   "id": "c34913b0",
   "metadata": {},
   "outputs": [],
   "source": [
    "#Append values for max range\n",
    "max_range.append(max_A)\n",
    "max_range.append(max_xA)\n",
    "max_range.append(max_AmxA)\n",
    "max_range.append(max_P2S)\n",
    "max_range.append(max_1x3)\n",
    "max_range.append(max_PPA)\n",
    "max_range.append(max_CrsPA)\n",
    "max_range.append(max_Prog)"
   ]
  },
  {
   "cell_type": "code",
   "execution_count": 63,
   "id": "50eaeb46",
   "metadata": {},
   "outputs": [
    {
     "data": {
      "text/plain": [
       "[55, 51.0, 14.5, 444, 1833, 552, 103, 1914]"
      ]
     },
     "execution_count": 63,
     "metadata": {},
     "output_type": "execute_result"
    }
   ],
   "source": [
    "max_range"
   ]
  },
  {
   "cell_type": "code",
   "execution_count": 64,
   "id": "12f99fc6",
   "metadata": {},
   "outputs": [],
   "source": [
    "for x in range(len(df['Squad'])):\n",
    "    if df['Squad'][x] == 'Manchester Utd':\n",
    "        values = df.iloc[x].values.tolist()\n",
    "        \n",
    "values = values[1:]"
   ]
  },
  {
   "cell_type": "code",
   "execution_count": 65,
   "id": "fe4d855a",
   "metadata": {},
   "outputs": [
    {
     "data": {
      "text/plain": [
       "[51, 40.5, 10.5, 402, 1364, 397, 65, 1502]"
      ]
     },
     "execution_count": 65,
     "metadata": {},
     "output_type": "execute_result"
    }
   ],
   "source": [
    "values"
   ]
  },
  {
   "cell_type": "code",
   "execution_count": 69,
   "id": "b75356f5",
   "metadata": {},
   "outputs": [],
   "source": [
    "radar = Radar(params, min_range, max_range,\n",
    "              # whether to round any of the labels to integers instead of decimal places\n",
    "              round_int=[False]*8,\n",
    "              num_rings=4,  # the number of concentric circles (excluding center circle)\n",
    "              # if the ring_width is more than the center_circle_radius then\n",
    "              # the center circle radius will be wider than the width of the concentric circles\n",
    "              ring_width=1, center_circle_radius=1)"
   ]
  },
  {
   "cell_type": "code",
   "execution_count": 70,
   "id": "e5eb0d8b",
   "metadata": {},
   "outputs": [],
   "source": [
    "#We will use mplsoccer’s FontManager to load some fonts from Google Fonts. \n",
    "#We borrowed the FontManager from the ridge_map library.\n",
    "\n",
    "URL1 = ('https://github.com/googlefonts/SourceSerifProGFVersion/blob/main/'\n",
    "        'fonts/SourceSerifPro-Regular.ttf?raw=true')\n",
    "serif_regular = FontManager(URL1)\n",
    "URL2 = ('https://github.com/googlefonts/SourceSerifProGFVersion/blob/main/'\n",
    "        'fonts/SourceSerifPro-ExtraLight.ttf?raw=true')\n",
    "serif_extra_light = FontManager(URL2)\n",
    "URL3 = ('https://github.com/google/fonts/blob/main/ofl/rubikmonoone/'\n",
    "        'RubikMonoOne-Regular.ttf?raw=true')\n",
    "rubik_regular = FontManager(URL3)\n",
    "URL4 = 'https://github.com/googlefonts/roboto/blob/main/src/hinted/Roboto-Thin.ttf?raw=true'\n",
    "robotto_thin = FontManager(URL4)\n",
    "URL5 = 'https://github.com/googlefonts/roboto/blob/main/src/hinted/Roboto-Regular.ttf?raw=true'\n",
    "robotto_regular = FontManager(URL5)\n",
    "URL6 = 'https://github.com/googlefonts/roboto/blob/main/src/hinted/Roboto-Bold.ttf?raw=true'\n",
    "robotto_bold = FontManager(URL6)"
   ]
  },
  {
   "cell_type": "code",
   "execution_count": 71,
   "id": "ce631a5e",
   "metadata": {},
   "outputs": [
    {
     "data": {
      "image/png": "[encoded data removed]",
      "text/plain": [
       "<Figure size 864x864 with 1 Axes>"
      ]
     },
     "metadata": {},
     "output_type": "display_data"
    }
   ],
   "source": [
    "fig, ax = radar.setup_axis()  # format axis as a radar\n",
    "rings_inner = radar.draw_circles(ax=ax, facecolor='#ffc000', edgecolor='#fc5f5f')  # draw circles\n",
    "radar_output = radar.draw_radar(values, ax=ax,\n",
    "                                kwargs_radar={'facecolor': '#a7f40a'},\n",
    "                                kwargs_rings={'facecolor': '#45980c'})  # draw the radar\n",
    "radar_poly, rings_outer, vertices = radar_output\n",
    "range_labels = radar.draw_range_labels(ax=ax, fontsize=15,\n",
    "                                       fontproperties=robotto_thin.prop)  # draw the range labels\n",
    "param_labels = radar.draw_param_labels(ax=ax, fontsize=15,\n",
    "                                       fontproperties=robotto_regular.prop)  # draw the param labels"
   ]
  },
  {
   "cell_type": "code",
   "execution_count": null,
   "id": "90ced6f2",
   "metadata": {},
   "outputs": [],
   "source": []
  }
 ],
 "metadata": {
  "kernelspec": {
   "display_name": "Python 3 (ipykernel)",
   "language": "python",
   "name": "python3"
  },
  "language_info": {
   "codemirror_mode": {
    "name": "ipython",
    "version": 3
   },
   "file_extension": ".py",
   "mimetype": "text/x-python",
   "name": "python",
   "nbconvert_exporter": "python",
   "pygments_lexer": "ipython3",
   "version": "3.7.4"
  }
 },
 "nbformat": 4,
 "nbformat_minor": 5
}
