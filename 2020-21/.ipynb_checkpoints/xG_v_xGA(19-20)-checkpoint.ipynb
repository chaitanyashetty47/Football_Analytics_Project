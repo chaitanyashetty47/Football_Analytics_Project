{
 "cells": [
  {
   "cell_type": "code",
   "execution_count": 2,
   "id": "0c3aa694",
   "metadata": {},
   "outputs": [],
   "source": [
    "# use pandas to load and manipulate the data, matplotlib to plot\n",
    "import pandas as pd\n",
    "import matplotlib.pyplot as plt"
   ]
  },
  {
   "cell_type": "code",
   "execution_count": 3,
   "id": "e432f1bf",
   "metadata": {},
   "outputs": [],
   "source": [
    "df = pd.read_csv('C:\\\\Users\\\\Amin\\\\Documents\\\\manutd(2012-2021)\\\\fixtures19-20.csv')"
   ]
  },
  {
   "cell_type": "code",
   "execution_count": 4,
   "id": "958827a9",
   "metadata": {},
   "outputs": [
    {
     "data": {
      "text/html": [
       "<div>\n",
       "<style scoped>\n",
       "    .dataframe tbody tr th:only-of-type {\n",
       "        vertical-align: middle;\n",
       "    }\n",
       "\n",
       "    .dataframe tbody tr th {\n",
       "        vertical-align: top;\n",
       "    }\n",
       "\n",
       "    .dataframe thead th {\n",
       "        text-align: right;\n",
       "    }\n",
       "</style>\n",
       "<table border=\"1\" class=\"dataframe\">\n",
       "  <thead>\n",
       "    <tr style=\"text-align: right;\">\n",
       "      <th></th>\n",
       "      <th>Date</th>\n",
       "      <th>Time</th>\n",
       "      <th>Round</th>\n",
       "      <th>Day</th>\n",
       "      <th>Venue</th>\n",
       "      <th>Result</th>\n",
       "      <th>GF</th>\n",
       "      <th>GA</th>\n",
       "      <th>Opponent</th>\n",
       "      <th>xG</th>\n",
       "      <th>xGA</th>\n",
       "      <th>Poss</th>\n",
       "      <th>Attendance</th>\n",
       "      <th>Captain</th>\n",
       "      <th>Formation</th>\n",
       "      <th>Referee</th>\n",
       "      <th>Match Report</th>\n",
       "      <th>Notes</th>\n",
       "    </tr>\n",
       "  </thead>\n",
       "  <tbody>\n",
       "    <tr>\n",
       "      <th>0</th>\n",
       "      <td>2019-08-11</td>\n",
       "      <td>16:30 (21:00)</td>\n",
       "      <td>Matchweek 1</td>\n",
       "      <td>Sun</td>\n",
       "      <td>Home</td>\n",
       "      <td>W</td>\n",
       "      <td>4</td>\n",
       "      <td>0</td>\n",
       "      <td>Chelsea</td>\n",
       "      <td>2.3</td>\n",
       "      <td>0.8</td>\n",
       "      <td>46</td>\n",
       "      <td>73620.0</td>\n",
       "      <td>David de Gea</td>\n",
       "      <td>4-2-3-1</td>\n",
       "      <td>Anthony Taylor</td>\n",
       "      <td>Match Report</td>\n",
       "      <td>NaN</td>\n",
       "    </tr>\n",
       "    <tr>\n",
       "      <th>1</th>\n",
       "      <td>2019-08-19</td>\n",
       "      <td>20:00 (00:30)</td>\n",
       "      <td>Matchweek 2</td>\n",
       "      <td>Mon</td>\n",
       "      <td>Away</td>\n",
       "      <td>D</td>\n",
       "      <td>1</td>\n",
       "      <td>1</td>\n",
       "      <td>Wolves</td>\n",
       "      <td>1.3</td>\n",
       "      <td>0.3</td>\n",
       "      <td>64</td>\n",
       "      <td>31314.0</td>\n",
       "      <td>David de Gea</td>\n",
       "      <td>4-2-3-1</td>\n",
       "      <td>Jonathan Moss</td>\n",
       "      <td>Match Report</td>\n",
       "      <td>NaN</td>\n",
       "    </tr>\n",
       "    <tr>\n",
       "      <th>2</th>\n",
       "      <td>2019-08-24</td>\n",
       "      <td>15:00 (19:30)</td>\n",
       "      <td>Matchweek 3</td>\n",
       "      <td>Sat</td>\n",
       "      <td>Home</td>\n",
       "      <td>L</td>\n",
       "      <td>1</td>\n",
       "      <td>2</td>\n",
       "      <td>Crystal Palace</td>\n",
       "      <td>2.4</td>\n",
       "      <td>0.7</td>\n",
       "      <td>70</td>\n",
       "      <td>73454.0</td>\n",
       "      <td>David de Gea</td>\n",
       "      <td>4-2-3-1</td>\n",
       "      <td>Paul Tierney</td>\n",
       "      <td>Match Report</td>\n",
       "      <td>NaN</td>\n",
       "    </tr>\n",
       "    <tr>\n",
       "      <th>3</th>\n",
       "      <td>2019-08-31</td>\n",
       "      <td>12:30 (17:00)</td>\n",
       "      <td>Matchweek 4</td>\n",
       "      <td>Sat</td>\n",
       "      <td>Away</td>\n",
       "      <td>D</td>\n",
       "      <td>1</td>\n",
       "      <td>1</td>\n",
       "      <td>Southampton</td>\n",
       "      <td>1.6</td>\n",
       "      <td>0.7</td>\n",
       "      <td>60</td>\n",
       "      <td>30499.0</td>\n",
       "      <td>Ashley Young</td>\n",
       "      <td>4-2-3-1</td>\n",
       "      <td>Mike Dean</td>\n",
       "      <td>Match Report</td>\n",
       "      <td>NaN</td>\n",
       "    </tr>\n",
       "    <tr>\n",
       "      <th>4</th>\n",
       "      <td>2019-09-14</td>\n",
       "      <td>15:00 (19:30)</td>\n",
       "      <td>Matchweek 5</td>\n",
       "      <td>Sat</td>\n",
       "      <td>Home</td>\n",
       "      <td>W</td>\n",
       "      <td>1</td>\n",
       "      <td>0</td>\n",
       "      <td>Leicester City</td>\n",
       "      <td>1.0</td>\n",
       "      <td>0.4</td>\n",
       "      <td>43</td>\n",
       "      <td>73689.0</td>\n",
       "      <td>Ashley Young</td>\n",
       "      <td>4-2-3-1</td>\n",
       "      <td>Martin Atkinson</td>\n",
       "      <td>Match Report</td>\n",
       "      <td>NaN</td>\n",
       "    </tr>\n",
       "  </tbody>\n",
       "</table>\n",
       "</div>"
      ],
      "text/plain": [
       "         Date           Time        Round  Day Venue Result  GF  GA  \\\n",
       "0  2019-08-11  16:30 (21:00)  Matchweek 1  Sun  Home      W   4   0   \n",
       "1  2019-08-19  20:00 (00:30)  Matchweek 2  Mon  Away      D   1   1   \n",
       "2  2019-08-24  15:00 (19:30)  Matchweek 3  Sat  Home      L   1   2   \n",
       "3  2019-08-31  12:30 (17:00)  Matchweek 4  Sat  Away      D   1   1   \n",
       "4  2019-09-14  15:00 (19:30)  Matchweek 5  Sat  Home      W   1   0   \n",
       "\n",
       "         Opponent   xG  xGA  Poss  Attendance       Captain Formation  \\\n",
       "0         Chelsea  2.3  0.8    46     73620.0  David de Gea   4-2-3-1   \n",
       "1          Wolves  1.3  0.3    64     31314.0  David de Gea   4-2-3-1   \n",
       "2  Crystal Palace  2.4  0.7    70     73454.0  David de Gea   4-2-3-1   \n",
       "3     Southampton  1.6  0.7    60     30499.0  Ashley Young   4-2-3-1   \n",
       "4  Leicester City  1.0  0.4    43     73689.0  Ashley Young   4-2-3-1   \n",
       "\n",
       "           Referee  Match Report  Notes  \n",
       "0   Anthony Taylor  Match Report    NaN  \n",
       "1    Jonathan Moss  Match Report    NaN  \n",
       "2     Paul Tierney  Match Report    NaN  \n",
       "3        Mike Dean  Match Report    NaN  \n",
       "4  Martin Atkinson  Match Report    NaN  "
      ]
     },
     "execution_count": 4,
     "metadata": {},
     "output_type": "execute_result"
    }
   ],
   "source": [
    "df.head()"
   ]
  },
  {
   "cell_type": "code",
   "execution_count": 5,
   "id": "0a9595e3",
   "metadata": {},
   "outputs": [],
   "source": [
    "df['match'] = range(1,39)"
   ]
  },
  {
   "cell_type": "code",
   "execution_count": 6,
   "id": "51d6de08",
   "metadata": {},
   "outputs": [],
   "source": [
    "df['xgSMA'] = df['xG'].rolling(window=3).mean()\n",
    "df['xgaSMA'] = df['xGA'].rolling(window=3).mean()"
   ]
  },
  {
   "cell_type": "code",
   "execution_count": 7,
   "id": "e9b7065c",
   "metadata": {},
   "outputs": [
    {
     "data": {
      "text/plain": [
       "[<matplotlib.lines.Line2D at 0x7953bd0f48>]"
      ]
     },
     "execution_count": 7,
     "metadata": {},
     "output_type": "execute_result"
    },
    {
     "data": {
      "image/png": "[encoded data removed]",
      "text/plain": [
       "<Figure size 432x288 with 1 Axes>"
      ]
     },
     "metadata": {
      "needs_background": "light"
     },
     "output_type": "display_data"
    }
   ],
   "source": [
    "#blue for xG and red for xGA\n",
    "plt.plot(df.match,df.xgSMA,color='blue')\n",
    "plt.plot(df.match,df.xgaSMA,color='red')"
   ]
  },
  {
   "cell_type": "code",
   "execution_count": null,
   "id": "9d9687ca",
   "metadata": {},
   "outputs": [],
   "source": []
  }
 ],
 "metadata": {
  "kernelspec": {
   "display_name": "Python 3 (ipykernel)",
   "language": "python",
   "name": "python3"
  },
  "language_info": {
   "codemirror_mode": {
    "name": "ipython",
    "version": 3
   },
   "file_extension": ".py",
   "mimetype": "text/x-python",
   "name": "python",
   "nbconvert_exporter": "python",
   "pygments_lexer": "ipython3",
   "version": "3.7.4"
  }
 },
 "nbformat": 4,
 "nbformat_minor": 5
}
