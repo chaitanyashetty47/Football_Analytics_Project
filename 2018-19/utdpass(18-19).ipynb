{
 "cells": [
  {
   "cell_type": "code",
   "execution_count": 40,
   "id": "d7b4d6c2",
   "metadata": {},
   "outputs": [],
   "source": [
    "import pandas as pd\n",
    "import matplotlib.pyplot as plt\n",
    "from soccerplots.radar_chart import Radar\n",
    "from mplsoccer import Radar, FontManager\n",
    "import matplotlib.pyplot as plt"
   ]
  },
  {
   "cell_type": "code",
   "execution_count": 41,
   "id": "baa6d589",
   "metadata": {},
   "outputs": [],
   "source": [
    "df = pd.read_csv('C:\\\\Users\\\\Amin\\\\Documents\\\\manutd(2012-2021)\\\\utdpass(18-19).csv')"
   ]
  },
  {
   "cell_type": "code",
   "execution_count": 42,
   "id": "4485cf8a",
   "metadata": {},
   "outputs": [
    {
     "data": {
      "text/html": [
       "<div>\n",
       "<style scoped>\n",
       "    .dataframe tbody tr th:only-of-type {\n",
       "        vertical-align: middle;\n",
       "    }\n",
       "\n",
       "    .dataframe tbody tr th {\n",
       "        vertical-align: top;\n",
       "    }\n",
       "\n",
       "    .dataframe thead th {\n",
       "        text-align: right;\n",
       "    }\n",
       "</style>\n",
       "<table border=\"1\" class=\"dataframe\">\n",
       "  <thead>\n",
       "    <tr style=\"text-align: right;\">\n",
       "      <th></th>\n",
       "      <th>Squad</th>\n",
       "      <th>90s</th>\n",
       "      <th>TotalCmp</th>\n",
       "      <th>TotalPassAtt</th>\n",
       "      <th>TotCmp%</th>\n",
       "      <th>TotDist</th>\n",
       "      <th>PrgDist</th>\n",
       "      <th>ShortCmp</th>\n",
       "      <th>ShortAtm</th>\n",
       "      <th>ShortCmp%</th>\n",
       "      <th>...</th>\n",
       "      <th>LongAtt</th>\n",
       "      <th>LongCmp%</th>\n",
       "      <th>Ast</th>\n",
       "      <th>xA</th>\n",
       "      <th>A-xA</th>\n",
       "      <th>Pass2Shots</th>\n",
       "      <th>1/3</th>\n",
       "      <th>PPA</th>\n",
       "      <th>CrsPA</th>\n",
       "      <th>Prog</th>\n",
       "    </tr>\n",
       "  </thead>\n",
       "  <tbody>\n",
       "    <tr>\n",
       "      <th>0</th>\n",
       "      <td>Arsenal</td>\n",
       "      <td>28</td>\n",
       "      <td>18313</td>\n",
       "      <td>22178</td>\n",
       "      <td>82.6</td>\n",
       "      <td>350914</td>\n",
       "      <td>109818</td>\n",
       "      <td>7357</td>\n",
       "      <td>8257</td>\n",
       "      <td>89.1</td>\n",
       "      <td>...</td>\n",
       "      <td>3943</td>\n",
       "      <td>64.2</td>\n",
       "      <td>52</td>\n",
       "      <td>45.5</td>\n",
       "      <td>6.5</td>\n",
       "      <td>361</td>\n",
       "      <td>1242</td>\n",
       "      <td>430</td>\n",
       "      <td>75</td>\n",
       "      <td>1543</td>\n",
       "    </tr>\n",
       "    <tr>\n",
       "      <th>1</th>\n",
       "      <td>Bournemouth</td>\n",
       "      <td>28</td>\n",
       "      <td>13478</td>\n",
       "      <td>17430</td>\n",
       "      <td>77.3</td>\n",
       "      <td>264047</td>\n",
       "      <td>97401</td>\n",
       "      <td>5366</td>\n",
       "      <td>6308</td>\n",
       "      <td>85.1</td>\n",
       "      <td>...</td>\n",
       "      <td>3393</td>\n",
       "      <td>57.2</td>\n",
       "      <td>43</td>\n",
       "      <td>37.9</td>\n",
       "      <td>5.1</td>\n",
       "      <td>318</td>\n",
       "      <td>983</td>\n",
       "      <td>348</td>\n",
       "      <td>77</td>\n",
       "      <td>1281</td>\n",
       "    </tr>\n",
       "    <tr>\n",
       "      <th>2</th>\n",
       "      <td>Brighton</td>\n",
       "      <td>21</td>\n",
       "      <td>11586</td>\n",
       "      <td>15704</td>\n",
       "      <td>73.8</td>\n",
       "      <td>246203</td>\n",
       "      <td>90785</td>\n",
       "      <td>4343</td>\n",
       "      <td>5178</td>\n",
       "      <td>83.9</td>\n",
       "      <td>...</td>\n",
       "      <td>4021</td>\n",
       "      <td>55.5</td>\n",
       "      <td>24</td>\n",
       "      <td>22.7</td>\n",
       "      <td>1.3</td>\n",
       "      <td>281</td>\n",
       "      <td>894</td>\n",
       "      <td>218</td>\n",
       "      <td>81</td>\n",
       "      <td>918</td>\n",
       "    </tr>\n",
       "    <tr>\n",
       "      <th>3</th>\n",
       "      <td>Burnley</td>\n",
       "      <td>23</td>\n",
       "      <td>10157</td>\n",
       "      <td>14606</td>\n",
       "      <td>69.5</td>\n",
       "      <td>216649</td>\n",
       "      <td>89112</td>\n",
       "      <td>4070</td>\n",
       "      <td>4922</td>\n",
       "      <td>82.7</td>\n",
       "      <td>...</td>\n",
       "      <td>4135</td>\n",
       "      <td>48.5</td>\n",
       "      <td>32</td>\n",
       "      <td>25.7</td>\n",
       "      <td>6.3</td>\n",
       "      <td>246</td>\n",
       "      <td>898</td>\n",
       "      <td>251</td>\n",
       "      <td>82</td>\n",
       "      <td>957</td>\n",
       "    </tr>\n",
       "    <tr>\n",
       "      <th>4</th>\n",
       "      <td>Cardiff City</td>\n",
       "      <td>25</td>\n",
       "      <td>7220</td>\n",
       "      <td>11620</td>\n",
       "      <td>62.1</td>\n",
       "      <td>154563</td>\n",
       "      <td>71373</td>\n",
       "      <td>2988</td>\n",
       "      <td>3863</td>\n",
       "      <td>77.3</td>\n",
       "      <td>...</td>\n",
       "      <td>3545</td>\n",
       "      <td>41.0</td>\n",
       "      <td>20</td>\n",
       "      <td>22.4</td>\n",
       "      <td>-2.4</td>\n",
       "      <td>265</td>\n",
       "      <td>752</td>\n",
       "      <td>188</td>\n",
       "      <td>61</td>\n",
       "      <td>791</td>\n",
       "    </tr>\n",
       "  </tbody>\n",
       "</table>\n",
       "<p>5 rows × 24 columns</p>\n",
       "</div>"
      ],
      "text/plain": [
       "          Squad  90s  TotalCmp  TotalPassAtt  TotCmp%  TotDist  PrgDist  \\\n",
       "0       Arsenal   28     18313         22178     82.6   350914   109818   \n",
       "1   Bournemouth   28     13478         17430     77.3   264047    97401   \n",
       "2      Brighton   21     11586         15704     73.8   246203    90785   \n",
       "3       Burnley   23     10157         14606     69.5   216649    89112   \n",
       "4  Cardiff City   25      7220         11620     62.1   154563    71373   \n",
       "\n",
       "   ShortCmp  ShortAtm  ShortCmp%  ...  LongAtt  LongCmp%  Ast    xA  A-xA  \\\n",
       "0      7357      8257       89.1  ...     3943      64.2   52  45.5   6.5   \n",
       "1      5366      6308       85.1  ...     3393      57.2   43  37.9   5.1   \n",
       "2      4343      5178       83.9  ...     4021      55.5   24  22.7   1.3   \n",
       "3      4070      4922       82.7  ...     4135      48.5   32  25.7   6.3   \n",
       "4      2988      3863       77.3  ...     3545      41.0   20  22.4  -2.4   \n",
       "\n",
       "   Pass2Shots   1/3  PPA  CrsPA  Prog  \n",
       "0         361  1242  430     75  1543  \n",
       "1         318   983  348     77  1281  \n",
       "2         281   894  218     81   918  \n",
       "3         246   898  251     82   957  \n",
       "4         265   752  188     61   791  \n",
       "\n",
       "[5 rows x 24 columns]"
      ]
     },
     "execution_count": 42,
     "metadata": {},
     "output_type": "execute_result"
    }
   ],
   "source": [
    "df.head()"
   ]
  },
  {
   "cell_type": "code",
   "execution_count": 43,
   "id": "48ffb6cb",
   "metadata": {},
   "outputs": [],
   "source": [
    "#FINDING MAX AND MIN Assists\n",
    "max_A=df['Ast'].max()\n",
    "min_A=df['Ast'].min()"
   ]
  },
  {
   "cell_type": "code",
   "execution_count": 44,
   "id": "22b934a5",
   "metadata": {},
   "outputs": [],
   "source": [
    "#FINDING MAX AND MIN xA\n",
    "max_xA=df['xA'].max()\n",
    "min_xA=df['xA'].min()"
   ]
  },
  {
   "cell_type": "code",
   "execution_count": 45,
   "id": "f18d8025",
   "metadata": {},
   "outputs": [],
   "source": [
    "#FINDING MAX AND MIN A-xA\n",
    "max_AmxA=df['A-xA'].max()\n",
    "min_AmxA=df['A-xA'].min()"
   ]
  },
  {
   "cell_type": "code",
   "execution_count": 46,
   "id": "c5d98376",
   "metadata": {},
   "outputs": [],
   "source": [
    "#FINDING Pass2Shots\n",
    "max_P2S=df['Pass2Shots'].max()\n",
    "min_P2S=df['Pass2Shots'].min()"
   ]
  },
  {
   "cell_type": "code",
   "execution_count": 47,
   "id": "6e9cf3fa",
   "metadata": {},
   "outputs": [],
   "source": [
    "#FINDING 1/3 passes\n",
    "max_1x3=df['1/3'].max()\n",
    "min_1x3=df['1/3'].min()"
   ]
  },
  {
   "cell_type": "code",
   "execution_count": 48,
   "id": "30760f9e",
   "metadata": {},
   "outputs": [],
   "source": [
    "#FINDING pass into 18 yard box\n",
    "max_PPA=df['PPA'].max()\n",
    "min_PPA=df['PPA'].min()"
   ]
  },
  {
   "cell_type": "code",
   "execution_count": 49,
   "id": "3da6e165",
   "metadata": {},
   "outputs": [
    {
     "name": "stdout",
     "output_type": "stream",
     "text": [
      "57\n"
     ]
    }
   ],
   "source": [
    "#FINDING cross into 18 yard box\n",
    "max_CrsPA=df['CrsPA'].max()\n",
    "min_CrsPA=df['CrsPA'].min()\n",
    "print(min_CrsPA)"
   ]
  },
  {
   "cell_type": "code",
   "execution_count": 50,
   "id": "25fb5536",
   "metadata": {},
   "outputs": [],
   "source": [
    "#FINDING cross into Progressive Passes\n",
    "max_Prog=df['Prog'].max()\n",
    "min_Prog=df['Prog'].min()"
   ]
  },
  {
   "cell_type": "code",
   "execution_count": 51,
   "id": "ccfe2c56",
   "metadata": {},
   "outputs": [],
   "source": [
    "df = df[df['Squad']=='Manchester Utd'].reset_index()"
   ]
  },
  {
   "cell_type": "code",
   "execution_count": 52,
   "id": "0a5fecdb",
   "metadata": {},
   "outputs": [
    {
     "data": {
      "text/html": [
       "<div>\n",
       "<style scoped>\n",
       "    .dataframe tbody tr th:only-of-type {\n",
       "        vertical-align: middle;\n",
       "    }\n",
       "\n",
       "    .dataframe tbody tr th {\n",
       "        vertical-align: top;\n",
       "    }\n",
       "\n",
       "    .dataframe thead th {\n",
       "        text-align: right;\n",
       "    }\n",
       "</style>\n",
       "<table border=\"1\" class=\"dataframe\">\n",
       "  <thead>\n",
       "    <tr style=\"text-align: right;\">\n",
       "      <th></th>\n",
       "      <th>index</th>\n",
       "      <th>Squad</th>\n",
       "      <th>90s</th>\n",
       "      <th>TotalCmp</th>\n",
       "      <th>TotalPassAtt</th>\n",
       "      <th>TotCmp%</th>\n",
       "      <th>TotDist</th>\n",
       "      <th>PrgDist</th>\n",
       "      <th>ShortCmp</th>\n",
       "      <th>ShortAtm</th>\n",
       "      <th>...</th>\n",
       "      <th>LongAtt</th>\n",
       "      <th>LongCmp%</th>\n",
       "      <th>Ast</th>\n",
       "      <th>xA</th>\n",
       "      <th>A-xA</th>\n",
       "      <th>Pass2Shots</th>\n",
       "      <th>1/3</th>\n",
       "      <th>PPA</th>\n",
       "      <th>CrsPA</th>\n",
       "      <th>Prog</th>\n",
       "    </tr>\n",
       "  </thead>\n",
       "  <tbody>\n",
       "    <tr>\n",
       "      <th>0</th>\n",
       "      <td>13</td>\n",
       "      <td>Manchester Utd</td>\n",
       "      <td>28</td>\n",
       "      <td>16802</td>\n",
       "      <td>20642</td>\n",
       "      <td>81.4</td>\n",
       "      <td>319195</td>\n",
       "      <td>112004</td>\n",
       "      <td>7468</td>\n",
       "      <td>8337</td>\n",
       "      <td>...</td>\n",
       "      <td>3808</td>\n",
       "      <td>61.5</td>\n",
       "      <td>40</td>\n",
       "      <td>38.3</td>\n",
       "      <td>1.7</td>\n",
       "      <td>379</td>\n",
       "      <td>1284</td>\n",
       "      <td>357</td>\n",
       "      <td>75</td>\n",
       "      <td>1500</td>\n",
       "    </tr>\n",
       "  </tbody>\n",
       "</table>\n",
       "<p>1 rows × 25 columns</p>\n",
       "</div>"
      ],
      "text/plain": [
       "   index           Squad  90s  TotalCmp  TotalPassAtt  TotCmp%  TotDist  \\\n",
       "0     13  Manchester Utd   28     16802         20642     81.4   319195   \n",
       "\n",
       "   PrgDist  ShortCmp  ShortAtm  ...  LongAtt  LongCmp%  Ast    xA  A-xA  \\\n",
       "0   112004      7468      8337  ...     3808      61.5   40  38.3   1.7   \n",
       "\n",
       "   Pass2Shots   1/3  PPA  CrsPA  Prog  \n",
       "0         379  1284  357     75  1500  \n",
       "\n",
       "[1 rows x 25 columns]"
      ]
     },
     "execution_count": 52,
     "metadata": {},
     "output_type": "execute_result"
    }
   ],
   "source": [
    "df"
   ]
  },
  {
   "cell_type": "code",
   "execution_count": 53,
   "id": "fecc7c25",
   "metadata": {
    "scrolled": true
   },
   "outputs": [],
   "source": [
    "df = df.drop(['index','90s','TotalCmp','TotalPassAtt','TotCmp%','TotDist','PrgDist','ShortCmp','ShortAtm','ShortCmp%','MediumCmp','MediumAtm','MediumCmp%','LongCmp','LongAtt','LongCmp%'],axis=1)"
   ]
  },
  {
   "cell_type": "code",
   "execution_count": 54,
   "id": "5fa15328",
   "metadata": {},
   "outputs": [
    {
     "data": {
      "text/html": [
       "<div>\n",
       "<style scoped>\n",
       "    .dataframe tbody tr th:only-of-type {\n",
       "        vertical-align: middle;\n",
       "    }\n",
       "\n",
       "    .dataframe tbody tr th {\n",
       "        vertical-align: top;\n",
       "    }\n",
       "\n",
       "    .dataframe thead th {\n",
       "        text-align: right;\n",
       "    }\n",
       "</style>\n",
       "<table border=\"1\" class=\"dataframe\">\n",
       "  <thead>\n",
       "    <tr style=\"text-align: right;\">\n",
       "      <th></th>\n",
       "      <th>Squad</th>\n",
       "      <th>Ast</th>\n",
       "      <th>xA</th>\n",
       "      <th>A-xA</th>\n",
       "      <th>Pass2Shots</th>\n",
       "      <th>1/3</th>\n",
       "      <th>PPA</th>\n",
       "      <th>CrsPA</th>\n",
       "      <th>Prog</th>\n",
       "    </tr>\n",
       "  </thead>\n",
       "  <tbody>\n",
       "    <tr>\n",
       "      <th>0</th>\n",
       "      <td>Manchester Utd</td>\n",
       "      <td>40</td>\n",
       "      <td>38.3</td>\n",
       "      <td>1.7</td>\n",
       "      <td>379</td>\n",
       "      <td>1284</td>\n",
       "      <td>357</td>\n",
       "      <td>75</td>\n",
       "      <td>1500</td>\n",
       "    </tr>\n",
       "  </tbody>\n",
       "</table>\n",
       "</div>"
      ],
      "text/plain": [
       "            Squad  Ast    xA  A-xA  Pass2Shots   1/3  PPA  CrsPA  Prog\n",
       "0  Manchester Utd   40  38.3   1.7         379  1284  357     75  1500"
      ]
     },
     "execution_count": 54,
     "metadata": {},
     "output_type": "execute_result"
    }
   ],
   "source": [
    "df"
   ]
  },
  {
   "cell_type": "code",
   "execution_count": 55,
   "id": "149f16e2",
   "metadata": {},
   "outputs": [
    {
     "data": {
      "text/plain": [
       "['Ast', 'xA', 'A-xA', 'Pass2Shots', '1/3', 'PPA', 'CrsPA', 'Prog']"
      ]
     },
     "execution_count": 55,
     "metadata": {},
     "output_type": "execute_result"
    }
   ],
   "source": [
    "#get parameters\n",
    "params = list(df.columns)\n",
    "params = params[1:]\n",
    "params"
   ]
  },
  {
   "cell_type": "code",
   "execution_count": 56,
   "id": "c71dc95e",
   "metadata": {},
   "outputs": [],
   "source": [
    "#Append values for min range\n",
    "min_range= []\n",
    "max_range= []\n",
    "\n",
    "min_range.append(min_A)\n",
    "min_range.append(min_xA)\n",
    "min_range.append(min_AmxA)\n",
    "min_range.append(min_P2S)\n",
    "min_range.append(min_1x3)\n",
    "min_range.append(min_PPA)\n",
    "min_range.append(min_CrsPA)\n",
    "min_range.append(min_Prog)"
   ]
  },
  {
   "cell_type": "code",
   "execution_count": 57,
   "id": "316dd138",
   "metadata": {},
   "outputs": [
    {
     "data": {
      "text/plain": [
       "[13, 20.9, -7.9, 246, 752, 188, 57, 791]"
      ]
     },
     "execution_count": 57,
     "metadata": {},
     "output_type": "execute_result"
    }
   ],
   "source": [
    "min_range"
   ]
  },
  {
   "cell_type": "code",
   "execution_count": 58,
   "id": "680710b0",
   "metadata": {},
   "outputs": [],
   "source": [
    "#Append values for max range\n",
    "max_range.append(max_A)\n",
    "max_range.append(max_xA)\n",
    "max_range.append(max_AmxA)\n",
    "max_range.append(max_P2S)\n",
    "max_range.append(max_1x3)\n",
    "max_range.append(max_PPA)\n",
    "max_range.append(max_CrsPA)\n",
    "max_range.append(max_Prog)"
   ]
  },
  {
   "cell_type": "code",
   "execution_count": 59,
   "id": "c1b25893",
   "metadata": {},
   "outputs": [
    {
     "data": {
      "text/plain": [
       "[71, 61.1, 9.9, 499, 2040, 596, 98, 2024]"
      ]
     },
     "execution_count": 59,
     "metadata": {},
     "output_type": "execute_result"
    }
   ],
   "source": [
    "max_range"
   ]
  },
  {
   "cell_type": "code",
   "execution_count": 60,
   "id": "e9b1bc70",
   "metadata": {},
   "outputs": [],
   "source": [
    "for x in range(len(df['Squad'])):\n",
    "    if df['Squad'][x] == 'Manchester Utd':\n",
    "        values = df.iloc[x].values.tolist()\n",
    "        \n",
    "values = values[1:]"
   ]
  },
  {
   "cell_type": "code",
   "execution_count": 61,
   "id": "dce4db82",
   "metadata": {},
   "outputs": [
    {
     "data": {
      "text/plain": [
       "[40, 38.3, 1.7, 379, 1284, 357, 75, 1500]"
      ]
     },
     "execution_count": 61,
     "metadata": {},
     "output_type": "execute_result"
    }
   ],
   "source": [
    "values"
   ]
  },
  {
   "cell_type": "code",
   "execution_count": 62,
   "id": "b2097a51",
   "metadata": {},
   "outputs": [],
   "source": [
    "radar = Radar(params, min_range, max_range,\n",
    "              # whether to round any of the labels to integers instead of decimal places\n",
    "              round_int=[False]*8,\n",
    "              num_rings=4,  # the number of concentric circles (excluding center circle)\n",
    "              # if the ring_width is more than the center_circle_radius then\n",
    "              # the center circle radius will be wider than the width of the concentric circles\n",
    "              ring_width=1, center_circle_radius=1)"
   ]
  },
  {
   "cell_type": "code",
   "execution_count": 63,
   "id": "a67081a2",
   "metadata": {},
   "outputs": [],
   "source": [
    "#We will use mplsoccer’s FontManager to load some fonts from Google Fonts. \n",
    "#We borrowed the FontManager from the ridge_map library.\n",
    "\n",
    "URL1 = ('https://github.com/googlefonts/SourceSerifProGFVersion/blob/main/'\n",
    "        'fonts/SourceSerifPro-Regular.ttf?raw=true')\n",
    "serif_regular = FontManager(URL1)\n",
    "URL2 = ('https://github.com/googlefonts/SourceSerifProGFVersion/blob/main/'\n",
    "        'fonts/SourceSerifPro-ExtraLight.ttf?raw=true')\n",
    "serif_extra_light = FontManager(URL2)\n",
    "URL3 = ('https://github.com/google/fonts/blob/main/ofl/rubikmonoone/'\n",
    "        'RubikMonoOne-Regular.ttf?raw=true')\n",
    "rubik_regular = FontManager(URL3)\n",
    "URL4 = 'https://github.com/googlefonts/roboto/blob/main/src/hinted/Roboto-Thin.ttf?raw=true'\n",
    "robotto_thin = FontManager(URL4)\n",
    "URL5 = 'https://github.com/googlefonts/roboto/blob/main/src/hinted/Roboto-Regular.ttf?raw=true'\n",
    "robotto_regular = FontManager(URL5)\n",
    "URL6 = 'https://github.com/googlefonts/roboto/blob/main/src/hinted/Roboto-Bold.ttf?raw=true'\n",
    "robotto_bold = FontManager(URL6)"
   ]
  },
  {
   "cell_type": "code",
   "execution_count": 64,
   "id": "d1a48bcc",
   "metadata": {},
   "outputs": [
    {
     "data": {
      "image/png": "[encoded data removed]",
      "text/plain": [
       "<Figure size 864x864 with 1 Axes>"
      ]
     },
     "metadata": {},
     "output_type": "display_data"
    }
   ],
   "source": [
    "fig, ax = radar.setup_axis()  # format axis as a radar\n",
    "rings_inner = radar.draw_circles(ax=ax, facecolor='#3F31C4', edgecolor='#fc5f5f')  # draw circles\n",
    "radar_output = radar.draw_radar(values, ax=ax,\n",
    "                                kwargs_radar={'facecolor': '#ffff00'},\n",
    "                                kwargs_rings={'facecolor': '#ff0000'})  # draw the radar\n",
    "radar_poly, rings_outer, vertices = radar_output\n",
    "range_labels = radar.draw_range_labels(ax=ax, fontsize=15,\n",
    "                                       fontproperties=robotto_regular.prop)  # draw the range labels\n",
    "param_labels = radar.draw_param_labels(ax=ax, fontsize=20,\n",
    "                                       fontproperties=robotto_regular.prop,color='#ff0000')  # draw the param labels"
   ]
  }
 ],
 "metadata": {
  "kernelspec": {
   "display_name": "Python 3 (ipykernel)",
   "language": "python",
   "name": "python3"
  },
  "language_info": {
   "codemirror_mode": {
    "name": "ipython",
    "version": 3
   },
   "file_extension": ".py",
   "mimetype": "text/x-python",
   "name": "python",
   "nbconvert_exporter": "python",
   "pygments_lexer": "ipython3",
   "version": "3.7.4"
  }
 },
 "nbformat": 4,
 "nbformat_minor": 5
}
