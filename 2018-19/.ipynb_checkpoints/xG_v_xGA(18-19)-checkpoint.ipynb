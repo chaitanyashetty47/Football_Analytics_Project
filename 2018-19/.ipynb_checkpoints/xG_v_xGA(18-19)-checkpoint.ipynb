{
 "cells": [
  {
   "cell_type": "code",
   "execution_count": 2,
   "id": "f11448a6",
   "metadata": {},
   "outputs": [],
   "source": [
    "# use pandas to load and manipulate the data, matplotlib to plot\n",
    "import pandas as pd\n",
    "import matplotlib.pyplot as plt"
   ]
  },
  {
   "cell_type": "code",
   "execution_count": 3,
   "id": "a182ff6a",
   "metadata": {},
   "outputs": [],
   "source": [
    "df = pd.read_csv('C:\\\\Users\\\\Amin\\\\Documents\\\\manutd(2012-2021)\\\\fixtures18-19.csv')"
   ]
  },
  {
   "cell_type": "code",
   "execution_count": 4,
   "id": "7adc6e6b",
   "metadata": {},
   "outputs": [
    {
     "data": {
      "text/html": [
       "<div>\n",
       "<style scoped>\n",
       "    .dataframe tbody tr th:only-of-type {\n",
       "        vertical-align: middle;\n",
       "    }\n",
       "\n",
       "    .dataframe tbody tr th {\n",
       "        vertical-align: top;\n",
       "    }\n",
       "\n",
       "    .dataframe thead th {\n",
       "        text-align: right;\n",
       "    }\n",
       "</style>\n",
       "<table border=\"1\" class=\"dataframe\">\n",
       "  <thead>\n",
       "    <tr style=\"text-align: right;\">\n",
       "      <th></th>\n",
       "      <th>Date</th>\n",
       "      <th>Time</th>\n",
       "      <th>Round</th>\n",
       "      <th>Day</th>\n",
       "      <th>Venue</th>\n",
       "      <th>Result</th>\n",
       "      <th>GF</th>\n",
       "      <th>GA</th>\n",
       "      <th>Opponent</th>\n",
       "      <th>xG</th>\n",
       "      <th>xGA</th>\n",
       "      <th>Poss</th>\n",
       "      <th>Attendance</th>\n",
       "      <th>Captain</th>\n",
       "      <th>Formation</th>\n",
       "      <th>Referee</th>\n",
       "      <th>Match Report</th>\n",
       "      <th>Notes</th>\n",
       "    </tr>\n",
       "  </thead>\n",
       "  <tbody>\n",
       "    <tr>\n",
       "      <th>0</th>\n",
       "      <td>2018-08-10</td>\n",
       "      <td>20:00 (00:30)</td>\n",
       "      <td>Matchweek 1</td>\n",
       "      <td>Fri</td>\n",
       "      <td>Home</td>\n",
       "      <td>W</td>\n",
       "      <td>2</td>\n",
       "      <td>1</td>\n",
       "      <td>Leicester City</td>\n",
       "      <td>1.7</td>\n",
       "      <td>1.0</td>\n",
       "      <td>46</td>\n",
       "      <td>74439</td>\n",
       "      <td>Paul Pogba</td>\n",
       "      <td>4-3-2003</td>\n",
       "      <td>Andre Marriner</td>\n",
       "      <td>Match Report</td>\n",
       "      <td>NaN</td>\n",
       "    </tr>\n",
       "    <tr>\n",
       "      <th>1</th>\n",
       "      <td>2018-08-19</td>\n",
       "      <td>16:00 (20:30)</td>\n",
       "      <td>Matchweek 2</td>\n",
       "      <td>Sun</td>\n",
       "      <td>Away</td>\n",
       "      <td>L</td>\n",
       "      <td>2</td>\n",
       "      <td>3</td>\n",
       "      <td>Brighton</td>\n",
       "      <td>1.4</td>\n",
       "      <td>1.5</td>\n",
       "      <td>66</td>\n",
       "      <td>30592</td>\n",
       "      <td>Paul Pogba</td>\n",
       "      <td>4-3-2003</td>\n",
       "      <td>Kevin Friend</td>\n",
       "      <td>Match Report</td>\n",
       "      <td>NaN</td>\n",
       "    </tr>\n",
       "    <tr>\n",
       "      <th>2</th>\n",
       "      <td>2018-08-27</td>\n",
       "      <td>20:00 (00:30)</td>\n",
       "      <td>Matchweek 3</td>\n",
       "      <td>Mon</td>\n",
       "      <td>Home</td>\n",
       "      <td>L</td>\n",
       "      <td>0</td>\n",
       "      <td>3</td>\n",
       "      <td>Tottenham</td>\n",
       "      <td>1.8</td>\n",
       "      <td>1.4</td>\n",
       "      <td>56</td>\n",
       "      <td>74400</td>\n",
       "      <td>Antonio Valencia</td>\n",
       "      <td>3-5-1-1</td>\n",
       "      <td>Craig Pawson</td>\n",
       "      <td>Match Report</td>\n",
       "      <td>NaN</td>\n",
       "    </tr>\n",
       "    <tr>\n",
       "      <th>3</th>\n",
       "      <td>2018-09-02</td>\n",
       "      <td>16:00 (20:30)</td>\n",
       "      <td>Matchweek 4</td>\n",
       "      <td>Sun</td>\n",
       "      <td>Away</td>\n",
       "      <td>W</td>\n",
       "      <td>2</td>\n",
       "      <td>0</td>\n",
       "      <td>Burnley</td>\n",
       "      <td>2.9</td>\n",
       "      <td>0.7</td>\n",
       "      <td>53</td>\n",
       "      <td>21525</td>\n",
       "      <td>Antonio Valencia</td>\n",
       "      <td>4-3-2003</td>\n",
       "      <td>Jonathan Moss</td>\n",
       "      <td>Match Report</td>\n",
       "      <td>NaN</td>\n",
       "    </tr>\n",
       "    <tr>\n",
       "      <th>4</th>\n",
       "      <td>2018-09-15</td>\n",
       "      <td>17:30 (22:00)</td>\n",
       "      <td>Matchweek 5</td>\n",
       "      <td>Sat</td>\n",
       "      <td>Away</td>\n",
       "      <td>W</td>\n",
       "      <td>2</td>\n",
       "      <td>1</td>\n",
       "      <td>Watford</td>\n",
       "      <td>1.2</td>\n",
       "      <td>0.9</td>\n",
       "      <td>57</td>\n",
       "      <td>20537</td>\n",
       "      <td>Antonio Valencia</td>\n",
       "      <td>4-3-2003</td>\n",
       "      <td>Mike Dean</td>\n",
       "      <td>Match Report</td>\n",
       "      <td>NaN</td>\n",
       "    </tr>\n",
       "  </tbody>\n",
       "</table>\n",
       "</div>"
      ],
      "text/plain": [
       "         Date           Time        Round  Day Venue Result  GF  GA  \\\n",
       "0  2018-08-10  20:00 (00:30)  Matchweek 1  Fri  Home      W   2   1   \n",
       "1  2018-08-19  16:00 (20:30)  Matchweek 2  Sun  Away      L   2   3   \n",
       "2  2018-08-27  20:00 (00:30)  Matchweek 3  Mon  Home      L   0   3   \n",
       "3  2018-09-02  16:00 (20:30)  Matchweek 4  Sun  Away      W   2   0   \n",
       "4  2018-09-15  17:30 (22:00)  Matchweek 5  Sat  Away      W   2   1   \n",
       "\n",
       "         Opponent   xG  xGA  Poss  Attendance           Captain Formation  \\\n",
       "0  Leicester City  1.7  1.0    46       74439        Paul Pogba  4-3-2003   \n",
       "1        Brighton  1.4  1.5    66       30592        Paul Pogba  4-3-2003   \n",
       "2       Tottenham  1.8  1.4    56       74400  Antonio Valencia   3-5-1-1   \n",
       "3         Burnley  2.9  0.7    53       21525  Antonio Valencia  4-3-2003   \n",
       "4         Watford  1.2  0.9    57       20537  Antonio Valencia  4-3-2003   \n",
       "\n",
       "          Referee  Match Report  Notes  \n",
       "0  Andre Marriner  Match Report    NaN  \n",
       "1    Kevin Friend  Match Report    NaN  \n",
       "2    Craig Pawson  Match Report    NaN  \n",
       "3   Jonathan Moss  Match Report    NaN  \n",
       "4       Mike Dean  Match Report    NaN  "
      ]
     },
     "execution_count": 4,
     "metadata": {},
     "output_type": "execute_result"
    }
   ],
   "source": [
    "df.head()"
   ]
  },
  {
   "cell_type": "code",
   "execution_count": 5,
   "id": "29492eaa",
   "metadata": {},
   "outputs": [],
   "source": [
    "df['match'] = range(1,39)"
   ]
  },
  {
   "cell_type": "code",
   "execution_count": 6,
   "id": "c78b3615",
   "metadata": {},
   "outputs": [],
   "source": [
    "df['xgSMA'] = df['xG'].rolling(window=3).mean()\n",
    "df['xgaSMA'] = df['xGA'].rolling(window=3).mean()"
   ]
  },
  {
   "cell_type": "code",
   "execution_count": 12,
   "id": "82ef2c71",
   "metadata": {},
   "outputs": [
    {
     "data": {
      "text/plain": [
       "Text(0.5, 1.0, 'Rolling Mean of Manchester United in 2018/19')"
      ]
     },
     "execution_count": 12,
     "metadata": {},
     "output_type": "execute_result"
    },
    {
     "data": {
      "image/png": "[encoded data removed]",
      "text/plain": [
       "<Figure size 432x288 with 1 Axes>"
      ]
     },
     "metadata": {
      "needs_background": "light"
     },
     "output_type": "display_data"
    }
   ],
   "source": [
    "#blue for xG and red for xGA\n",
    "plt.plot(df.match,df.xgSMA,color='blue')\n",
    "plt.plot(df.match,df.xgaSMA,color='red')\n",
    "plt.axvline(18, ls = '--', color = 'black')\n",
    "plt.xlabel('Matches')\n",
    "plt.ylabel('xG/xGA Per Game')\n",
    "plt.legend([\"xG\", \"xGA\"], loc =\"upper right\")\n",
    "plt.title('Rolling Mean of Manchester United in 2018/19')"
   ]
  },
  {
   "cell_type": "code",
   "execution_count": null,
   "id": "d6b5253f",
   "metadata": {},
   "outputs": [],
   "source": []
  }
 ],
 "metadata": {
  "kernelspec": {
   "display_name": "Python 3 (ipykernel)",
   "language": "python",
   "name": "python3"
  },
  "language_info": {
   "codemirror_mode": {
    "name": "ipython",
    "version": 3
   },
   "file_extension": ".py",
   "mimetype": "text/x-python",
   "name": "python",
   "nbconvert_exporter": "python",
   "pygments_lexer": "ipython3",
   "version": "3.7.4"
  }
 },
 "nbformat": 4,
 "nbformat_minor": 5
}
