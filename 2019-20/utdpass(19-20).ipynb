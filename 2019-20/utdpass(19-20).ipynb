{
 "cells": [
  {
   "cell_type": "code",
   "execution_count": 22,
   "id": "b04d2334",
   "metadata": {},
   "outputs": [],
   "source": [
    "import pandas as pd\n",
    "import matplotlib.pyplot as plt\n",
    "from soccerplots.radar_chart import Radar\n",
    "from mplsoccer import Radar, FontManager\n",
    "import matplotlib.pyplot as plt"
   ]
  },
  {
   "cell_type": "code",
   "execution_count": 23,
   "id": "e9238c3a",
   "metadata": {},
   "outputs": [],
   "source": [
    "df = pd.read_csv('C:\\\\Users\\\\Amin\\\\Documents\\\\manutd(2012-2021)\\\\utdpass(19-20).csv')"
   ]
  },
  {
   "cell_type": "code",
   "execution_count": 24,
   "id": "8be30aee",
   "metadata": {},
   "outputs": [
    {
     "data": {
      "text/html": [
       "<div>\n",
       "<style scoped>\n",
       "    .dataframe tbody tr th:only-of-type {\n",
       "        vertical-align: middle;\n",
       "    }\n",
       "\n",
       "    .dataframe tbody tr th {\n",
       "        vertical-align: top;\n",
       "    }\n",
       "\n",
       "    .dataframe thead th {\n",
       "        text-align: right;\n",
       "    }\n",
       "</style>\n",
       "<table border=\"1\" class=\"dataframe\">\n",
       "  <thead>\n",
       "    <tr style=\"text-align: right;\">\n",
       "      <th></th>\n",
       "      <th>Squad</th>\n",
       "      <th>90s</th>\n",
       "      <th>TotalCmp</th>\n",
       "      <th>TotPassAtt</th>\n",
       "      <th>TotCmp%</th>\n",
       "      <th>TotDist</th>\n",
       "      <th>PrgDist</th>\n",
       "      <th>ShortCmp</th>\n",
       "      <th>ShortAtm</th>\n",
       "      <th>ShortCmp%</th>\n",
       "      <th>...</th>\n",
       "      <th>LongAtt</th>\n",
       "      <th>LongCmp%</th>\n",
       "      <th>Ast</th>\n",
       "      <th>xA</th>\n",
       "      <th>A-xA</th>\n",
       "      <th>Pass2Shots</th>\n",
       "      <th>1/3</th>\n",
       "      <th>PPA</th>\n",
       "      <th>CrsPA</th>\n",
       "      <th>Prog</th>\n",
       "    </tr>\n",
       "  </thead>\n",
       "  <tbody>\n",
       "    <tr>\n",
       "      <th>0</th>\n",
       "      <td>Arsenal</td>\n",
       "      <td>38</td>\n",
       "      <td>16349</td>\n",
       "      <td>19802</td>\n",
       "      <td>82.6</td>\n",
       "      <td>321220</td>\n",
       "      <td>94865</td>\n",
       "      <td>6299</td>\n",
       "      <td>7029</td>\n",
       "      <td>89.6</td>\n",
       "      <td>...</td>\n",
       "      <td>3776</td>\n",
       "      <td>64.3</td>\n",
       "      <td>35</td>\n",
       "      <td>29.9</td>\n",
       "      <td>5.1</td>\n",
       "      <td>285</td>\n",
       "      <td>1121</td>\n",
       "      <td>320</td>\n",
       "      <td>70</td>\n",
       "      <td>1240</td>\n",
       "    </tr>\n",
       "    <tr>\n",
       "      <th>1</th>\n",
       "      <td>Aston Villa</td>\n",
       "      <td>38</td>\n",
       "      <td>11530</td>\n",
       "      <td>15353</td>\n",
       "      <td>75.1</td>\n",
       "      <td>242867</td>\n",
       "      <td>87449</td>\n",
       "      <td>4292</td>\n",
       "      <td>4999</td>\n",
       "      <td>85.9</td>\n",
       "      <td>...</td>\n",
       "      <td>3846</td>\n",
       "      <td>54.2</td>\n",
       "      <td>32</td>\n",
       "      <td>30.4</td>\n",
       "      <td>1.6</td>\n",
       "      <td>361</td>\n",
       "      <td>891</td>\n",
       "      <td>286</td>\n",
       "      <td>95</td>\n",
       "      <td>1034</td>\n",
       "    </tr>\n",
       "    <tr>\n",
       "      <th>2</th>\n",
       "      <td>Bournemouth</td>\n",
       "      <td>38</td>\n",
       "      <td>11943</td>\n",
       "      <td>15973</td>\n",
       "      <td>74.8</td>\n",
       "      <td>234473</td>\n",
       "      <td>86377</td>\n",
       "      <td>4779</td>\n",
       "      <td>5647</td>\n",
       "      <td>84.6</td>\n",
       "      <td>...</td>\n",
       "      <td>3382</td>\n",
       "      <td>52.4</td>\n",
       "      <td>24</td>\n",
       "      <td>27.4</td>\n",
       "      <td>-3.4</td>\n",
       "      <td>267</td>\n",
       "      <td>900</td>\n",
       "      <td>258</td>\n",
       "      <td>53</td>\n",
       "      <td>1069</td>\n",
       "    </tr>\n",
       "    <tr>\n",
       "      <th>3</th>\n",
       "      <td>Brighton</td>\n",
       "      <td>38</td>\n",
       "      <td>15696</td>\n",
       "      <td>19549</td>\n",
       "      <td>80.3</td>\n",
       "      <td>317859</td>\n",
       "      <td>103840</td>\n",
       "      <td>5976</td>\n",
       "      <td>6845</td>\n",
       "      <td>87.3</td>\n",
       "      <td>...</td>\n",
       "      <td>4013</td>\n",
       "      <td>62.5</td>\n",
       "      <td>24</td>\n",
       "      <td>26.5</td>\n",
       "      <td>-2.5</td>\n",
       "      <td>327</td>\n",
       "      <td>1091</td>\n",
       "      <td>310</td>\n",
       "      <td>85</td>\n",
       "      <td>1301</td>\n",
       "    </tr>\n",
       "    <tr>\n",
       "      <th>4</th>\n",
       "      <td>Burnley</td>\n",
       "      <td>38</td>\n",
       "      <td>9925</td>\n",
       "      <td>14227</td>\n",
       "      <td>69.8</td>\n",
       "      <td>203008</td>\n",
       "      <td>78549</td>\n",
       "      <td>4182</td>\n",
       "      <td>4902</td>\n",
       "      <td>85.3</td>\n",
       "      <td>...</td>\n",
       "      <td>3907</td>\n",
       "      <td>45.4</td>\n",
       "      <td>30</td>\n",
       "      <td>27.2</td>\n",
       "      <td>2.8</td>\n",
       "      <td>263</td>\n",
       "      <td>778</td>\n",
       "      <td>208</td>\n",
       "      <td>78</td>\n",
       "      <td>814</td>\n",
       "    </tr>\n",
       "  </tbody>\n",
       "</table>\n",
       "<p>5 rows × 24 columns</p>\n",
       "</div>"
      ],
      "text/plain": [
       "         Squad  90s  TotalCmp  TotPassAtt  TotCmp%  TotDist  PrgDist  \\\n",
       "0      Arsenal   38     16349       19802     82.6   321220    94865   \n",
       "1  Aston Villa   38     11530       15353     75.1   242867    87449   \n",
       "2  Bournemouth   38     11943       15973     74.8   234473    86377   \n",
       "3     Brighton   38     15696       19549     80.3   317859   103840   \n",
       "4      Burnley   38      9925       14227     69.8   203008    78549   \n",
       "\n",
       "   ShortCmp  ShortAtm  ShortCmp%  ...  LongAtt  LongCmp%  Ast    xA  A-xA  \\\n",
       "0      6299      7029       89.6  ...     3776      64.3   35  29.9   5.1   \n",
       "1      4292      4999       85.9  ...     3846      54.2   32  30.4   1.6   \n",
       "2      4779      5647       84.6  ...     3382      52.4   24  27.4  -3.4   \n",
       "3      5976      6845       87.3  ...     4013      62.5   24  26.5  -2.5   \n",
       "4      4182      4902       85.3  ...     3907      45.4   30  27.2   2.8   \n",
       "\n",
       "   Pass2Shots   1/3  PPA  CrsPA  Prog  \n",
       "0         285  1121  320     70  1240  \n",
       "1         361   891  286     95  1034  \n",
       "2         267   900  258     53  1069  \n",
       "3         327  1091  310     85  1301  \n",
       "4         263   778  208     78   814  \n",
       "\n",
       "[5 rows x 24 columns]"
      ]
     },
     "execution_count": 24,
     "metadata": {},
     "output_type": "execute_result"
    }
   ],
   "source": [
    "df.head()"
   ]
  },
  {
   "cell_type": "code",
   "execution_count": 25,
   "id": "e915027f",
   "metadata": {},
   "outputs": [],
   "source": [
    "#FINDING MAX AND MIN Assists\n",
    "max_A=df['Ast'].max()\n",
    "min_A=df['Ast'].min()"
   ]
  },
  {
   "cell_type": "code",
   "execution_count": 26,
   "id": "59c78696",
   "metadata": {},
   "outputs": [],
   "source": [
    "#FINDING MAX AND MIN xA\n",
    "max_xA=df['xA'].max()\n",
    "min_xA=df['xA'].min()"
   ]
  },
  {
   "cell_type": "code",
   "execution_count": 27,
   "id": "1eba825a",
   "metadata": {},
   "outputs": [],
   "source": [
    "#FINDING MAX AND MIN A-xA\n",
    "max_AmxA=df['A-xA'].max()\n",
    "min_AmxA=df['A-xA'].min()"
   ]
  },
  {
   "cell_type": "code",
   "execution_count": 28,
   "id": "37733f34",
   "metadata": {},
   "outputs": [],
   "source": [
    "#FINDING Pass2Shots\n",
    "max_P2S=df['Pass2Shots'].max()\n",
    "min_P2S=df['Pass2Shots'].min()"
   ]
  },
  {
   "cell_type": "code",
   "execution_count": 29,
   "id": "6500064d",
   "metadata": {},
   "outputs": [],
   "source": [
    "#FINDING 1/3 passes\n",
    "max_1x3=df['1/3'].max()\n",
    "min_1x3=df['1/3'].min()"
   ]
  },
  {
   "cell_type": "code",
   "execution_count": 30,
   "id": "f8225fbd",
   "metadata": {},
   "outputs": [],
   "source": [
    "#FINDING pass into 18 yard box\n",
    "max_PPA=df['PPA'].max()\n",
    "min_PPA=df['PPA'].min()"
   ]
  },
  {
   "cell_type": "code",
   "execution_count": 31,
   "id": "88b63071",
   "metadata": {},
   "outputs": [
    {
     "name": "stdout",
     "output_type": "stream",
     "text": [
      "42\n"
     ]
    }
   ],
   "source": [
    "#FINDING cross into 18 yard box\n",
    "max_CrsPA=df['CrsPA'].max()\n",
    "min_CrsPA=df['CrsPA'].min()\n",
    "print(min_CrsPA)"
   ]
  },
  {
   "cell_type": "code",
   "execution_count": 32,
   "id": "c14e2cb6",
   "metadata": {},
   "outputs": [],
   "source": [
    "#FINDING cross into Progressive Passes\n",
    "max_Prog=df['Prog'].max()\n",
    "min_Prog=df['Prog'].min()"
   ]
  },
  {
   "cell_type": "code",
   "execution_count": 33,
   "id": "1db8b227",
   "metadata": {},
   "outputs": [],
   "source": [
    "df = df[df['Squad']=='Manchester Utd'].reset_index()"
   ]
  },
  {
   "cell_type": "code",
   "execution_count": 34,
   "id": "deefc964",
   "metadata": {},
   "outputs": [
    {
     "data": {
      "text/html": [
       "<div>\n",
       "<style scoped>\n",
       "    .dataframe tbody tr th:only-of-type {\n",
       "        vertical-align: middle;\n",
       "    }\n",
       "\n",
       "    .dataframe tbody tr th {\n",
       "        vertical-align: top;\n",
       "    }\n",
       "\n",
       "    .dataframe thead th {\n",
       "        text-align: right;\n",
       "    }\n",
       "</style>\n",
       "<table border=\"1\" class=\"dataframe\">\n",
       "  <thead>\n",
       "    <tr style=\"text-align: right;\">\n",
       "      <th></th>\n",
       "      <th>index</th>\n",
       "      <th>Squad</th>\n",
       "      <th>90s</th>\n",
       "      <th>TotalCmp</th>\n",
       "      <th>TotPassAtt</th>\n",
       "      <th>TotCmp%</th>\n",
       "      <th>TotDist</th>\n",
       "      <th>PrgDist</th>\n",
       "      <th>ShortCmp</th>\n",
       "      <th>ShortAtm</th>\n",
       "      <th>...</th>\n",
       "      <th>LongAtt</th>\n",
       "      <th>LongCmp%</th>\n",
       "      <th>Ast</th>\n",
       "      <th>xA</th>\n",
       "      <th>A-xA</th>\n",
       "      <th>Pass2Shots</th>\n",
       "      <th>1/3</th>\n",
       "      <th>PPA</th>\n",
       "      <th>CrsPA</th>\n",
       "      <th>Prog</th>\n",
       "    </tr>\n",
       "  </thead>\n",
       "  <tbody>\n",
       "    <tr>\n",
       "      <th>0</th>\n",
       "      <td>11</td>\n",
       "      <td>Manchester Utd</td>\n",
       "      <td>38</td>\n",
       "      <td>17542</td>\n",
       "      <td>21170</td>\n",
       "      <td>82.9</td>\n",
       "      <td>324919</td>\n",
       "      <td>97629</td>\n",
       "      <td>7733</td>\n",
       "      <td>8627</td>\n",
       "      <td>...</td>\n",
       "      <td>3392</td>\n",
       "      <td>63.5</td>\n",
       "      <td>43</td>\n",
       "      <td>37.0</td>\n",
       "      <td>6.0</td>\n",
       "      <td>401</td>\n",
       "      <td>1362</td>\n",
       "      <td>353</td>\n",
       "      <td>53</td>\n",
       "      <td>1500</td>\n",
       "    </tr>\n",
       "  </tbody>\n",
       "</table>\n",
       "<p>1 rows × 25 columns</p>\n",
       "</div>"
      ],
      "text/plain": [
       "   index           Squad  90s  TotalCmp  TotPassAtt  TotCmp%  TotDist  \\\n",
       "0     11  Manchester Utd   38     17542       21170     82.9   324919   \n",
       "\n",
       "   PrgDist  ShortCmp  ShortAtm  ...  LongAtt  LongCmp%  Ast    xA  A-xA  \\\n",
       "0    97629      7733      8627  ...     3392      63.5   43  37.0   6.0   \n",
       "\n",
       "   Pass2Shots   1/3  PPA  CrsPA  Prog  \n",
       "0         401  1362  353     53  1500  \n",
       "\n",
       "[1 rows x 25 columns]"
      ]
     },
     "execution_count": 34,
     "metadata": {},
     "output_type": "execute_result"
    }
   ],
   "source": [
    "df"
   ]
  },
  {
   "cell_type": "code",
   "execution_count": 35,
   "id": "b05e5b74",
   "metadata": {},
   "outputs": [],
   "source": [
    "df = df.drop(['index','90s','TotalCmp','TotPassAtt','TotCmp%','TotDist','PrgDist','ShortCmp','ShortAtm','ShortCmp%','MediumCmp','MediumAtm','MediumCmp%','LongCmp','LongAtt','LongCmp%'],axis=1)"
   ]
  },
  {
   "cell_type": "code",
   "execution_count": 36,
   "id": "43d6a9ad",
   "metadata": {},
   "outputs": [
    {
     "data": {
      "text/html": [
       "<div>\n",
       "<style scoped>\n",
       "    .dataframe tbody tr th:only-of-type {\n",
       "        vertical-align: middle;\n",
       "    }\n",
       "\n",
       "    .dataframe tbody tr th {\n",
       "        vertical-align: top;\n",
       "    }\n",
       "\n",
       "    .dataframe thead th {\n",
       "        text-align: right;\n",
       "    }\n",
       "</style>\n",
       "<table border=\"1\" class=\"dataframe\">\n",
       "  <thead>\n",
       "    <tr style=\"text-align: right;\">\n",
       "      <th></th>\n",
       "      <th>Squad</th>\n",
       "      <th>Ast</th>\n",
       "      <th>xA</th>\n",
       "      <th>A-xA</th>\n",
       "      <th>Pass2Shots</th>\n",
       "      <th>1/3</th>\n",
       "      <th>PPA</th>\n",
       "      <th>CrsPA</th>\n",
       "      <th>Prog</th>\n",
       "    </tr>\n",
       "  </thead>\n",
       "  <tbody>\n",
       "    <tr>\n",
       "      <th>0</th>\n",
       "      <td>Manchester Utd</td>\n",
       "      <td>43</td>\n",
       "      <td>37.0</td>\n",
       "      <td>6.0</td>\n",
       "      <td>401</td>\n",
       "      <td>1362</td>\n",
       "      <td>353</td>\n",
       "      <td>53</td>\n",
       "      <td>1500</td>\n",
       "    </tr>\n",
       "  </tbody>\n",
       "</table>\n",
       "</div>"
      ],
      "text/plain": [
       "            Squad  Ast    xA  A-xA  Pass2Shots   1/3  PPA  CrsPA  Prog\n",
       "0  Manchester Utd   43  37.0   6.0         401  1362  353     53  1500"
      ]
     },
     "execution_count": 36,
     "metadata": {},
     "output_type": "execute_result"
    }
   ],
   "source": [
    "df"
   ]
  },
  {
   "cell_type": "code",
   "execution_count": 37,
   "id": "d4c800c3",
   "metadata": {},
   "outputs": [
    {
     "data": {
      "text/plain": [
       "['Ast', 'xA', 'A-xA', 'Pass2Shots', '1/3', 'PPA', 'CrsPA', 'Prog']"
      ]
     },
     "execution_count": 37,
     "metadata": {},
     "output_type": "execute_result"
    }
   ],
   "source": [
    "#get parameters\n",
    "params = list(df.columns)\n",
    "params = params[1:]\n",
    "params"
   ]
  },
  {
   "cell_type": "code",
   "execution_count": 38,
   "id": "886b6286",
   "metadata": {},
   "outputs": [],
   "source": [
    "#Append values for min range\n",
    "min_range= []\n",
    "max_range= []\n",
    "\n",
    "min_range.append(min_A)\n",
    "min_range.append(min_xA)\n",
    "min_range.append(min_AmxA)\n",
    "min_range.append(min_P2S)\n",
    "min_range.append(min_1x3)\n",
    "min_range.append(min_PPA)\n",
    "min_range.append(min_CrsPA)\n",
    "min_range.append(min_Prog)"
   ]
  },
  {
   "cell_type": "code",
   "execution_count": 39,
   "id": "7e7dfd90",
   "metadata": {},
   "outputs": [
    {
     "data": {
      "text/plain": [
       "[18, 23.2, -8.1, 253, 762, 188, 42, 754]"
      ]
     },
     "execution_count": 39,
     "metadata": {},
     "output_type": "execute_result"
    }
   ],
   "source": [
    "min_range"
   ]
  },
  {
   "cell_type": "code",
   "execution_count": 40,
   "id": "614e1e2a",
   "metadata": {},
   "outputs": [],
   "source": [
    "#Append values for max range\n",
    "max_range.append(max_A)\n",
    "max_range.append(max_xA)\n",
    "max_range.append(max_AmxA)\n",
    "max_range.append(max_P2S)\n",
    "max_range.append(max_1x3)\n",
    "max_range.append(max_PPA)\n",
    "max_range.append(max_CrsPA)\n",
    "max_range.append(max_Prog)"
   ]
  },
  {
   "cell_type": "code",
   "execution_count": 41,
   "id": "f966bc00",
   "metadata": {},
   "outputs": [
    {
     "data": {
      "text/plain": [
       "[69, 66.2, 17.2, 558, 1916, 598, 105, 2005]"
      ]
     },
     "execution_count": 41,
     "metadata": {},
     "output_type": "execute_result"
    }
   ],
   "source": [
    "max_range"
   ]
  },
  {
   "cell_type": "code",
   "execution_count": 42,
   "id": "451c54a1",
   "metadata": {},
   "outputs": [],
   "source": [
    "for x in range(len(df['Squad'])):\n",
    "    if df['Squad'][x] == 'Manchester Utd':\n",
    "        values = df.iloc[x].values.tolist()\n",
    "        \n",
    "values = values[1:]"
   ]
  },
  {
   "cell_type": "code",
   "execution_count": 43,
   "id": "9f5accee",
   "metadata": {},
   "outputs": [
    {
     "data": {
      "text/plain": [
       "[43, 37.0, 6.0, 401, 1362, 353, 53, 1500]"
      ]
     },
     "execution_count": 43,
     "metadata": {},
     "output_type": "execute_result"
    }
   ],
   "source": [
    "values"
   ]
  },
  {
   "cell_type": "code",
   "execution_count": 44,
   "id": "bf273ad1",
   "metadata": {},
   "outputs": [],
   "source": [
    "radar = Radar(params, min_range, max_range,\n",
    "              # whether to round any of the labels to integers instead of decimal places\n",
    "              round_int=[False]*8,\n",
    "              num_rings=3,  # the number of concentric circles (excluding center circle)\n",
    "              # if the ring_width is more than the center_circle_radius then\n",
    "              # the center circle radius will be wider than the width of the concentric circles\n",
    "              ring_width=1, center_circle_radius=1)"
   ]
  },
  {
   "cell_type": "code",
   "execution_count": 45,
   "id": "26cfb889",
   "metadata": {},
   "outputs": [],
   "source": [
    "#We will use mplsoccer’s FontManager to load some fonts from Google Fonts. \n",
    "#We borrowed the FontManager from the ridge_map library.\n",
    "\n",
    "URL1 = ('https://github.com/googlefonts/SourceSerifProGFVersion/blob/main/'\n",
    "        'fonts/SourceSerifPro-Regular.ttf?raw=true')\n",
    "serif_regular = FontManager(URL1)\n",
    "URL2 = ('https://github.com/googlefonts/SourceSerifProGFVersion/blob/main/'\n",
    "        'fonts/SourceSerifPro-ExtraLight.ttf?raw=true')\n",
    "serif_extra_light = FontManager(URL2)\n",
    "URL3 = ('https://github.com/google/fonts/blob/main/ofl/rubikmonoone/'\n",
    "        'RubikMonoOne-Regular.ttf?raw=true')\n",
    "rubik_regular = FontManager(URL3)\n",
    "URL4 = 'https://github.com/googlefonts/roboto/blob/main/src/hinted/Roboto-Thin.ttf?raw=true'\n",
    "robotto_thin = FontManager(URL4)\n",
    "URL5 = 'https://github.com/googlefonts/roboto/blob/main/src/hinted/Roboto-Regular.ttf?raw=true'\n",
    "robotto_regular = FontManager(URL5)\n",
    "URL6 = 'https://github.com/googlefonts/roboto/blob/main/src/hinted/Roboto-Bold.ttf?raw=true'\n",
    "robotto_bold = FontManager(URL6)"
   ]
  },
  {
   "cell_type": "code",
   "execution_count": 60,
   "id": "2aaca45f",
   "metadata": {},
   "outputs": [
    {
     "data": {
      "image/png": "[encoded data removed]",
      "text/plain": [
       "<Figure size 864x864 with 1 Axes>"
      ]
     },
     "metadata": {},
     "output_type": "display_data"
    }
   ],
   "source": [
    "fig, ax = radar.setup_axis()  # format axis as a radar\n",
    "rings_inner = radar.draw_circles(ax=ax, facecolor='#3F31C4', edgecolor='#fc5f5f')  # draw circles\n",
    "radar_output = radar.draw_radar(values, ax=ax,\n",
    "                                kwargs_radar={'facecolor': '#ffff00'},\n",
    "                                kwargs_rings={'facecolor': '#ff0000'})  # draw the radar\n",
    "radar_poly, rings_outer, vertices = radar_output\n",
    "range_labels = radar.draw_range_labels(ax=ax, fontsize=15,\n",
    "                                       fontproperties=robotto_regular.prop)  # draw the range labels\n",
    "param_labels = radar.draw_param_labels(ax=ax, fontsize=20,\n",
    "                                       fontproperties=robotto_regular.prop,color='#ff0000')  # draw the param labels"
   ]
  },
  {
   "cell_type": "code",
   "execution_count": null,
   "id": "362df6a0",
   "metadata": {},
   "outputs": [],
   "source": []
  }
 ],
 "metadata": {
  "kernelspec": {
   "display_name": "Python 3 (ipykernel)",
   "language": "python",
   "name": "python3"
  },
  "language_info": {
   "codemirror_mode": {
    "name": "ipython",
    "version": 3
   },
   "file_extension": ".py",
   "mimetype": "text/x-python",
   "name": "python",
   "nbconvert_exporter": "python",
   "pygments_lexer": "ipython3",
   "version": "3.7.4"
  }
 },
 "nbformat": 4,
 "nbformat_minor": 5
}
