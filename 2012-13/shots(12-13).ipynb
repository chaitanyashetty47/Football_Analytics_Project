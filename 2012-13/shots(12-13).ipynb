{
 "cells": [
  {
   "cell_type": "code",
   "execution_count": 1,
   "id": "06a68528",
   "metadata": {},
   "outputs": [],
   "source": [
    "import pandas as pd\n",
    "import matplotlib.pyplot as plt\n",
    "from soccerplots.radar_chart import Radar\n",
    "from mplsoccer import Radar, FontManager\n",
    "import matplotlib.pyplot as plt"
   ]
  },
  {
   "cell_type": "code",
   "execution_count": 2,
   "id": "1089e437",
   "metadata": {},
   "outputs": [],
   "source": [
    "df = pd.read_csv('C:\\\\Users\\\\Amin\\\\Documents\\\\manutd(2012-2021)\\\\shots(12-13).csv')"
   ]
  },
  {
   "cell_type": "code",
   "execution_count": 3,
   "id": "3c40c1eb",
   "metadata": {
    "scrolled": true
   },
   "outputs": [
    {
     "data": {
      "text/html": [
       "<div>\n",
       "<style scoped>\n",
       "    .dataframe tbody tr th:only-of-type {\n",
       "        vertical-align: middle;\n",
       "    }\n",
       "\n",
       "    .dataframe tbody tr th {\n",
       "        vertical-align: top;\n",
       "    }\n",
       "\n",
       "    .dataframe thead th {\n",
       "        text-align: right;\n",
       "    }\n",
       "</style>\n",
       "<table border=\"1\" class=\"dataframe\">\n",
       "  <thead>\n",
       "    <tr style=\"text-align: right;\">\n",
       "      <th></th>\n",
       "      <th>Squad</th>\n",
       "      <th># Pl</th>\n",
       "      <th>Gls</th>\n",
       "      <th>SoT</th>\n",
       "      <th>SoT/90</th>\n",
       "      <th>G/SoT</th>\n",
       "      <th>PK</th>\n",
       "      <th>PKatt</th>\n",
       "    </tr>\n",
       "  </thead>\n",
       "  <tbody>\n",
       "    <tr>\n",
       "      <th>0</th>\n",
       "      <td>Arsenal</td>\n",
       "      <td>26</td>\n",
       "      <td>69</td>\n",
       "      <td>272</td>\n",
       "      <td>7.16</td>\n",
       "      <td>0.24</td>\n",
       "      <td>5</td>\n",
       "      <td>6</td>\n",
       "    </tr>\n",
       "    <tr>\n",
       "      <th>1</th>\n",
       "      <td>Aston Villa</td>\n",
       "      <td>28</td>\n",
       "      <td>47</td>\n",
       "      <td>176</td>\n",
       "      <td>4.63</td>\n",
       "      <td>0.25</td>\n",
       "      <td>3</td>\n",
       "      <td>3</td>\n",
       "    </tr>\n",
       "    <tr>\n",
       "      <th>2</th>\n",
       "      <td>Chelsea</td>\n",
       "      <td>26</td>\n",
       "      <td>71</td>\n",
       "      <td>257</td>\n",
       "      <td>6.76</td>\n",
       "      <td>0.24</td>\n",
       "      <td>9</td>\n",
       "      <td>11</td>\n",
       "    </tr>\n",
       "    <tr>\n",
       "      <th>3</th>\n",
       "      <td>Everton</td>\n",
       "      <td>23</td>\n",
       "      <td>53</td>\n",
       "      <td>266</td>\n",
       "      <td>7.00</td>\n",
       "      <td>0.19</td>\n",
       "      <td>2</td>\n",
       "      <td>2</td>\n",
       "    </tr>\n",
       "    <tr>\n",
       "      <th>4</th>\n",
       "      <td>Fulham</td>\n",
       "      <td>29</td>\n",
       "      <td>45</td>\n",
       "      <td>205</td>\n",
       "      <td>5.39</td>\n",
       "      <td>0.19</td>\n",
       "      <td>6</td>\n",
       "      <td>6</td>\n",
       "    </tr>\n",
       "  </tbody>\n",
       "</table>\n",
       "</div>"
      ],
      "text/plain": [
       "         Squad  # Pl  Gls  SoT  SoT/90  G/SoT  PK  PKatt\n",
       "0      Arsenal    26   69  272    7.16   0.24   5      6\n",
       "1  Aston Villa    28   47  176    4.63   0.25   3      3\n",
       "2      Chelsea    26   71  257    6.76   0.24   9     11\n",
       "3      Everton    23   53  266    7.00   0.19   2      2\n",
       "4       Fulham    29   45  205    5.39   0.19   6      6"
      ]
     },
     "execution_count": 3,
     "metadata": {},
     "output_type": "execute_result"
    }
   ],
   "source": [
    "df.head()"
   ]
  },
  {
   "cell_type": "code",
   "execution_count": 4,
   "id": "99beab25",
   "metadata": {
    "scrolled": true
   },
   "outputs": [],
   "source": [
    "df = df.drop(['# Pl','PK','PKatt'],axis=1)"
   ]
  },
  {
   "cell_type": "code",
   "execution_count": 5,
   "id": "fc87687d",
   "metadata": {},
   "outputs": [
    {
     "data": {
      "text/html": [
       "<div>\n",
       "<style scoped>\n",
       "    .dataframe tbody tr th:only-of-type {\n",
       "        vertical-align: middle;\n",
       "    }\n",
       "\n",
       "    .dataframe tbody tr th {\n",
       "        vertical-align: top;\n",
       "    }\n",
       "\n",
       "    .dataframe thead th {\n",
       "        text-align: right;\n",
       "    }\n",
       "</style>\n",
       "<table border=\"1\" class=\"dataframe\">\n",
       "  <thead>\n",
       "    <tr style=\"text-align: right;\">\n",
       "      <th></th>\n",
       "      <th>Squad</th>\n",
       "      <th>Gls</th>\n",
       "      <th>SoT</th>\n",
       "      <th>SoT/90</th>\n",
       "      <th>G/SoT</th>\n",
       "    </tr>\n",
       "  </thead>\n",
       "  <tbody>\n",
       "    <tr>\n",
       "      <th>0</th>\n",
       "      <td>Arsenal</td>\n",
       "      <td>69</td>\n",
       "      <td>272</td>\n",
       "      <td>7.16</td>\n",
       "      <td>0.24</td>\n",
       "    </tr>\n",
       "    <tr>\n",
       "      <th>1</th>\n",
       "      <td>Aston Villa</td>\n",
       "      <td>47</td>\n",
       "      <td>176</td>\n",
       "      <td>4.63</td>\n",
       "      <td>0.25</td>\n",
       "    </tr>\n",
       "    <tr>\n",
       "      <th>2</th>\n",
       "      <td>Chelsea</td>\n",
       "      <td>71</td>\n",
       "      <td>257</td>\n",
       "      <td>6.76</td>\n",
       "      <td>0.24</td>\n",
       "    </tr>\n",
       "    <tr>\n",
       "      <th>3</th>\n",
       "      <td>Everton</td>\n",
       "      <td>53</td>\n",
       "      <td>266</td>\n",
       "      <td>7.00</td>\n",
       "      <td>0.19</td>\n",
       "    </tr>\n",
       "    <tr>\n",
       "      <th>4</th>\n",
       "      <td>Fulham</td>\n",
       "      <td>45</td>\n",
       "      <td>205</td>\n",
       "      <td>5.39</td>\n",
       "      <td>0.19</td>\n",
       "    </tr>\n",
       "    <tr>\n",
       "      <th>5</th>\n",
       "      <td>Liverpool</td>\n",
       "      <td>67</td>\n",
       "      <td>297</td>\n",
       "      <td>7.82</td>\n",
       "      <td>0.21</td>\n",
       "    </tr>\n",
       "    <tr>\n",
       "      <th>6</th>\n",
       "      <td>Manchester City</td>\n",
       "      <td>64</td>\n",
       "      <td>285</td>\n",
       "      <td>7.50</td>\n",
       "      <td>0.21</td>\n",
       "    </tr>\n",
       "    <tr>\n",
       "      <th>7</th>\n",
       "      <td>Manchester Utd</td>\n",
       "      <td>80</td>\n",
       "      <td>243</td>\n",
       "      <td>6.39</td>\n",
       "      <td>0.31</td>\n",
       "    </tr>\n",
       "    <tr>\n",
       "      <th>8</th>\n",
       "      <td>Newcastle Utd</td>\n",
       "      <td>43</td>\n",
       "      <td>208</td>\n",
       "      <td>5.47</td>\n",
       "      <td>0.19</td>\n",
       "    </tr>\n",
       "    <tr>\n",
       "      <th>9</th>\n",
       "      <td>Norwich City</td>\n",
       "      <td>40</td>\n",
       "      <td>177</td>\n",
       "      <td>4.66</td>\n",
       "      <td>0.22</td>\n",
       "    </tr>\n",
       "    <tr>\n",
       "      <th>10</th>\n",
       "      <td>QPR</td>\n",
       "      <td>29</td>\n",
       "      <td>183</td>\n",
       "      <td>4.82</td>\n",
       "      <td>0.15</td>\n",
       "    </tr>\n",
       "    <tr>\n",
       "      <th>11</th>\n",
       "      <td>Reading</td>\n",
       "      <td>41</td>\n",
       "      <td>146</td>\n",
       "      <td>3.84</td>\n",
       "      <td>0.25</td>\n",
       "    </tr>\n",
       "    <tr>\n",
       "      <th>12</th>\n",
       "      <td>Southampton</td>\n",
       "      <td>46</td>\n",
       "      <td>207</td>\n",
       "      <td>5.45</td>\n",
       "      <td>0.21</td>\n",
       "    </tr>\n",
       "    <tr>\n",
       "      <th>13</th>\n",
       "      <td>Stoke City</td>\n",
       "      <td>33</td>\n",
       "      <td>144</td>\n",
       "      <td>3.79</td>\n",
       "      <td>0.21</td>\n",
       "    </tr>\n",
       "    <tr>\n",
       "      <th>14</th>\n",
       "      <td>Sunderland</td>\n",
       "      <td>39</td>\n",
       "      <td>164</td>\n",
       "      <td>4.32</td>\n",
       "      <td>0.21</td>\n",
       "    </tr>\n",
       "    <tr>\n",
       "      <th>15</th>\n",
       "      <td>Swansea City</td>\n",
       "      <td>47</td>\n",
       "      <td>209</td>\n",
       "      <td>5.50</td>\n",
       "      <td>0.22</td>\n",
       "    </tr>\n",
       "    <tr>\n",
       "      <th>16</th>\n",
       "      <td>Tottenham</td>\n",
       "      <td>62</td>\n",
       "      <td>284</td>\n",
       "      <td>7.47</td>\n",
       "      <td>0.22</td>\n",
       "    </tr>\n",
       "    <tr>\n",
       "      <th>17</th>\n",
       "      <td>West Brom</td>\n",
       "      <td>50</td>\n",
       "      <td>200</td>\n",
       "      <td>5.26</td>\n",
       "      <td>0.23</td>\n",
       "    </tr>\n",
       "    <tr>\n",
       "      <th>18</th>\n",
       "      <td>West Ham</td>\n",
       "      <td>43</td>\n",
       "      <td>206</td>\n",
       "      <td>5.42</td>\n",
       "      <td>0.19</td>\n",
       "    </tr>\n",
       "    <tr>\n",
       "      <th>19</th>\n",
       "      <td>Wigan Athletic</td>\n",
       "      <td>45</td>\n",
       "      <td>209</td>\n",
       "      <td>5.50</td>\n",
       "      <td>0.21</td>\n",
       "    </tr>\n",
       "  </tbody>\n",
       "</table>\n",
       "</div>"
      ],
      "text/plain": [
       "              Squad  Gls  SoT  SoT/90  G/SoT\n",
       "0           Arsenal   69  272    7.16   0.24\n",
       "1       Aston Villa   47  176    4.63   0.25\n",
       "2           Chelsea   71  257    6.76   0.24\n",
       "3           Everton   53  266    7.00   0.19\n",
       "4            Fulham   45  205    5.39   0.19\n",
       "5         Liverpool   67  297    7.82   0.21\n",
       "6   Manchester City   64  285    7.50   0.21\n",
       "7    Manchester Utd   80  243    6.39   0.31\n",
       "8     Newcastle Utd   43  208    5.47   0.19\n",
       "9      Norwich City   40  177    4.66   0.22\n",
       "10              QPR   29  183    4.82   0.15\n",
       "11          Reading   41  146    3.84   0.25\n",
       "12      Southampton   46  207    5.45   0.21\n",
       "13       Stoke City   33  144    3.79   0.21\n",
       "14       Sunderland   39  164    4.32   0.21\n",
       "15     Swansea City   47  209    5.50   0.22\n",
       "16        Tottenham   62  284    7.47   0.22\n",
       "17        West Brom   50  200    5.26   0.23\n",
       "18         West Ham   43  206    5.42   0.19\n",
       "19   Wigan Athletic   45  209    5.50   0.21"
      ]
     },
     "execution_count": 5,
     "metadata": {},
     "output_type": "execute_result"
    }
   ],
   "source": [
    "df"
   ]
  },
  {
   "cell_type": "code",
   "execution_count": 6,
   "id": "8fc1757b",
   "metadata": {},
   "outputs": [
    {
     "data": {
      "text/plain": [
       "['Gls', 'SoT', 'SoT/90', 'G/SoT']"
      ]
     },
     "execution_count": 6,
     "metadata": {},
     "output_type": "execute_result"
    }
   ],
   "source": [
    "min_range = []\n",
    "max_range = []\n",
    "\n",
    "#get parameters\n",
    "params = list(df.columns)\n",
    "params = params[1:]\n",
    "params"
   ]
  },
  {
   "cell_type": "code",
   "execution_count": 7,
   "id": "66376274",
   "metadata": {},
   "outputs": [],
   "source": [
    "#finding max and min Goals scored\n",
    "min_Gls = min(df[params]['Gls'])\n",
    "max_Gls = max(df[params]['Gls'])\n",
    "min_range.append(min_Gls)\n",
    "max_range.append(max_Gls)\n",
    "\n",
    "#finding max and min Shots on Target\n",
    "min_SoT = min(df[params]['SoT'])\n",
    "max_SoT = max(df[params]['SoT'])\n",
    "min_range.append(min_SoT)\n",
    "max_range.append(max_SoT)\n",
    "\n",
    "\n",
    "#finding max and min Shots on Target per 90\n",
    "min_SoTp90 = min(df[params]['SoT/90'])\n",
    "max_SoTp90 = max(df[params]['SoT/90'])\n",
    "min_range.append(min_SoTp90)\n",
    "max_range.append(max_SoTp90)\n",
    "\n",
    "\n",
    "#finding max and min Goals per Shots on Target\n",
    "min_GpSoT = min(df[params]['G/SoT'])\n",
    "max_GpSoT = max(df[params]['G/SoT'])\n",
    "min_range.append(min_GpSoT)\n",
    "max_range.append(max_GpSoT)\n"
   ]
  },
  {
   "cell_type": "code",
   "execution_count": 8,
   "id": "12390316",
   "metadata": {},
   "outputs": [],
   "source": [
    "df = df[df['Squad']=='Manchester Utd'].reset_index()"
   ]
  },
  {
   "cell_type": "code",
   "execution_count": 9,
   "id": "808ffee7",
   "metadata": {},
   "outputs": [
    {
     "data": {
      "text/html": [
       "<div>\n",
       "<style scoped>\n",
       "    .dataframe tbody tr th:only-of-type {\n",
       "        vertical-align: middle;\n",
       "    }\n",
       "\n",
       "    .dataframe tbody tr th {\n",
       "        vertical-align: top;\n",
       "    }\n",
       "\n",
       "    .dataframe thead th {\n",
       "        text-align: right;\n",
       "    }\n",
       "</style>\n",
       "<table border=\"1\" class=\"dataframe\">\n",
       "  <thead>\n",
       "    <tr style=\"text-align: right;\">\n",
       "      <th></th>\n",
       "      <th>index</th>\n",
       "      <th>Squad</th>\n",
       "      <th>Gls</th>\n",
       "      <th>SoT</th>\n",
       "      <th>SoT/90</th>\n",
       "      <th>G/SoT</th>\n",
       "    </tr>\n",
       "  </thead>\n",
       "  <tbody>\n",
       "    <tr>\n",
       "      <th>0</th>\n",
       "      <td>7</td>\n",
       "      <td>Manchester Utd</td>\n",
       "      <td>80</td>\n",
       "      <td>243</td>\n",
       "      <td>6.39</td>\n",
       "      <td>0.31</td>\n",
       "    </tr>\n",
       "  </tbody>\n",
       "</table>\n",
       "</div>"
      ],
      "text/plain": [
       "   index           Squad  Gls  SoT  SoT/90  G/SoT\n",
       "0      7  Manchester Utd   80  243    6.39   0.31"
      ]
     },
     "execution_count": 9,
     "metadata": {},
     "output_type": "execute_result"
    }
   ],
   "source": [
    "df"
   ]
  },
  {
   "cell_type": "code",
   "execution_count": 10,
   "id": "75566f06",
   "metadata": {},
   "outputs": [
    {
     "data": {
      "text/plain": [
       "[29, 144, 3.79, 0.15]"
      ]
     },
     "execution_count": 10,
     "metadata": {},
     "output_type": "execute_result"
    }
   ],
   "source": [
    "min_range"
   ]
  },
  {
   "cell_type": "code",
   "execution_count": 11,
   "id": "d4452d97",
   "metadata": {},
   "outputs": [
    {
     "data": {
      "text/plain": [
       "[80, 297, 7.82, 0.31]"
      ]
     },
     "execution_count": 11,
     "metadata": {},
     "output_type": "execute_result"
    }
   ],
   "source": [
    "max_range"
   ]
  },
  {
   "cell_type": "code",
   "execution_count": 12,
   "id": "53992090",
   "metadata": {},
   "outputs": [],
   "source": [
    "for x in range(len(df['Squad'])):\n",
    "    if df['Squad'][x] == 'Manchester Utd':\n",
    "        values = df.iloc[x].values.tolist()"
   ]
  },
  {
   "cell_type": "code",
   "execution_count": 13,
   "id": "d1833a35",
   "metadata": {},
   "outputs": [],
   "source": [
    "values = values[2:]"
   ]
  },
  {
   "cell_type": "code",
   "execution_count": 14,
   "id": "146882f4",
   "metadata": {},
   "outputs": [
    {
     "data": {
      "text/plain": [
       "[80, 243, 6.39, 0.31]"
      ]
     },
     "execution_count": 14,
     "metadata": {},
     "output_type": "execute_result"
    }
   ],
   "source": [
    "values"
   ]
  },
  {
   "cell_type": "code",
   "execution_count": 15,
   "id": "4865cc92",
   "metadata": {},
   "outputs": [],
   "source": [
    "#title \n",
    "\n",
    "title = dict(\n",
    "    title_name='Manchester United 14-15',\n",
    "    title_color = 'red',\n",
    "    subtitle_name = 'Shot Creation',\n",
    "    subtitle_color = 'black',\n",
    "\n",
    "    title_fontsize = 18,\n",
    "    subtitle_fontsize=15\n",
    ")\n",
    "\n",
    "endnote = 'Viz. by Chaitanya Shetty'"
   ]
  },
  {
   "cell_type": "code",
   "execution_count": 16,
   "id": "ffa03f10",
   "metadata": {},
   "outputs": [],
   "source": [
    "radar = Radar(params, min_range, max_range,\n",
    "              # whether to round any of the labels to integers instead of decimal places\n",
    "              round_int=[False]*4,\n",
    "              num_rings=3,  # the number of concentric circles (excluding center circle)\n",
    "              # if the ring_width is more than the center_circle_radius then\n",
    "              # the center circle radius will be wider than the width of the concentric circles\n",
    "              ring_width=1, center_circle_radius=1)"
   ]
  },
  {
   "cell_type": "code",
   "execution_count": 17,
   "id": "99846e59",
   "metadata": {},
   "outputs": [],
   "source": [
    "#We will use mplsoccer’s FontManager to load some fonts from Google Fonts. \n",
    "#We borrowed the FontManager from the ridge_map library.\n",
    "\n",
    "URL1 = ('https://github.com/googlefonts/SourceSerifProGFVersion/blob/main/'\n",
    "        'fonts/SourceSerifPro-Regular.ttf?raw=true')\n",
    "serif_regular = FontManager(URL1)\n",
    "URL2 = ('https://github.com/googlefonts/SourceSerifProGFVersion/blob/main/'\n",
    "        'fonts/SourceSerifPro-ExtraLight.ttf?raw=true')\n",
    "serif_extra_light = FontManager(URL2)\n",
    "URL3 = ('https://github.com/google/fonts/blob/main/ofl/rubikmonoone/'\n",
    "        'RubikMonoOne-Regular.ttf?raw=true')\n",
    "rubik_regular = FontManager(URL3)\n",
    "URL4 = 'https://github.com/googlefonts/roboto/blob/main/src/hinted/Roboto-Thin.ttf?raw=true'\n",
    "robotto_thin = FontManager(URL4)\n",
    "URL5 = 'https://github.com/googlefonts/roboto/blob/main/src/hinted/Roboto-Regular.ttf?raw=true'\n",
    "robotto_regular = FontManager(URL5)\n",
    "URL6 = 'https://github.com/googlefonts/roboto/blob/main/src/hinted/Roboto-Bold.ttf?raw=true'\n",
    "robotto_bold = FontManager(URL6)"
   ]
  },
  {
   "cell_type": "code",
   "execution_count": 18,
   "id": "259aa8ac",
   "metadata": {},
   "outputs": [
    {
     "data": {
      "image/png": "[encoded data removed]",
      "text/plain": [
       "<Figure size 864x864 with 1 Axes>"
      ]
     },
     "metadata": {},
     "output_type": "display_data"
    }
   ],
   "source": [
    "fig, ax = radar.setup_axis()  # format axis as a radar\n",
    "rings_inner = radar.draw_circles(ax=ax, facecolor='#ffb2b2', edgecolor='#fc5f5f')  # draw circles\n",
    "radar_output = radar.draw_radar(values, ax=ax,\n",
    "                                kwargs_radar={'facecolor': '#aa65b2'},\n",
    "                                kwargs_rings={'facecolor': '#66d8ba'})  # draw the radar\n",
    "radar_poly, rings_outer, vertices = radar_output\n",
    "range_labels = radar.draw_range_labels(ax=ax, fontsize=15,\n",
    "                                       fontproperties=robotto_thin.prop)  # draw the range labels\n",
    "param_labels = radar.draw_param_labels(ax=ax, fontsize=15,\n",
    "                                       fontproperties=robotto_regular.prop)  # draw the param labels"
   ]
  },
  {
   "cell_type": "code",
   "execution_count": null,
   "id": "a05688ed",
   "metadata": {},
   "outputs": [],
   "source": []
  }
 ],
 "metadata": {
  "kernelspec": {
   "display_name": "Python 3 (ipykernel)",
   "language": "python",
   "name": "python3"
  },
  "language_info": {
   "codemirror_mode": {
    "name": "ipython",
    "version": 3
   },
   "file_extension": ".py",
   "mimetype": "text/x-python",
   "name": "python",
   "nbconvert_exporter": "python",
   "pygments_lexer": "ipython3",
   "version": "3.7.4"
  }
 },
 "nbformat": 4,
 "nbformat_minor": 5
}
