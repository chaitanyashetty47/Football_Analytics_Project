{
 "cells": [
  {
   "cell_type": "code",
   "execution_count": 1,
   "id": "d7b4d6c2",
   "metadata": {},
   "outputs": [],
   "source": [
    "import pandas as pd\n",
    "import matplotlib.pyplot as plt\n",
    "from soccerplots.radar_chart import Radar\n",
    "from mplsoccer import Radar, FontManager\n",
    "import matplotlib.pyplot as plt"
   ]
  },
  {
   "cell_type": "code",
   "execution_count": 2,
   "id": "baa6d589",
   "metadata": {},
   "outputs": [],
   "source": [
    "df = pd.read_csv('C:\\\\Users\\\\Amin\\\\Documents\\\\manutd(2012-2021)\\\\utdpass(12-13).csv')"
   ]
  },
  {
   "cell_type": "code",
   "execution_count": 3,
   "id": "4485cf8a",
   "metadata": {
    "scrolled": true
   },
   "outputs": [
    {
     "data": {
      "text/html": [
       "<div>\n",
       "<style scoped>\n",
       "    .dataframe tbody tr th:only-of-type {\n",
       "        vertical-align: middle;\n",
       "    }\n",
       "\n",
       "    .dataframe tbody tr th {\n",
       "        vertical-align: top;\n",
       "    }\n",
       "\n",
       "    .dataframe thead th {\n",
       "        text-align: right;\n",
       "    }\n",
       "</style>\n",
       "<table border=\"1\" class=\"dataframe\">\n",
       "  <thead>\n",
       "    <tr style=\"text-align: right;\">\n",
       "      <th></th>\n",
       "      <th>Squad</th>\n",
       "      <th>Gls</th>\n",
       "      <th>Ast</th>\n",
       "      <th>G-PK</th>\n",
       "      <th>Gls(p90)</th>\n",
       "      <th>Ast(p90)</th>\n",
       "      <th>G+A(p90)</th>\n",
       "      <th>G-PK(p90)</th>\n",
       "      <th>G+A-PK(p90)</th>\n",
       "    </tr>\n",
       "  </thead>\n",
       "  <tbody>\n",
       "    <tr>\n",
       "      <th>0</th>\n",
       "      <td>Arsenal</td>\n",
       "      <td>69</td>\n",
       "      <td>54</td>\n",
       "      <td>64</td>\n",
       "      <td>1.82</td>\n",
       "      <td>1.42</td>\n",
       "      <td>3.24</td>\n",
       "      <td>1.68</td>\n",
       "      <td>3.11</td>\n",
       "    </tr>\n",
       "    <tr>\n",
       "      <th>1</th>\n",
       "      <td>Aston Villa</td>\n",
       "      <td>47</td>\n",
       "      <td>34</td>\n",
       "      <td>44</td>\n",
       "      <td>1.24</td>\n",
       "      <td>0.89</td>\n",
       "      <td>2.13</td>\n",
       "      <td>1.16</td>\n",
       "      <td>2.05</td>\n",
       "    </tr>\n",
       "    <tr>\n",
       "      <th>2</th>\n",
       "      <td>Chelsea</td>\n",
       "      <td>71</td>\n",
       "      <td>50</td>\n",
       "      <td>62</td>\n",
       "      <td>1.87</td>\n",
       "      <td>1.32</td>\n",
       "      <td>3.18</td>\n",
       "      <td>1.63</td>\n",
       "      <td>2.95</td>\n",
       "    </tr>\n",
       "    <tr>\n",
       "      <th>3</th>\n",
       "      <td>Everton</td>\n",
       "      <td>53</td>\n",
       "      <td>42</td>\n",
       "      <td>51</td>\n",
       "      <td>1.39</td>\n",
       "      <td>1.11</td>\n",
       "      <td>2.50</td>\n",
       "      <td>1.34</td>\n",
       "      <td>2.45</td>\n",
       "    </tr>\n",
       "    <tr>\n",
       "      <th>4</th>\n",
       "      <td>Fulham</td>\n",
       "      <td>45</td>\n",
       "      <td>32</td>\n",
       "      <td>39</td>\n",
       "      <td>1.18</td>\n",
       "      <td>0.84</td>\n",
       "      <td>2.03</td>\n",
       "      <td>1.03</td>\n",
       "      <td>1.87</td>\n",
       "    </tr>\n",
       "  </tbody>\n",
       "</table>\n",
       "</div>"
      ],
      "text/plain": [
       "         Squad  Gls  Ast  G-PK  Gls(p90)  Ast(p90)  G+A(p90)  G-PK(p90)  \\\n",
       "0      Arsenal   69   54    64      1.82      1.42      3.24       1.68   \n",
       "1  Aston Villa   47   34    44      1.24      0.89      2.13       1.16   \n",
       "2      Chelsea   71   50    62      1.87      1.32      3.18       1.63   \n",
       "3      Everton   53   42    51      1.39      1.11      2.50       1.34   \n",
       "4       Fulham   45   32    39      1.18      0.84      2.03       1.03   \n",
       "\n",
       "   G+A-PK(p90)  \n",
       "0         3.11  \n",
       "1         2.05  \n",
       "2         2.95  \n",
       "3         2.45  \n",
       "4         1.87  "
      ]
     },
     "execution_count": 3,
     "metadata": {},
     "output_type": "execute_result"
    }
   ],
   "source": [
    "df.head()"
   ]
  },
  {
   "cell_type": "code",
   "execution_count": 4,
   "id": "22b934a5",
   "metadata": {},
   "outputs": [],
   "source": [
    "#FINDING MAX AND MIN GOALS\n",
    "max_Gls=df['Gls'].max()\n",
    "min_Gls=df['Gls'].min()"
   ]
  },
  {
   "cell_type": "code",
   "execution_count": 5,
   "id": "48ffb6cb",
   "metadata": {},
   "outputs": [],
   "source": [
    "#FINDING MAX AND MIN Assists\n",
    "max_A=df['Ast'].max()\n",
    "min_A=df['Ast'].min()"
   ]
  },
  {
   "cell_type": "code",
   "execution_count": 6,
   "id": "f18d8025",
   "metadata": {},
   "outputs": [],
   "source": [
    "#FINDING MAX AND MIN G-PK\n",
    "max_GmPK=df['G-PK'].max()\n",
    "min_GmPK=df['G-PK'].min()"
   ]
  },
  {
   "cell_type": "code",
   "execution_count": 7,
   "id": "c5d98376",
   "metadata": {},
   "outputs": [],
   "source": [
    "#FINDING Gls(p90)\n",
    "max_Gp90=df['Gls(p90)'].max()\n",
    "min_Gp90=df['Gls(p90)'].min()"
   ]
  },
  {
   "cell_type": "code",
   "execution_count": 8,
   "id": "6e9cf3fa",
   "metadata": {},
   "outputs": [],
   "source": [
    "#FINDING Ast(p90)\n",
    "max_Ap90=df['Ast(p90)'].max()\n",
    "min_Ap90=df['Ast(p90)'].min()"
   ]
  },
  {
   "cell_type": "code",
   "execution_count": 9,
   "id": "30760f9e",
   "metadata": {},
   "outputs": [],
   "source": [
    "#FINDING G+A(p90)\n",
    "max_GAp90=df['G+A(p90)'].max()\n",
    "min_GAp90=df['G+A(p90)'].min()"
   ]
  },
  {
   "cell_type": "code",
   "execution_count": 10,
   "id": "3da6e165",
   "metadata": {
    "scrolled": true
   },
   "outputs": [],
   "source": [
    "#FINDING G-PK(p90)\n",
    "max_GmPK90=df['G-PK(p90)'].max()\n",
    "min_GmPK90=df['G-PK(p90)'].min()\n"
   ]
  },
  {
   "cell_type": "code",
   "execution_count": 11,
   "id": "25fb5536",
   "metadata": {},
   "outputs": [],
   "source": [
    "#FINDING G+A-PK(p90)\n",
    "max_GAPp90=df['G+A-PK(p90)'].max()\n",
    "min_GAPp90=df['G+A-PK(p90)'].min()"
   ]
  },
  {
   "cell_type": "code",
   "execution_count": 12,
   "id": "ccfe2c56",
   "metadata": {},
   "outputs": [],
   "source": [
    "df = df[df['Squad']=='Manchester Utd'].reset_index()"
   ]
  },
  {
   "cell_type": "code",
   "execution_count": 13,
   "id": "0a5fecdb",
   "metadata": {},
   "outputs": [
    {
     "data": {
      "text/html": [
       "<div>\n",
       "<style scoped>\n",
       "    .dataframe tbody tr th:only-of-type {\n",
       "        vertical-align: middle;\n",
       "    }\n",
       "\n",
       "    .dataframe tbody tr th {\n",
       "        vertical-align: top;\n",
       "    }\n",
       "\n",
       "    .dataframe thead th {\n",
       "        text-align: right;\n",
       "    }\n",
       "</style>\n",
       "<table border=\"1\" class=\"dataframe\">\n",
       "  <thead>\n",
       "    <tr style=\"text-align: right;\">\n",
       "      <th></th>\n",
       "      <th>index</th>\n",
       "      <th>Squad</th>\n",
       "      <th>Gls</th>\n",
       "      <th>Ast</th>\n",
       "      <th>G-PK</th>\n",
       "      <th>Gls(p90)</th>\n",
       "      <th>Ast(p90)</th>\n",
       "      <th>G+A(p90)</th>\n",
       "      <th>G-PK(p90)</th>\n",
       "      <th>G+A-PK(p90)</th>\n",
       "    </tr>\n",
       "  </thead>\n",
       "  <tbody>\n",
       "    <tr>\n",
       "      <th>0</th>\n",
       "      <td>7</td>\n",
       "      <td>Manchester Utd</td>\n",
       "      <td>80</td>\n",
       "      <td>63</td>\n",
       "      <td>76</td>\n",
       "      <td>2.11</td>\n",
       "      <td>1.66</td>\n",
       "      <td>3.76</td>\n",
       "      <td>2.0</td>\n",
       "      <td>3.66</td>\n",
       "    </tr>\n",
       "  </tbody>\n",
       "</table>\n",
       "</div>"
      ],
      "text/plain": [
       "   index           Squad  Gls  Ast  G-PK  Gls(p90)  Ast(p90)  G+A(p90)  \\\n",
       "0      7  Manchester Utd   80   63    76      2.11      1.66      3.76   \n",
       "\n",
       "   G-PK(p90)  G+A-PK(p90)  \n",
       "0        2.0         3.66  "
      ]
     },
     "execution_count": 13,
     "metadata": {},
     "output_type": "execute_result"
    }
   ],
   "source": [
    "df"
   ]
  },
  {
   "cell_type": "code",
   "execution_count": 14,
   "id": "149f16e2",
   "metadata": {},
   "outputs": [
    {
     "data": {
      "text/plain": [
       "['Gls',\n",
       " 'Ast',\n",
       " 'G-PK',\n",
       " 'Gls(p90)',\n",
       " 'Ast(p90)',\n",
       " 'G+A(p90)',\n",
       " 'G-PK(p90)',\n",
       " 'G+A-PK(p90)']"
      ]
     },
     "execution_count": 14,
     "metadata": {},
     "output_type": "execute_result"
    }
   ],
   "source": [
    "#get parameters\n",
    "params = list(df.columns)\n",
    "params = params[2:]\n",
    "params"
   ]
  },
  {
   "cell_type": "code",
   "execution_count": 15,
   "id": "c71dc95e",
   "metadata": {},
   "outputs": [],
   "source": [
    "#Append values for min range\n",
    "min_range= []\n",
    "max_range= []\n",
    "\n",
    "min_range.append(min_Gls)\n",
    "min_range.append(min_A)\n",
    "min_range.append(min_GmPK)\n",
    "min_range.append(min_Gp90)\n",
    "min_range.append(min_Ap90)\n",
    "min_range.append(min_GAp90)\n",
    "min_range.append(min_GmPK90)\n",
    "min_range.append(min_GAPp90)"
   ]
  },
  {
   "cell_type": "code",
   "execution_count": 16,
   "id": "316dd138",
   "metadata": {},
   "outputs": [
    {
     "data": {
      "text/plain": [
       "[29, 22, 28, 0.76, 0.58, 1.34, 0.74, 1.32]"
      ]
     },
     "execution_count": 16,
     "metadata": {},
     "output_type": "execute_result"
    }
   ],
   "source": [
    "min_range"
   ]
  },
  {
   "cell_type": "code",
   "execution_count": 17,
   "id": "680710b0",
   "metadata": {},
   "outputs": [],
   "source": [
    "#Append values for max range\n",
    "max_range.append(max_Gls)\n",
    "max_range.append(max_A)\n",
    "max_range.append(max_GmPK)\n",
    "max_range.append(max_Gp90)\n",
    "max_range.append(max_Ap90)\n",
    "max_range.append(max_GAp90)\n",
    "max_range.append(max_GmPK90)\n",
    "max_range.append(max_GAPp90)"
   ]
  },
  {
   "cell_type": "code",
   "execution_count": 18,
   "id": "c1b25893",
   "metadata": {},
   "outputs": [
    {
     "data": {
      "text/plain": [
       "[80, 63, 76, 2.11, 1.66, 3.76, 2.0, 3.66]"
      ]
     },
     "execution_count": 18,
     "metadata": {},
     "output_type": "execute_result"
    }
   ],
   "source": [
    "max_range"
   ]
  },
  {
   "cell_type": "code",
   "execution_count": 19,
   "id": "e9b1bc70",
   "metadata": {},
   "outputs": [],
   "source": [
    "for x in range(len(df['Squad'])):\n",
    "    if df['Squad'][x] == 'Manchester Utd':\n",
    "        values = df.iloc[x].values.tolist()\n",
    "        \n",
    "values = values[2:]"
   ]
  },
  {
   "cell_type": "code",
   "execution_count": 20,
   "id": "dce4db82",
   "metadata": {},
   "outputs": [
    {
     "data": {
      "text/plain": [
       "[80, 63, 76, 2.11, 1.66, 3.76, 2.0, 3.66]"
      ]
     },
     "execution_count": 20,
     "metadata": {},
     "output_type": "execute_result"
    }
   ],
   "source": [
    "values"
   ]
  },
  {
   "cell_type": "code",
   "execution_count": 21,
   "id": "b2097a51",
   "metadata": {},
   "outputs": [],
   "source": [
    "radar = Radar(params, min_range, max_range,\n",
    "              # whether to round any of the labels to integers instead of decimal places\n",
    "              round_int=[False]*8,\n",
    "              num_rings=4,  # the number of concentric circles (excluding center circle)\n",
    "              # if the ring_width is more than the center_circle_radius then\n",
    "              # the center circle radius will be wider than the width of the concentric circles\n",
    "              ring_width=1, center_circle_radius=1)"
   ]
  },
  {
   "cell_type": "code",
   "execution_count": 22,
   "id": "a67081a2",
   "metadata": {},
   "outputs": [],
   "source": [
    "#We will use mplsoccer’s FontManager to load some fonts from Google Fonts. \n",
    "#We borrowed the FontManager from the ridge_map library.\n",
    "\n",
    "URL1 = ('https://github.com/googlefonts/SourceSerifProGFVersion/blob/main/'\n",
    "        'fonts/SourceSerifPro-Regular.ttf?raw=true')\n",
    "serif_regular = FontManager(URL1)\n",
    "URL2 = ('https://github.com/googlefonts/SourceSerifProGFVersion/blob/main/'\n",
    "        'fonts/SourceSerifPro-ExtraLight.ttf?raw=true')\n",
    "serif_extra_light = FontManager(URL2)\n",
    "URL3 = ('https://github.com/google/fonts/blob/main/ofl/rubikmonoone/'\n",
    "        'RubikMonoOne-Regular.ttf?raw=true')\n",
    "rubik_regular = FontManager(URL3)\n",
    "URL4 = 'https://github.com/googlefonts/roboto/blob/main/src/hinted/Roboto-Thin.ttf?raw=true'\n",
    "robotto_thin = FontManager(URL4)\n",
    "URL5 = 'https://github.com/googlefonts/roboto/blob/main/src/hinted/Roboto-Regular.ttf?raw=true'\n",
    "robotto_regular = FontManager(URL5)\n",
    "URL6 = 'https://github.com/googlefonts/roboto/blob/main/src/hinted/Roboto-Bold.ttf?raw=true'\n",
    "robotto_bold = FontManager(URL6)"
   ]
  },
  {
   "cell_type": "code",
   "execution_count": 23,
   "id": "d1a48bcc",
   "metadata": {},
   "outputs": [
    {
     "data": {
      "image/png": "[encoded data removed]",
      "text/plain": [
       "<Figure size 864x864 with 1 Axes>"
      ]
     },
     "metadata": {},
     "output_type": "display_data"
    }
   ],
   "source": [
    "fig, ax = radar.setup_axis()  # format axis as a radar\n",
    "rings_inner = radar.draw_circles(ax=ax, facecolor='#3F31C4', edgecolor='#fc5f5f')  # draw circles\n",
    "radar_output = radar.draw_radar(values, ax=ax,\n",
    "                                kwargs_radar={'facecolor': '#ffff00'},\n",
    "                                kwargs_rings={'facecolor': '#ff0000'})  # draw the radar\n",
    "radar_poly, rings_outer, vertices = radar_output\n",
    "range_labels = radar.draw_range_labels(ax=ax, fontsize=15,\n",
    "                                       fontproperties=robotto_regular.prop)  # draw the range labels\n",
    "param_labels = radar.draw_param_labels(ax=ax, fontsize=20,\n",
    "                                       fontproperties=robotto_regular.prop,color='#ff0000')  # draw the param labels"
   ]
  },
  {
   "cell_type": "code",
   "execution_count": null,
   "id": "bca7d25a",
   "metadata": {},
   "outputs": [],
   "source": []
  }
 ],
 "metadata": {
  "kernelspec": {
   "display_name": "Python 3 (ipykernel)",
   "language": "python",
   "name": "python3"
  },
  "language_info": {
   "codemirror_mode": {
    "name": "ipython",
    "version": 3
   },
   "file_extension": ".py",
   "mimetype": "text/x-python",
   "name": "python",
   "nbconvert_exporter": "python",
   "pygments_lexer": "ipython3",
   "version": "3.7.4"
  }
 },
 "nbformat": 4,
 "nbformat_minor": 5
}
